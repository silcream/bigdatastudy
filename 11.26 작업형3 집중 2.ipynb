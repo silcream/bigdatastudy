{
 "cells": [
  {
   "cell_type": "markdown",
   "id": "0983c41a",
   "metadata": {},
   "source": [
    "특정 집단의 학습 전후 시험 성적 변화를 나타낸 데이터이다. 시험 전과 후에 차이가 있는지 검정하라"
   ]
  },
  {
   "cell_type": "code",
   "execution_count": 2,
   "id": "7f64f94c",
   "metadata": {},
   "outputs": [],
   "source": [
    "import pandas as pd\n",
    "from scipy.stats import ttest_1samp, ttest_ind, ttest_rel, shapiro, wilcoxon, f_oneway, chi2_contingency, anderson, levene, bartlett"
   ]
  },
  {
   "cell_type": "code",
   "execution_count": 4,
   "id": "23c932a2",
   "metadata": {},
   "outputs": [
    {
     "data": {
      "text/html": [
       "<div>\n",
       "<style scoped>\n",
       "    .dataframe tbody tr th:only-of-type {\n",
       "        vertical-align: middle;\n",
       "    }\n",
       "\n",
       "    .dataframe tbody tr th {\n",
       "        vertical-align: top;\n",
       "    }\n",
       "\n",
       "    .dataframe thead th {\n",
       "        text-align: right;\n",
       "    }\n",
       "</style>\n",
       "<table border=\"1\" class=\"dataframe\">\n",
       "  <thead>\n",
       "    <tr style=\"text-align: right;\">\n",
       "      <th></th>\n",
       "      <th>before</th>\n",
       "      <th>after</th>\n",
       "    </tr>\n",
       "  </thead>\n",
       "  <tbody>\n",
       "    <tr>\n",
       "      <th>0</th>\n",
       "      <td>153</td>\n",
       "      <td>162</td>\n",
       "    </tr>\n",
       "    <tr>\n",
       "      <th>1</th>\n",
       "      <td>153</td>\n",
       "      <td>163</td>\n",
       "    </tr>\n",
       "    <tr>\n",
       "      <th>2</th>\n",
       "      <td>158</td>\n",
       "      <td>159</td>\n",
       "    </tr>\n",
       "    <tr>\n",
       "      <th>3</th>\n",
       "      <td>157</td>\n",
       "      <td>158</td>\n",
       "    </tr>\n",
       "    <tr>\n",
       "      <th>4</th>\n",
       "      <td>167</td>\n",
       "      <td>160</td>\n",
       "    </tr>\n",
       "  </tbody>\n",
       "</table>\n",
       "</div>"
      ],
      "text/plain": [
       "   before  after\n",
       "0     153    162\n",
       "1     153    163\n",
       "2     158    159\n",
       "3     157    158\n",
       "4     167    160"
      ]
     },
     "execution_count": 4,
     "metadata": {},
     "output_type": "execute_result"
    }
   ],
   "source": [
    "df = pd.read_csv('https://raw.githubusercontent.com/Datamanim/datarepo/main/scipy/rel1.csv')\n",
    "df.head()"
   ]
  },
  {
   "cell_type": "code",
   "execution_count": 5,
   "id": "5ef20135",
   "metadata": {},
   "outputs": [],
   "source": [
    "before = df['before']\n",
    "after = df['after']"
   ]
  },
  {
   "cell_type": "code",
   "execution_count": 8,
   "id": "ed25d9c5",
   "metadata": {},
   "outputs": [
    {
     "name": "stdout",
     "output_type": "stream",
     "text": [
      "ShapiroResult(statistic=0.9173726439476013, pvalue=0.001897332607768476) ShapiroResult(statistic=0.9448971152305603, pvalue=0.021141061559319496)\n"
     ]
    }
   ],
   "source": [
    "print(shapiro(before), shapiro(after))"
   ]
  },
  {
   "cell_type": "code",
   "execution_count": 9,
   "id": "c4aa157f",
   "metadata": {},
   "outputs": [],
   "source": [
    "# 정규성을 만족하지 않음"
   ]
  },
  {
   "cell_type": "code",
   "execution_count": 11,
   "id": "b8d94550",
   "metadata": {},
   "outputs": [
    {
     "data": {
      "text/plain": [
       "WilcoxonResult(statistic=437.0, pvalue=0.12098409484052809)"
      ]
     },
     "execution_count": 11,
     "metadata": {},
     "output_type": "execute_result"
    }
   ],
   "source": [
    "wilcoxon(before, after)"
   ]
  },
  {
   "cell_type": "code",
   "execution_count": 12,
   "id": "e765e935",
   "metadata": {},
   "outputs": [],
   "source": [
    "# p>0.05 -> 귀무가설 기각 불가 -> 차이가 없다"
   ]
  },
  {
   "cell_type": "markdown",
   "id": "417094be",
   "metadata": {},
   "source": [
    "한 기계 부품의 rpm 수치를 두가지 다른 상황에서 측정했다.(총 70세트) b 상황이 a 상황보다 rpm값이 높다고 말할 수 있는지 검정하라"
   ]
  },
  {
   "cell_type": "code",
   "execution_count": 13,
   "id": "21d2ad98",
   "metadata": {},
   "outputs": [
    {
     "data": {
      "text/html": [
       "<div>\n",
       "<style scoped>\n",
       "    .dataframe tbody tr th:only-of-type {\n",
       "        vertical-align: middle;\n",
       "    }\n",
       "\n",
       "    .dataframe tbody tr th {\n",
       "        vertical-align: top;\n",
       "    }\n",
       "\n",
       "    .dataframe thead th {\n",
       "        text-align: right;\n",
       "    }\n",
       "</style>\n",
       "<table border=\"1\" class=\"dataframe\">\n",
       "  <thead>\n",
       "    <tr style=\"text-align: right;\">\n",
       "      <th></th>\n",
       "      <th>rpm</th>\n",
       "      <th>group</th>\n",
       "    </tr>\n",
       "  </thead>\n",
       "  <tbody>\n",
       "    <tr>\n",
       "      <th>0</th>\n",
       "      <td>474.551593</td>\n",
       "      <td>a</td>\n",
       "    </tr>\n",
       "    <tr>\n",
       "      <th>1</th>\n",
       "      <td>450.548420</td>\n",
       "      <td>a</td>\n",
       "    </tr>\n",
       "    <tr>\n",
       "      <th>2</th>\n",
       "      <td>563.720934</td>\n",
       "      <td>a</td>\n",
       "    </tr>\n",
       "    <tr>\n",
       "      <th>3</th>\n",
       "      <td>506.886966</td>\n",
       "      <td>a</td>\n",
       "    </tr>\n",
       "    <tr>\n",
       "      <th>4</th>\n",
       "      <td>471.724049</td>\n",
       "      <td>a</td>\n",
       "    </tr>\n",
       "    <tr>\n",
       "      <th>...</th>\n",
       "      <td>...</td>\n",
       "      <td>...</td>\n",
       "    </tr>\n",
       "    <tr>\n",
       "      <th>135</th>\n",
       "      <td>508.802475</td>\n",
       "      <td>b</td>\n",
       "    </tr>\n",
       "    <tr>\n",
       "      <th>136</th>\n",
       "      <td>485.981627</td>\n",
       "      <td>b</td>\n",
       "    </tr>\n",
       "    <tr>\n",
       "      <th>137</th>\n",
       "      <td>499.289525</td>\n",
       "      <td>b</td>\n",
       "    </tr>\n",
       "    <tr>\n",
       "      <th>138</th>\n",
       "      <td>520.895380</td>\n",
       "      <td>b</td>\n",
       "    </tr>\n",
       "    <tr>\n",
       "      <th>139</th>\n",
       "      <td>506.458813</td>\n",
       "      <td>b</td>\n",
       "    </tr>\n",
       "  </tbody>\n",
       "</table>\n",
       "<p>140 rows × 2 columns</p>\n",
       "</div>"
      ],
      "text/plain": [
       "            rpm group\n",
       "0    474.551593     a\n",
       "1    450.548420     a\n",
       "2    563.720934     a\n",
       "3    506.886966     a\n",
       "4    471.724049     a\n",
       "..          ...   ...\n",
       "135  508.802475     b\n",
       "136  485.981627     b\n",
       "137  499.289525     b\n",
       "138  520.895380     b\n",
       "139  506.458813     b\n",
       "\n",
       "[140 rows x 2 columns]"
      ]
     },
     "execution_count": 13,
     "metadata": {},
     "output_type": "execute_result"
    }
   ],
   "source": [
    "df = pd.read_csv('https://raw.githubusercontent.com/Datamanim/datarepo/main/scipy/rel4.csv')\n",
    "df"
   ]
  },
  {
   "cell_type": "code",
   "execution_count": 14,
   "id": "26fc87fc",
   "metadata": {},
   "outputs": [],
   "source": [
    "arpm = df[df['group'] == 'a'].rpm\n",
    "brpm = df[df['group'] == 'b'].rpm"
   ]
  },
  {
   "cell_type": "code",
   "execution_count": 15,
   "id": "b51dfee9",
   "metadata": {},
   "outputs": [
    {
     "name": "stdout",
     "output_type": "stream",
     "text": [
      "ShapiroResult(statistic=0.9907213449478149, pvalue=0.8884111046791077) ShapiroResult(statistic=0.984674870967865, pvalue=0.5505106449127197)\n"
     ]
    }
   ],
   "source": [
    "print(shapiro(arpm), shapiro(brpm))"
   ]
  },
  {
   "cell_type": "code",
   "execution_count": 16,
   "id": "121ef7a7",
   "metadata": {},
   "outputs": [],
   "source": [
    "# p > 0.05 -> 둘 다 정규성을 만족"
   ]
  },
  {
   "cell_type": "code",
   "execution_count": 17,
   "id": "221127d5",
   "metadata": {},
   "outputs": [
    {
     "data": {
      "text/plain": [
       "LeveneResult(statistic=0.06716114122680159, pvalue=0.7959020864923277)"
      ]
     },
     "execution_count": 17,
     "metadata": {},
     "output_type": "execute_result"
    }
   ],
   "source": [
    "levene(arpm, brpm)"
   ]
  },
  {
   "cell_type": "code",
   "execution_count": 18,
   "id": "7fd391a7",
   "metadata": {},
   "outputs": [],
   "source": [
    "# levene > 0.05 -> 등분산성을 만족"
   ]
  },
  {
   "cell_type": "code",
   "execution_count": 22,
   "id": "dcf40b41",
   "metadata": {},
   "outputs": [
    {
     "data": {
      "text/plain": [
       "Ttest_relResult(statistic=-1.9018108294460812, pvalue=0.9693143365355352)"
      ]
     },
     "execution_count": 22,
     "metadata": {},
     "output_type": "execute_result"
    }
   ],
   "source": [
    "ttest_rel(arpm, brpm, alternative = 'greater')"
   ]
  },
  {
   "cell_type": "code",
   "execution_count": 23,
   "id": "a520b2bb",
   "metadata": {},
   "outputs": [],
   "source": [
    "# p > 0.05 -> 귀무가설 기각할 수 없음"
   ]
  },
  {
   "cell_type": "code",
   "execution_count": 24,
   "id": "4e0bb433",
   "metadata": {},
   "outputs": [],
   "source": [
    "# a<=b 를 기각할 수 없다 -> a<=b"
   ]
  },
  {
   "cell_type": "markdown",
   "id": "9aaf455b",
   "metadata": {},
   "source": [
    "## 카이제곱 검정 (교차분석)"
   ]
  },
  {
   "cell_type": "markdown",
   "id": "abe1543a",
   "metadata": {},
   "source": [
    "144회 주사위를 던졌을때, 각 눈금별로 나온 횟수를 나타낸다. 이 데이터는 주사위의 분포에서 나올 가능성이 있는지 검정하라"
   ]
  },
  {
   "cell_type": "code",
   "execution_count": 25,
   "id": "fbf98cff",
   "metadata": {},
   "outputs": [
    {
     "data": {
      "text/html": [
       "<div>\n",
       "<style scoped>\n",
       "    .dataframe tbody tr th:only-of-type {\n",
       "        vertical-align: middle;\n",
       "    }\n",
       "\n",
       "    .dataframe tbody tr th {\n",
       "        vertical-align: top;\n",
       "    }\n",
       "\n",
       "    .dataframe thead th {\n",
       "        text-align: right;\n",
       "    }\n",
       "</style>\n",
       "<table border=\"1\" class=\"dataframe\">\n",
       "  <thead>\n",
       "    <tr style=\"text-align: right;\">\n",
       "      <th></th>\n",
       "      <th>dice_number</th>\n",
       "      <th>counts</th>\n",
       "    </tr>\n",
       "  </thead>\n",
       "  <tbody>\n",
       "    <tr>\n",
       "      <th>0</th>\n",
       "      <td>1</td>\n",
       "      <td>24</td>\n",
       "    </tr>\n",
       "    <tr>\n",
       "      <th>1</th>\n",
       "      <td>2</td>\n",
       "      <td>20</td>\n",
       "    </tr>\n",
       "    <tr>\n",
       "      <th>2</th>\n",
       "      <td>3</td>\n",
       "      <td>28</td>\n",
       "    </tr>\n",
       "    <tr>\n",
       "      <th>3</th>\n",
       "      <td>4</td>\n",
       "      <td>22</td>\n",
       "    </tr>\n",
       "    <tr>\n",
       "      <th>4</th>\n",
       "      <td>5</td>\n",
       "      <td>28</td>\n",
       "    </tr>\n",
       "    <tr>\n",
       "      <th>5</th>\n",
       "      <td>6</td>\n",
       "      <td>22</td>\n",
       "    </tr>\n",
       "  </tbody>\n",
       "</table>\n",
       "</div>"
      ],
      "text/plain": [
       "   dice_number  counts\n",
       "0            1      24\n",
       "1            2      20\n",
       "2            3      28\n",
       "3            4      22\n",
       "4            5      28\n",
       "5            6      22"
      ]
     },
     "execution_count": 25,
     "metadata": {},
     "output_type": "execute_result"
    }
   ],
   "source": [
    "df = pd.read_csv('https://raw.githubusercontent.com/Datamanim/datarepo/main/scipy/dice.csv')\n",
    "df"
   ]
  },
  {
   "cell_type": "code",
   "execution_count": 26,
   "id": "710cf8b9",
   "metadata": {},
   "outputs": [],
   "source": [
    "from scipy.stats import chisquare"
   ]
  },
  {
   "cell_type": "code",
   "execution_count": 27,
   "id": "da234230",
   "metadata": {},
   "outputs": [
    {
     "data": {
      "text/plain": [
       "Power_divergenceResult(statistic=2.333333333333333, pvalue=0.8013589222076911)"
      ]
     },
     "execution_count": 27,
     "metadata": {},
     "output_type": "execute_result"
    }
   ],
   "source": [
    "df['expected'] = (df['counts'].sum()/6).astype('int')\n",
    "chisquare(df.counts, df.expected)"
   ]
  },
  {
   "cell_type": "code",
   "execution_count": 28,
   "id": "36b4bb05",
   "metadata": {},
   "outputs": [],
   "source": [
    "# 데이터는 주사위의 분포에서 나올 가능성이 있다를 기각할 수 없음"
   ]
  },
  {
   "cell_type": "code",
   "execution_count": null,
   "id": "a5dc33d3",
   "metadata": {},
   "outputs": [],
   "source": []
  }
 ],
 "metadata": {
  "kernelspec": {
   "display_name": "Python 3 (ipykernel)",
   "language": "python",
   "name": "python3"
  },
  "language_info": {
   "codemirror_mode": {
    "name": "ipython",
    "version": 3
   },
   "file_extension": ".py",
   "mimetype": "text/x-python",
   "name": "python",
   "nbconvert_exporter": "python",
   "pygments_lexer": "ipython3",
   "version": "3.7.15"
  }
 },
 "nbformat": 4,
 "nbformat_minor": 5
}
