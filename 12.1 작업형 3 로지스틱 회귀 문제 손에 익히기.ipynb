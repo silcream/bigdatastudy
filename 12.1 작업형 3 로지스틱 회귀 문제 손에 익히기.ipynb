{
 "cells": [
  {
   "cell_type": "code",
   "execution_count": 1,
   "id": "1824bd7b",
   "metadata": {},
   "outputs": [],
   "source": [
    "import pandas as pd\n",
    "df = pd.read_csv(\"Titanic.csv\")\n",
    "df = df[['Survived', 'Pclass', 'Gender', 'SibSp', 'Parch']]\n",
    "x=  df.drop(columns = 'Survived')\n",
    "x['Gender'] = x['Gender'].map({'female' : 1, 'male' : 0})\n",
    "y = df['Survived']"
   ]
  },
  {
   "cell_type": "code",
   "execution_count": 2,
   "id": "b898f0b6",
   "metadata": {},
   "outputs": [],
   "source": [
    "import pandas as pd\n",
    "df = pd.read_csv(\"Titanic.csv\")\n",
    "df = df[['Survived', 'Pclass', 'Gender', 'SibSp', 'Parch']]\n",
    "x = df.drop(columns = 'Survived')\n",
    "y = df['Survived']\n",
    "x['Gender'] = x['Gender'].map({'female' : 1, 'male' : 0})"
   ]
  },
  {
   "cell_type": "code",
   "execution_count": 5,
   "id": "fdf01f34",
   "metadata": {},
   "outputs": [],
   "source": [
    "import statsmodels.api as sm\n",
    "x = sm.add_constant(x)"
   ]
  },
  {
   "cell_type": "code",
   "execution_count": 9,
   "id": "a29f4281",
   "metadata": {},
   "outputs": [
    {
     "name": "stdout",
     "output_type": "stream",
     "text": [
      "Optimization terminated successfully.\n",
      "         Current function value: 0.459658\n",
      "         Iterations 6\n"
     ]
    },
    {
     "data": {
      "text/html": [
       "<table class=\"simpletable\">\n",
       "<caption>Logit Regression Results</caption>\n",
       "<tr>\n",
       "  <th>Dep. Variable:</th>       <td>Survived</td>     <th>  No. Observations:  </th>  <td>   891</td>  \n",
       "</tr>\n",
       "<tr>\n",
       "  <th>Model:</th>                 <td>Logit</td>      <th>  Df Residuals:      </th>  <td>   886</td>  \n",
       "</tr>\n",
       "<tr>\n",
       "  <th>Method:</th>                 <td>MLE</td>       <th>  Df Model:          </th>  <td>     4</td>  \n",
       "</tr>\n",
       "<tr>\n",
       "  <th>Date:</th>            <td>Fri, 01 Dec 2023</td> <th>  Pseudo R-squ.:     </th>  <td>0.3097</td>  \n",
       "</tr>\n",
       "<tr>\n",
       "  <th>Time:</th>                <td>09:55:05</td>     <th>  Log-Likelihood:    </th> <td> -409.56</td> \n",
       "</tr>\n",
       "<tr>\n",
       "  <th>converged:</th>             <td>True</td>       <th>  LL-Null:           </th> <td> -593.33</td> \n",
       "</tr>\n",
       "<tr>\n",
       "  <th>Covariance Type:</th>     <td>nonrobust</td>    <th>  LLR p-value:       </th> <td>2.854e-78</td>\n",
       "</tr>\n",
       "</table>\n",
       "<table class=\"simpletable\">\n",
       "<tr>\n",
       "     <td></td>       <th>coef</th>     <th>std err</th>      <th>z</th>      <th>P>|z|</th>  <th>[0.025</th>    <th>0.975]</th>  \n",
       "</tr>\n",
       "<tr>\n",
       "  <th>const</th>  <td>    0.6972</td> <td>    0.243</td> <td>    2.864</td> <td> 0.004</td> <td>    0.220</td> <td>    1.174</td>\n",
       "</tr>\n",
       "<tr>\n",
       "  <th>Pclass</th> <td>   -0.9392</td> <td>    0.107</td> <td>   -8.815</td> <td> 0.000</td> <td>   -1.148</td> <td>   -0.730</td>\n",
       "</tr>\n",
       "<tr>\n",
       "  <th>Gender</th> <td>    2.7624</td> <td>    0.195</td> <td>   14.141</td> <td> 0.000</td> <td>    2.379</td> <td>    3.145</td>\n",
       "</tr>\n",
       "<tr>\n",
       "  <th>SibSp</th>  <td>   -0.2340</td> <td>    0.099</td> <td>   -2.359</td> <td> 0.018</td> <td>   -0.428</td> <td>   -0.040</td>\n",
       "</tr>\n",
       "<tr>\n",
       "  <th>Parch</th>  <td>   -0.0503</td> <td>    0.110</td> <td>   -0.455</td> <td> 0.649</td> <td>   -0.267</td> <td>    0.166</td>\n",
       "</tr>\n",
       "</table>"
      ],
      "text/plain": [
       "<class 'statsmodels.iolib.summary.Summary'>\n",
       "\"\"\"\n",
       "                           Logit Regression Results                           \n",
       "==============================================================================\n",
       "Dep. Variable:               Survived   No. Observations:                  891\n",
       "Model:                          Logit   Df Residuals:                      886\n",
       "Method:                           MLE   Df Model:                            4\n",
       "Date:                Fri, 01 Dec 2023   Pseudo R-squ.:                  0.3097\n",
       "Time:                        09:55:05   Log-Likelihood:                -409.56\n",
       "converged:                       True   LL-Null:                       -593.33\n",
       "Covariance Type:            nonrobust   LLR p-value:                 2.854e-78\n",
       "==============================================================================\n",
       "                 coef    std err          z      P>|z|      [0.025      0.975]\n",
       "------------------------------------------------------------------------------\n",
       "const          0.6972      0.243      2.864      0.004       0.220       1.174\n",
       "Pclass        -0.9392      0.107     -8.815      0.000      -1.148      -0.730\n",
       "Gender         2.7624      0.195     14.141      0.000       2.379       3.145\n",
       "SibSp         -0.2340      0.099     -2.359      0.018      -0.428      -0.040\n",
       "Parch         -0.0503      0.110     -0.455      0.649      -0.267       0.166\n",
       "==============================================================================\n",
       "\"\"\""
      ]
     },
     "execution_count": 9,
     "metadata": {},
     "output_type": "execute_result"
    }
   ],
   "source": [
    "model = sm.Logit(y, x).fit()\n",
    "summary = model.summary()\n",
    "summary"
   ]
  },
  {
   "cell_type": "code",
   "execution_count": 12,
   "id": "1d16c271",
   "metadata": {},
   "outputs": [
    {
     "data": {
      "text/plain": [
       "const      2.864067\n",
       "Pclass    -8.815212\n",
       "Gender    14.140620\n",
       "SibSp     -2.358742\n",
       "Parch     -0.455195\n",
       "dtype: float64"
      ]
     },
     "execution_count": 12,
     "metadata": {},
     "output_type": "execute_result"
    }
   ],
   "source": [
    "model.tvalues"
   ]
  },
  {
   "cell_type": "code",
   "execution_count": 20,
   "id": "904fbb03",
   "metadata": {},
   "outputs": [
    {
     "data": {
      "text/plain": [
       "const     0.697244\n",
       "Pclass   -0.939161\n",
       "Gender    2.762364\n",
       "SibSp    -0.234018\n",
       "Parch    -0.050260\n",
       "dtype: float64"
      ]
     },
     "execution_count": 20,
     "metadata": {},
     "output_type": "execute_result"
    }
   ],
   "source": [
    "model.params"
   ]
  },
  {
   "cell_type": "code",
   "execution_count": 23,
   "id": "a792bd8a",
   "metadata": {},
   "outputs": [
    {
     "data": {
      "text/plain": [
       "0.0001484574756484293"
      ]
     },
     "execution_count": 23,
     "metadata": {},
     "output_type": "execute_result"
    }
   ],
   "source": [
    "np.exp( -8.815212)"
   ]
  },
  {
   "cell_type": "code",
   "execution_count": 31,
   "id": "48f6e7f6",
   "metadata": {},
   "outputs": [],
   "source": [
    "# sm.__all__"
   ]
  },
  {
   "cell_type": "code",
   "execution_count": 26,
   "id": "48c0ead8",
   "metadata": {},
   "outputs": [],
   "source": [
    "import pandas as pd\n",
    "df = pd.read_csv(\"Titanic.csv\")\n",
    "df = df[['Survived', 'Pclass', 'Gender', 'SibSp', 'Parch']]\n",
    "x=  df.drop(columns = 'Survived')\n",
    "x['Gender'] = x['Gender'].map({'female' : 1, 'male' : 0})\n",
    "y = df['Survived']"
   ]
  },
  {
   "cell_type": "code",
   "execution_count": 28,
   "id": "7e2f556f",
   "metadata": {},
   "outputs": [],
   "source": [
    "import statsmodels.api as sm\n",
    "x = sm.add_constant(x)"
   ]
  },
  {
   "cell_type": "code",
   "execution_count": 35,
   "id": "a2c59001",
   "metadata": {},
   "outputs": [
    {
     "name": "stdout",
     "output_type": "stream",
     "text": [
      "Optimization terminated successfully.\n",
      "         Current function value: 0.459658\n",
      "         Iterations 6\n"
     ]
    },
    {
     "data": {
      "text/html": [
       "<table class=\"simpletable\">\n",
       "<caption>Logit Regression Results</caption>\n",
       "<tr>\n",
       "  <th>Dep. Variable:</th>       <td>Survived</td>     <th>  No. Observations:  </th>  <td>   891</td>  \n",
       "</tr>\n",
       "<tr>\n",
       "  <th>Model:</th>                 <td>Logit</td>      <th>  Df Residuals:      </th>  <td>   886</td>  \n",
       "</tr>\n",
       "<tr>\n",
       "  <th>Method:</th>                 <td>MLE</td>       <th>  Df Model:          </th>  <td>     4</td>  \n",
       "</tr>\n",
       "<tr>\n",
       "  <th>Date:</th>            <td>Fri, 01 Dec 2023</td> <th>  Pseudo R-squ.:     </th>  <td>0.3097</td>  \n",
       "</tr>\n",
       "<tr>\n",
       "  <th>Time:</th>                <td>10:19:13</td>     <th>  Log-Likelihood:    </th> <td> -409.56</td> \n",
       "</tr>\n",
       "<tr>\n",
       "  <th>converged:</th>             <td>True</td>       <th>  LL-Null:           </th> <td> -593.33</td> \n",
       "</tr>\n",
       "<tr>\n",
       "  <th>Covariance Type:</th>     <td>nonrobust</td>    <th>  LLR p-value:       </th> <td>2.854e-78</td>\n",
       "</tr>\n",
       "</table>\n",
       "<table class=\"simpletable\">\n",
       "<tr>\n",
       "     <td></td>       <th>coef</th>     <th>std err</th>      <th>z</th>      <th>P>|z|</th>  <th>[0.025</th>    <th>0.975]</th>  \n",
       "</tr>\n",
       "<tr>\n",
       "  <th>const</th>  <td>    0.6972</td> <td>    0.243</td> <td>    2.864</td> <td> 0.004</td> <td>    0.220</td> <td>    1.174</td>\n",
       "</tr>\n",
       "<tr>\n",
       "  <th>Pclass</th> <td>   -0.9392</td> <td>    0.107</td> <td>   -8.815</td> <td> 0.000</td> <td>   -1.148</td> <td>   -0.730</td>\n",
       "</tr>\n",
       "<tr>\n",
       "  <th>Gender</th> <td>    2.7624</td> <td>    0.195</td> <td>   14.141</td> <td> 0.000</td> <td>    2.379</td> <td>    3.145</td>\n",
       "</tr>\n",
       "<tr>\n",
       "  <th>SibSp</th>  <td>   -0.2340</td> <td>    0.099</td> <td>   -2.359</td> <td> 0.018</td> <td>   -0.428</td> <td>   -0.040</td>\n",
       "</tr>\n",
       "<tr>\n",
       "  <th>Parch</th>  <td>   -0.0503</td> <td>    0.110</td> <td>   -0.455</td> <td> 0.649</td> <td>   -0.267</td> <td>    0.166</td>\n",
       "</tr>\n",
       "</table>"
      ],
      "text/plain": [
       "<class 'statsmodels.iolib.summary.Summary'>\n",
       "\"\"\"\n",
       "                           Logit Regression Results                           \n",
       "==============================================================================\n",
       "Dep. Variable:               Survived   No. Observations:                  891\n",
       "Model:                          Logit   Df Residuals:                      886\n",
       "Method:                           MLE   Df Model:                            4\n",
       "Date:                Fri, 01 Dec 2023   Pseudo R-squ.:                  0.3097\n",
       "Time:                        10:19:13   Log-Likelihood:                -409.56\n",
       "converged:                       True   LL-Null:                       -593.33\n",
       "Covariance Type:            nonrobust   LLR p-value:                 2.854e-78\n",
       "==============================================================================\n",
       "                 coef    std err          z      P>|z|      [0.025      0.975]\n",
       "------------------------------------------------------------------------------\n",
       "const          0.6972      0.243      2.864      0.004       0.220       1.174\n",
       "Pclass        -0.9392      0.107     -8.815      0.000      -1.148      -0.730\n",
       "Gender         2.7624      0.195     14.141      0.000       2.379       3.145\n",
       "SibSp         -0.2340      0.099     -2.359      0.018      -0.428      -0.040\n",
       "Parch         -0.0503      0.110     -0.455      0.649      -0.267       0.166\n",
       "==============================================================================\n",
       "\"\"\""
      ]
     },
     "execution_count": 35,
     "metadata": {},
     "output_type": "execute_result"
    }
   ],
   "source": [
    "model = sm.Logit(y, x).fit()\n",
    "model.summary()"
   ]
  },
  {
   "cell_type": "code",
   "execution_count": 36,
   "id": "8a274d2b",
   "metadata": {},
   "outputs": [
    {
     "data": {
      "text/plain": [
       "const     0.697244\n",
       "Pclass   -0.939161\n",
       "Gender    2.762364\n",
       "SibSp    -0.234018\n",
       "Parch    -0.050260\n",
       "dtype: float64"
      ]
     },
     "execution_count": 36,
     "metadata": {},
     "output_type": "execute_result"
    }
   ],
   "source": [
    "model.params"
   ]
  },
  {
   "cell_type": "code",
   "execution_count": 38,
   "id": "bcad5f3e",
   "metadata": {},
   "outputs": [
    {
     "data": {
      "text/plain": [
       "15.83723796047937"
      ]
     },
     "execution_count": 38,
     "metadata": {},
     "output_type": "execute_result"
    }
   ],
   "source": [
    "np.exp(2.762364)"
   ]
  },
  {
   "cell_type": "code",
   "execution_count": 39,
   "id": "0c40854c",
   "metadata": {},
   "outputs": [],
   "source": [
    "import pandas as pd\n",
    "df = pd.read_csv(\"Titanic.csv\")\n",
    "df = df[['Survived', 'Pclass', 'Gender', 'SibSp', 'Parch']]\n",
    "x=  df.drop(columns = 'Survived')\n",
    "x['Gender'] = x['Gender'].map({'female' : 1, 'male' : 0})\n",
    "y = df['Survived']"
   ]
  },
  {
   "cell_type": "code",
   "execution_count": 41,
   "id": "c67fb7ac",
   "metadata": {},
   "outputs": [],
   "source": [
    "import statsmodels.api as sm\n",
    "x = sm.add_constant(x)"
   ]
  },
  {
   "cell_type": "code",
   "execution_count": 43,
   "id": "9d0810e3",
   "metadata": {},
   "outputs": [
    {
     "name": "stdout",
     "output_type": "stream",
     "text": [
      "Optimization terminated successfully.\n",
      "         Current function value: 0.459658\n",
      "         Iterations 6\n"
     ]
    },
    {
     "data": {
      "text/plain": [
       "const     0.697244\n",
       "Pclass   -0.939161\n",
       "Gender    2.762364\n",
       "SibSp    -0.234018\n",
       "Parch    -0.050260\n",
       "dtype: float64"
      ]
     },
     "execution_count": 43,
     "metadata": {},
     "output_type": "execute_result"
    }
   ],
   "source": [
    "model = sm.Logit(y, x).fit()\n",
    "model.params"
   ]
  },
  {
   "cell_type": "code",
   "execution_count": 44,
   "id": "cb45bc1e",
   "metadata": {},
   "outputs": [
    {
     "data": {
      "text/html": [
       "<table class=\"simpletable\">\n",
       "<caption>Logit Regression Results</caption>\n",
       "<tr>\n",
       "  <th>Dep. Variable:</th>       <td>Survived</td>     <th>  No. Observations:  </th>  <td>   891</td>  \n",
       "</tr>\n",
       "<tr>\n",
       "  <th>Model:</th>                 <td>Logit</td>      <th>  Df Residuals:      </th>  <td>   886</td>  \n",
       "</tr>\n",
       "<tr>\n",
       "  <th>Method:</th>                 <td>MLE</td>       <th>  Df Model:          </th>  <td>     4</td>  \n",
       "</tr>\n",
       "<tr>\n",
       "  <th>Date:</th>            <td>Fri, 01 Dec 2023</td> <th>  Pseudo R-squ.:     </th>  <td>0.3097</td>  \n",
       "</tr>\n",
       "<tr>\n",
       "  <th>Time:</th>                <td>10:22:51</td>     <th>  Log-Likelihood:    </th> <td> -409.56</td> \n",
       "</tr>\n",
       "<tr>\n",
       "  <th>converged:</th>             <td>True</td>       <th>  LL-Null:           </th> <td> -593.33</td> \n",
       "</tr>\n",
       "<tr>\n",
       "  <th>Covariance Type:</th>     <td>nonrobust</td>    <th>  LLR p-value:       </th> <td>2.854e-78</td>\n",
       "</tr>\n",
       "</table>\n",
       "<table class=\"simpletable\">\n",
       "<tr>\n",
       "     <td></td>       <th>coef</th>     <th>std err</th>      <th>z</th>      <th>P>|z|</th>  <th>[0.025</th>    <th>0.975]</th>  \n",
       "</tr>\n",
       "<tr>\n",
       "  <th>const</th>  <td>    0.6972</td> <td>    0.243</td> <td>    2.864</td> <td> 0.004</td> <td>    0.220</td> <td>    1.174</td>\n",
       "</tr>\n",
       "<tr>\n",
       "  <th>Pclass</th> <td>   -0.9392</td> <td>    0.107</td> <td>   -8.815</td> <td> 0.000</td> <td>   -1.148</td> <td>   -0.730</td>\n",
       "</tr>\n",
       "<tr>\n",
       "  <th>Gender</th> <td>    2.7624</td> <td>    0.195</td> <td>   14.141</td> <td> 0.000</td> <td>    2.379</td> <td>    3.145</td>\n",
       "</tr>\n",
       "<tr>\n",
       "  <th>SibSp</th>  <td>   -0.2340</td> <td>    0.099</td> <td>   -2.359</td> <td> 0.018</td> <td>   -0.428</td> <td>   -0.040</td>\n",
       "</tr>\n",
       "<tr>\n",
       "  <th>Parch</th>  <td>   -0.0503</td> <td>    0.110</td> <td>   -0.455</td> <td> 0.649</td> <td>   -0.267</td> <td>    0.166</td>\n",
       "</tr>\n",
       "</table>"
      ],
      "text/plain": [
       "<class 'statsmodels.iolib.summary.Summary'>\n",
       "\"\"\"\n",
       "                           Logit Regression Results                           \n",
       "==============================================================================\n",
       "Dep. Variable:               Survived   No. Observations:                  891\n",
       "Model:                          Logit   Df Residuals:                      886\n",
       "Method:                           MLE   Df Model:                            4\n",
       "Date:                Fri, 01 Dec 2023   Pseudo R-squ.:                  0.3097\n",
       "Time:                        10:22:51   Log-Likelihood:                -409.56\n",
       "converged:                       True   LL-Null:                       -593.33\n",
       "Covariance Type:            nonrobust   LLR p-value:                 2.854e-78\n",
       "==============================================================================\n",
       "                 coef    std err          z      P>|z|      [0.025      0.975]\n",
       "------------------------------------------------------------------------------\n",
       "const          0.6972      0.243      2.864      0.004       0.220       1.174\n",
       "Pclass        -0.9392      0.107     -8.815      0.000      -1.148      -0.730\n",
       "Gender         2.7624      0.195     14.141      0.000       2.379       3.145\n",
       "SibSp         -0.2340      0.099     -2.359      0.018      -0.428      -0.040\n",
       "Parch         -0.0503      0.110     -0.455      0.649      -0.267       0.166\n",
       "==============================================================================\n",
       "\"\"\""
      ]
     },
     "execution_count": 44,
     "metadata": {},
     "output_type": "execute_result"
    }
   ],
   "source": [
    "model.summary()"
   ]
  },
  {
   "cell_type": "code",
   "execution_count": 45,
   "id": "07ed3152",
   "metadata": {},
   "outputs": [],
   "source": [
    "import warnings\n",
    "warnings.filterwarnings('ignore')"
   ]
  },
  {
   "cell_type": "code",
   "execution_count": null,
   "id": "a32ec4fa",
   "metadata": {},
   "outputs": [],
   "source": []
  }
 ],
 "metadata": {
  "kernelspec": {
   "display_name": "Python 3 (ipykernel)",
   "language": "python",
   "name": "python3"
  },
  "language_info": {
   "codemirror_mode": {
    "name": "ipython",
    "version": 3
   },
   "file_extension": ".py",
   "mimetype": "text/x-python",
   "name": "python",
   "nbconvert_exporter": "python",
   "pygments_lexer": "ipython3",
   "version": "3.7.15"
  }
 },
 "nbformat": 4,
 "nbformat_minor": 5
}
