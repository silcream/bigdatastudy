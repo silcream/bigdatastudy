{
 "cells": [
  {
   "cell_type": "markdown",
   "id": "c8a46c50",
   "metadata": {},
   "source": [
    "서비스 이탈예측 데이터"
   ]
  },
  {
   "cell_type": "markdown",
   "id": "b45f70e2",
   "metadata": {},
   "source": [
    "데이터 설명 : 고객의 신상정보 데이터를 통한 회사 서비스 이탈 예측 (종속변수 : Exited)\n",
    "x_train : https://raw.githubusercontent.com/Datamanim/datarepo/main/churnk/X_train.csv\n",
    "y_train : https://raw.githubusercontent.com/Datamanim/datarepo/main/churnk/y_train.csv\n",
    "x_test : https://raw.githubusercontent.com/Datamanim/datarepo/main/churnk/X_test.csv\n",
    "x_label(평가용) : https://raw.githubusercontent.com/Datamanim/datarepo/main/churnk/y_test.csv"
   ]
  },
  {
   "cell_type": "code",
   "execution_count": 1,
   "id": "458183f6",
   "metadata": {},
   "outputs": [
    {
     "data": {
      "text/html": [
       "<div>\n",
       "<style scoped>\n",
       "    .dataframe tbody tr th:only-of-type {\n",
       "        vertical-align: middle;\n",
       "    }\n",
       "\n",
       "    .dataframe tbody tr th {\n",
       "        vertical-align: top;\n",
       "    }\n",
       "\n",
       "    .dataframe thead th {\n",
       "        text-align: right;\n",
       "    }\n",
       "</style>\n",
       "<table border=\"1\" class=\"dataframe\">\n",
       "  <thead>\n",
       "    <tr style=\"text-align: right;\">\n",
       "      <th></th>\n",
       "      <th>CustomerId</th>\n",
       "      <th>Surname</th>\n",
       "      <th>CreditScore</th>\n",
       "      <th>Geography</th>\n",
       "      <th>Gender</th>\n",
       "      <th>Age</th>\n",
       "      <th>Tenure</th>\n",
       "      <th>Balance</th>\n",
       "      <th>NumOfProducts</th>\n",
       "      <th>HasCrCard</th>\n",
       "      <th>IsActiveMember</th>\n",
       "      <th>EstimatedSalary</th>\n",
       "    </tr>\n",
       "  </thead>\n",
       "  <tbody>\n",
       "    <tr>\n",
       "      <th>0</th>\n",
       "      <td>15799217</td>\n",
       "      <td>Zetticci</td>\n",
       "      <td>791</td>\n",
       "      <td>Germany</td>\n",
       "      <td>Female</td>\n",
       "      <td>35</td>\n",
       "      <td>7</td>\n",
       "      <td>52436.20</td>\n",
       "      <td>1</td>\n",
       "      <td>1</td>\n",
       "      <td>0</td>\n",
       "      <td>161051.75</td>\n",
       "    </tr>\n",
       "    <tr>\n",
       "      <th>1</th>\n",
       "      <td>15748986</td>\n",
       "      <td>Bischof</td>\n",
       "      <td>705</td>\n",
       "      <td>Germany</td>\n",
       "      <td>Male</td>\n",
       "      <td>42</td>\n",
       "      <td>8</td>\n",
       "      <td>166685.92</td>\n",
       "      <td>2</td>\n",
       "      <td>1</td>\n",
       "      <td>1</td>\n",
       "      <td>55313.51</td>\n",
       "    </tr>\n",
       "    <tr>\n",
       "      <th>2</th>\n",
       "      <td>15722004</td>\n",
       "      <td>Hsiung</td>\n",
       "      <td>543</td>\n",
       "      <td>France</td>\n",
       "      <td>Female</td>\n",
       "      <td>31</td>\n",
       "      <td>4</td>\n",
       "      <td>138317.94</td>\n",
       "      <td>1</td>\n",
       "      <td>0</td>\n",
       "      <td>0</td>\n",
       "      <td>61843.73</td>\n",
       "    </tr>\n",
       "    <tr>\n",
       "      <th>3</th>\n",
       "      <td>15780966</td>\n",
       "      <td>Pritchard</td>\n",
       "      <td>709</td>\n",
       "      <td>France</td>\n",
       "      <td>Female</td>\n",
       "      <td>32</td>\n",
       "      <td>2</td>\n",
       "      <td>0.00</td>\n",
       "      <td>2</td>\n",
       "      <td>0</td>\n",
       "      <td>0</td>\n",
       "      <td>109681.29</td>\n",
       "    </tr>\n",
       "    <tr>\n",
       "      <th>4</th>\n",
       "      <td>15636731</td>\n",
       "      <td>Ts'ai</td>\n",
       "      <td>714</td>\n",
       "      <td>Germany</td>\n",
       "      <td>Female</td>\n",
       "      <td>36</td>\n",
       "      <td>1</td>\n",
       "      <td>101609.01</td>\n",
       "      <td>2</td>\n",
       "      <td>1</td>\n",
       "      <td>1</td>\n",
       "      <td>447.73</td>\n",
       "    </tr>\n",
       "  </tbody>\n",
       "</table>\n",
       "</div>"
      ],
      "text/plain": [
       "   CustomerId    Surname  CreditScore Geography  Gender  Age  Tenure  \\\n",
       "0    15799217   Zetticci          791   Germany  Female   35       7   \n",
       "1    15748986    Bischof          705   Germany    Male   42       8   \n",
       "2    15722004     Hsiung          543    France  Female   31       4   \n",
       "3    15780966  Pritchard          709    France  Female   32       2   \n",
       "4    15636731      Ts'ai          714   Germany  Female   36       1   \n",
       "\n",
       "     Balance  NumOfProducts  HasCrCard  IsActiveMember  EstimatedSalary  \n",
       "0   52436.20              1          1               0        161051.75  \n",
       "1  166685.92              2          1               1         55313.51  \n",
       "2  138317.94              1          0               0         61843.73  \n",
       "3       0.00              2          0               0        109681.29  \n",
       "4  101609.01              2          1               1           447.73  "
      ]
     },
     "metadata": {},
     "output_type": "display_data"
    },
    {
     "data": {
      "text/html": [
       "<div>\n",
       "<style scoped>\n",
       "    .dataframe tbody tr th:only-of-type {\n",
       "        vertical-align: middle;\n",
       "    }\n",
       "\n",
       "    .dataframe tbody tr th {\n",
       "        vertical-align: top;\n",
       "    }\n",
       "\n",
       "    .dataframe thead th {\n",
       "        text-align: right;\n",
       "    }\n",
       "</style>\n",
       "<table border=\"1\" class=\"dataframe\">\n",
       "  <thead>\n",
       "    <tr style=\"text-align: right;\">\n",
       "      <th></th>\n",
       "      <th>CustomerId</th>\n",
       "      <th>Exited</th>\n",
       "    </tr>\n",
       "  </thead>\n",
       "  <tbody>\n",
       "    <tr>\n",
       "      <th>0</th>\n",
       "      <td>15799217</td>\n",
       "      <td>0</td>\n",
       "    </tr>\n",
       "    <tr>\n",
       "      <th>1</th>\n",
       "      <td>15748986</td>\n",
       "      <td>0</td>\n",
       "    </tr>\n",
       "    <tr>\n",
       "      <th>2</th>\n",
       "      <td>15722004</td>\n",
       "      <td>0</td>\n",
       "    </tr>\n",
       "    <tr>\n",
       "      <th>3</th>\n",
       "      <td>15780966</td>\n",
       "      <td>0</td>\n",
       "    </tr>\n",
       "    <tr>\n",
       "      <th>4</th>\n",
       "      <td>15636731</td>\n",
       "      <td>0</td>\n",
       "    </tr>\n",
       "  </tbody>\n",
       "</table>\n",
       "</div>"
      ],
      "text/plain": [
       "   CustomerId  Exited\n",
       "0    15799217       0\n",
       "1    15748986       0\n",
       "2    15722004       0\n",
       "3    15780966       0\n",
       "4    15636731       0"
      ]
     },
     "metadata": {},
     "output_type": "display_data"
    },
    {
     "data": {
      "text/html": [
       "<div>\n",
       "<style scoped>\n",
       "    .dataframe tbody tr th:only-of-type {\n",
       "        vertical-align: middle;\n",
       "    }\n",
       "\n",
       "    .dataframe tbody tr th {\n",
       "        vertical-align: top;\n",
       "    }\n",
       "\n",
       "    .dataframe thead th {\n",
       "        text-align: right;\n",
       "    }\n",
       "</style>\n",
       "<table border=\"1\" class=\"dataframe\">\n",
       "  <thead>\n",
       "    <tr style=\"text-align: right;\">\n",
       "      <th></th>\n",
       "      <th>CustomerId</th>\n",
       "      <th>Surname</th>\n",
       "      <th>CreditScore</th>\n",
       "      <th>Geography</th>\n",
       "      <th>Gender</th>\n",
       "      <th>Age</th>\n",
       "      <th>Tenure</th>\n",
       "      <th>Balance</th>\n",
       "      <th>NumOfProducts</th>\n",
       "      <th>HasCrCard</th>\n",
       "      <th>IsActiveMember</th>\n",
       "      <th>EstimatedSalary</th>\n",
       "    </tr>\n",
       "  </thead>\n",
       "  <tbody>\n",
       "    <tr>\n",
       "      <th>0</th>\n",
       "      <td>15601012</td>\n",
       "      <td>Abdullah</td>\n",
       "      <td>802</td>\n",
       "      <td>France</td>\n",
       "      <td>Female</td>\n",
       "      <td>60</td>\n",
       "      <td>3</td>\n",
       "      <td>92887.06</td>\n",
       "      <td>1</td>\n",
       "      <td>1</td>\n",
       "      <td>0</td>\n",
       "      <td>39473.63</td>\n",
       "    </tr>\n",
       "    <tr>\n",
       "      <th>1</th>\n",
       "      <td>15734762</td>\n",
       "      <td>Ignatiev</td>\n",
       "      <td>602</td>\n",
       "      <td>France</td>\n",
       "      <td>Female</td>\n",
       "      <td>56</td>\n",
       "      <td>3</td>\n",
       "      <td>115895.22</td>\n",
       "      <td>3</td>\n",
       "      <td>1</td>\n",
       "      <td>0</td>\n",
       "      <td>4176.17</td>\n",
       "    </tr>\n",
       "    <tr>\n",
       "      <th>2</th>\n",
       "      <td>15586757</td>\n",
       "      <td>Anenechukwu</td>\n",
       "      <td>801</td>\n",
       "      <td>France</td>\n",
       "      <td>Female</td>\n",
       "      <td>32</td>\n",
       "      <td>4</td>\n",
       "      <td>75170.54</td>\n",
       "      <td>1</td>\n",
       "      <td>1</td>\n",
       "      <td>1</td>\n",
       "      <td>37898.50</td>\n",
       "    </tr>\n",
       "    <tr>\n",
       "      <th>3</th>\n",
       "      <td>15590888</td>\n",
       "      <td>Wade</td>\n",
       "      <td>693</td>\n",
       "      <td>Spain</td>\n",
       "      <td>Female</td>\n",
       "      <td>34</td>\n",
       "      <td>10</td>\n",
       "      <td>107556.06</td>\n",
       "      <td>2</td>\n",
       "      <td>0</td>\n",
       "      <td>0</td>\n",
       "      <td>154631.35</td>\n",
       "    </tr>\n",
       "    <tr>\n",
       "      <th>4</th>\n",
       "      <td>15726087</td>\n",
       "      <td>Ch'in</td>\n",
       "      <td>592</td>\n",
       "      <td>France</td>\n",
       "      <td>Female</td>\n",
       "      <td>62</td>\n",
       "      <td>5</td>\n",
       "      <td>0.00</td>\n",
       "      <td>1</td>\n",
       "      <td>1</td>\n",
       "      <td>1</td>\n",
       "      <td>100941.57</td>\n",
       "    </tr>\n",
       "  </tbody>\n",
       "</table>\n",
       "</div>"
      ],
      "text/plain": [
       "   CustomerId      Surname  CreditScore Geography  Gender  Age  Tenure  \\\n",
       "0    15601012     Abdullah          802    France  Female   60       3   \n",
       "1    15734762     Ignatiev          602    France  Female   56       3   \n",
       "2    15586757  Anenechukwu          801    France  Female   32       4   \n",
       "3    15590888         Wade          693     Spain  Female   34      10   \n",
       "4    15726087        Ch'in          592    France  Female   62       5   \n",
       "\n",
       "     Balance  NumOfProducts  HasCrCard  IsActiveMember  EstimatedSalary  \n",
       "0   92887.06              1          1               0         39473.63  \n",
       "1  115895.22              3          1               0          4176.17  \n",
       "2   75170.54              1          1               1         37898.50  \n",
       "3  107556.06              2          0               0        154631.35  \n",
       "4       0.00              1          1               1        100941.57  "
      ]
     },
     "metadata": {},
     "output_type": "display_data"
    }
   ],
   "source": [
    "import pandas as pd\n",
    "#데이터 로드\n",
    "x_train = pd.read_csv(\"https://raw.githubusercontent.com/Datamanim/datarepo/main/churnk/X_train.csv\")\n",
    "y_train = pd.read_csv(\"https://raw.githubusercontent.com/Datamanim/datarepo/main/churnk/y_train.csv\")\n",
    "x_test= pd.read_csv(\"https://raw.githubusercontent.com/Datamanim/datarepo/main/churnk/X_test.csv\")\n",
    "\n",
    "\n",
    "display(x_train.head())\n",
    "display(y_train.head())\n",
    "display(x_test.head())"
   ]
  },
  {
   "cell_type": "code",
   "execution_count": 3,
   "id": "226d11c6",
   "metadata": {},
   "outputs": [
    {
     "name": "stdout",
     "output_type": "stream",
     "text": [
      "<class 'pandas.core.frame.DataFrame'>\n",
      "RangeIndex: 6499 entries, 0 to 6498\n",
      "Data columns (total 12 columns):\n",
      " #   Column           Non-Null Count  Dtype  \n",
      "---  ------           --------------  -----  \n",
      " 0   CustomerId       6499 non-null   int64  \n",
      " 1   Surname          6499 non-null   object \n",
      " 2   CreditScore      6499 non-null   int64  \n",
      " 3   Geography        6499 non-null   object \n",
      " 4   Gender           6499 non-null   object \n",
      " 5   Age              6499 non-null   int64  \n",
      " 6   Tenure           6499 non-null   int64  \n",
      " 7   Balance          6499 non-null   float64\n",
      " 8   NumOfProducts    6499 non-null   int64  \n",
      " 9   HasCrCard        6499 non-null   int64  \n",
      " 10  IsActiveMember   6499 non-null   int64  \n",
      " 11  EstimatedSalary  6499 non-null   float64\n",
      "dtypes: float64(2), int64(7), object(3)\n",
      "memory usage: 609.4+ KB\n"
     ]
    }
   ],
   "source": [
    "x_train.info() # 결측치 없음"
   ]
  },
  {
   "cell_type": "code",
   "execution_count": 4,
   "id": "9b9ab341",
   "metadata": {},
   "outputs": [
    {
     "data": {
      "text/plain": [
       "CustomerId         6499\n",
       "Surname            2289\n",
       "CreditScore         459\n",
       "Geography             3\n",
       "Gender                4\n",
       "Age                  69\n",
       "Tenure               11\n",
       "Balance            4162\n",
       "NumOfProducts         4\n",
       "HasCrCard             2\n",
       "IsActiveMember        2\n",
       "EstimatedSalary    6499\n",
       "dtype: int64"
      ]
     },
     "execution_count": 4,
     "metadata": {},
     "output_type": "execute_result"
    }
   ],
   "source": [
    "x_train.nunique()"
   ]
  },
  {
   "cell_type": "code",
   "execution_count": 8,
   "id": "693f470b",
   "metadata": {},
   "outputs": [],
   "source": [
    "dum_col = ['CustomerId', 'Surname']\n",
    "x_train_drop = x_train.drop(columns = dum_col)\n",
    "x_test_drop = x_test.drop(columns = dum_col)"
   ]
  },
  {
   "cell_type": "code",
   "execution_count": 14,
   "id": "44247fa8",
   "metadata": {},
   "outputs": [],
   "source": [
    "from sklearn.model_selection import train_test_split\n",
    "from sklearn.ensemble import RandomForestClassifier\n",
    "x_train_dummies = pd.get_dummies(x_train_drop)\n",
    "y = y_train['Exited']\n",
    "x_test_dummies = pd.get_dummies(x_test_drop)\n",
    "x_test_dummies = x_test_dummies[x_train_dummies.columns]"
   ]
  },
  {
   "cell_type": "code",
   "execution_count": 15,
   "id": "c63aa6bd",
   "metadata": {},
   "outputs": [],
   "source": [
    "X_train, X_validation, Y_train, Y_validation = train_test_split(x_train_dummies, y, test_size = 0.2, random_state = 42)\n",
    "rf = RandomForestClassifier(random_state = 23)\n",
    "rf.fit(X_train, Y_train)\n",
    "predict_test_label = rf.predict(x_test_dummies)\n",
    "pd.DataFrame({'ID': x_test.CustomerId, 'Exited': predict_test_label}).to_csv('result7.csv', index=False)"
   ]
  },
  {
   "cell_type": "code",
   "execution_count": 16,
   "id": "dd103fda",
   "metadata": {},
   "outputs": [],
   "source": [
    "from sklearn.metrics import f1_score"
   ]
  },
  {
   "cell_type": "code",
   "execution_count": 17,
   "id": "e2717d69",
   "metadata": {},
   "outputs": [
    {
     "data": {
      "text/plain": [
       "0.5807962529274004"
      ]
     },
     "execution_count": 17,
     "metadata": {},
     "output_type": "execute_result"
    }
   ],
   "source": [
    "predict_validation_label = rf.predict(X_validation)\n",
    "f1_score(Y_validation,predict_validation_label)"
   ]
  },
  {
   "cell_type": "markdown",
   "id": "b9b152f7",
   "metadata": {},
   "source": [
    "이직여부 판단 데이터"
   ]
  },
  {
   "cell_type": "code",
   "execution_count": 60,
   "id": "20b436db",
   "metadata": {},
   "outputs": [
    {
     "data": {
      "text/html": [
       "<div>\n",
       "<style scoped>\n",
       "    .dataframe tbody tr th:only-of-type {\n",
       "        vertical-align: middle;\n",
       "    }\n",
       "\n",
       "    .dataframe tbody tr th {\n",
       "        vertical-align: top;\n",
       "    }\n",
       "\n",
       "    .dataframe thead th {\n",
       "        text-align: right;\n",
       "    }\n",
       "</style>\n",
       "<table border=\"1\" class=\"dataframe\">\n",
       "  <thead>\n",
       "    <tr style=\"text-align: right;\">\n",
       "      <th></th>\n",
       "      <th>enrollee_id</th>\n",
       "      <th>city</th>\n",
       "      <th>city_development_index</th>\n",
       "      <th>gender</th>\n",
       "      <th>relevent_experience</th>\n",
       "      <th>enrolled_university</th>\n",
       "      <th>education_level</th>\n",
       "      <th>major_discipline</th>\n",
       "      <th>experience</th>\n",
       "      <th>company_size</th>\n",
       "      <th>company_type</th>\n",
       "      <th>last_new_job</th>\n",
       "      <th>training_hours</th>\n",
       "    </tr>\n",
       "  </thead>\n",
       "  <tbody>\n",
       "    <tr>\n",
       "      <th>0</th>\n",
       "      <td>25298</td>\n",
       "      <td>city_138</td>\n",
       "      <td>0.836</td>\n",
       "      <td>Male</td>\n",
       "      <td>No relevent experience</td>\n",
       "      <td>Full time course</td>\n",
       "      <td>High School</td>\n",
       "      <td>NaN</td>\n",
       "      <td>5</td>\n",
       "      <td>100-500</td>\n",
       "      <td>Pvt Ltd</td>\n",
       "      <td>1</td>\n",
       "      <td>45</td>\n",
       "    </tr>\n",
       "    <tr>\n",
       "      <th>1</th>\n",
       "      <td>4241</td>\n",
       "      <td>city_160</td>\n",
       "      <td>0.920</td>\n",
       "      <td>Male</td>\n",
       "      <td>No relevent experience</td>\n",
       "      <td>Full time course</td>\n",
       "      <td>High School</td>\n",
       "      <td>NaN</td>\n",
       "      <td>5</td>\n",
       "      <td>NaN</td>\n",
       "      <td>NaN</td>\n",
       "      <td>1</td>\n",
       "      <td>17</td>\n",
       "    </tr>\n",
       "    <tr>\n",
       "      <th>2</th>\n",
       "      <td>24086</td>\n",
       "      <td>city_57</td>\n",
       "      <td>0.866</td>\n",
       "      <td>Male</td>\n",
       "      <td>No relevent experience</td>\n",
       "      <td>no_enrollment</td>\n",
       "      <td>Graduate</td>\n",
       "      <td>STEM</td>\n",
       "      <td>10</td>\n",
       "      <td>NaN</td>\n",
       "      <td>NaN</td>\n",
       "      <td>1</td>\n",
       "      <td>50</td>\n",
       "    </tr>\n",
       "    <tr>\n",
       "      <th>3</th>\n",
       "      <td>26773</td>\n",
       "      <td>city_16</td>\n",
       "      <td>0.910</td>\n",
       "      <td>Male</td>\n",
       "      <td>Has relevent experience</td>\n",
       "      <td>no_enrollment</td>\n",
       "      <td>Graduate</td>\n",
       "      <td>STEM</td>\n",
       "      <td>&gt;20</td>\n",
       "      <td>50-99</td>\n",
       "      <td>Pvt Ltd</td>\n",
       "      <td>&gt;4</td>\n",
       "      <td>135</td>\n",
       "    </tr>\n",
       "    <tr>\n",
       "      <th>4</th>\n",
       "      <td>32325</td>\n",
       "      <td>city_143</td>\n",
       "      <td>0.740</td>\n",
       "      <td>NaN</td>\n",
       "      <td>No relevent experience</td>\n",
       "      <td>Full time course</td>\n",
       "      <td>Graduate</td>\n",
       "      <td>STEM</td>\n",
       "      <td>5</td>\n",
       "      <td>NaN</td>\n",
       "      <td>NaN</td>\n",
       "      <td>never</td>\n",
       "      <td>17</td>\n",
       "    </tr>\n",
       "  </tbody>\n",
       "</table>\n",
       "</div>"
      ],
      "text/plain": [
       "   enrollee_id      city  city_development_index gender  \\\n",
       "0        25298  city_138                   0.836   Male   \n",
       "1         4241  city_160                   0.920   Male   \n",
       "2        24086   city_57                   0.866   Male   \n",
       "3        26773   city_16                   0.910   Male   \n",
       "4        32325  city_143                   0.740    NaN   \n",
       "\n",
       "       relevent_experience enrolled_university education_level  \\\n",
       "0   No relevent experience    Full time course     High School   \n",
       "1   No relevent experience    Full time course     High School   \n",
       "2   No relevent experience       no_enrollment        Graduate   \n",
       "3  Has relevent experience       no_enrollment        Graduate   \n",
       "4   No relevent experience    Full time course        Graduate   \n",
       "\n",
       "  major_discipline experience company_size company_type last_new_job  \\\n",
       "0              NaN          5      100-500      Pvt Ltd            1   \n",
       "1              NaN          5          NaN          NaN            1   \n",
       "2             STEM         10          NaN          NaN            1   \n",
       "3             STEM        >20        50-99      Pvt Ltd           >4   \n",
       "4             STEM          5          NaN          NaN        never   \n",
       "\n",
       "   training_hours  \n",
       "0              45  \n",
       "1              17  \n",
       "2              50  \n",
       "3             135  \n",
       "4              17  "
      ]
     },
     "metadata": {},
     "output_type": "display_data"
    },
    {
     "data": {
      "text/html": [
       "<div>\n",
       "<style scoped>\n",
       "    .dataframe tbody tr th:only-of-type {\n",
       "        vertical-align: middle;\n",
       "    }\n",
       "\n",
       "    .dataframe tbody tr th {\n",
       "        vertical-align: top;\n",
       "    }\n",
       "\n",
       "    .dataframe thead th {\n",
       "        text-align: right;\n",
       "    }\n",
       "</style>\n",
       "<table border=\"1\" class=\"dataframe\">\n",
       "  <thead>\n",
       "    <tr style=\"text-align: right;\">\n",
       "      <th></th>\n",
       "      <th>enrollee_id</th>\n",
       "      <th>target</th>\n",
       "    </tr>\n",
       "  </thead>\n",
       "  <tbody>\n",
       "    <tr>\n",
       "      <th>0</th>\n",
       "      <td>25298</td>\n",
       "      <td>0.0</td>\n",
       "    </tr>\n",
       "    <tr>\n",
       "      <th>1</th>\n",
       "      <td>4241</td>\n",
       "      <td>1.0</td>\n",
       "    </tr>\n",
       "    <tr>\n",
       "      <th>2</th>\n",
       "      <td>24086</td>\n",
       "      <td>0.0</td>\n",
       "    </tr>\n",
       "    <tr>\n",
       "      <th>3</th>\n",
       "      <td>26773</td>\n",
       "      <td>0.0</td>\n",
       "    </tr>\n",
       "    <tr>\n",
       "      <th>4</th>\n",
       "      <td>32325</td>\n",
       "      <td>1.0</td>\n",
       "    </tr>\n",
       "  </tbody>\n",
       "</table>\n",
       "</div>"
      ],
      "text/plain": [
       "   enrollee_id  target\n",
       "0        25298     0.0\n",
       "1         4241     1.0\n",
       "2        24086     0.0\n",
       "3        26773     0.0\n",
       "4        32325     1.0"
      ]
     },
     "metadata": {},
     "output_type": "display_data"
    }
   ],
   "source": [
    "import pandas as pd\n",
    "#데이터 로드\n",
    "x_train = pd.read_csv(\"https://raw.githubusercontent.com/Datamanim/datarepo/main/HRdata/X_train.csv\")\n",
    "y_train = pd.read_csv(\"https://raw.githubusercontent.com/Datamanim/datarepo/main/HRdata/y_train.csv\")\n",
    "x_test= pd.read_csv(\"https://raw.githubusercontent.com/Datamanim/datarepo/main/HRdata/X_test.csv\")\n",
    "\n",
    "\n",
    "display(x_train.head())\n",
    "display(y_train.head())"
   ]
  },
  {
   "cell_type": "code",
   "execution_count": 61,
   "id": "add4ef45",
   "metadata": {},
   "outputs": [
    {
     "name": "stdout",
     "output_type": "stream",
     "text": [
      "<class 'pandas.core.frame.DataFrame'>\n",
      "RangeIndex: 12452 entries, 0 to 12451\n",
      "Data columns (total 13 columns):\n",
      " #   Column                  Non-Null Count  Dtype  \n",
      "---  ------                  --------------  -----  \n",
      " 0   enrollee_id             12452 non-null  int64  \n",
      " 1   city                    12452 non-null  object \n",
      " 2   city_development_index  12452 non-null  float64\n",
      " 3   gender                  9535 non-null   object \n",
      " 4   relevent_experience     12452 non-null  object \n",
      " 5   enrolled_university     12195 non-null  object \n",
      " 6   education_level         12137 non-null  object \n",
      " 7   major_discipline        10586 non-null  object \n",
      " 8   experience              12415 non-null  object \n",
      " 9   company_size            8600 non-null   object \n",
      " 10  company_type            8471 non-null   object \n",
      " 11  last_new_job            12179 non-null  object \n",
      " 12  training_hours          12452 non-null  int64  \n",
      "dtypes: float64(1), int64(2), object(10)\n",
      "memory usage: 1.2+ MB\n"
     ]
    }
   ],
   "source": [
    "x_train.info()"
   ]
  },
  {
   "cell_type": "code",
   "execution_count": 62,
   "id": "109327a0",
   "metadata": {},
   "outputs": [],
   "source": [
    "# 데이터 전처리"
   ]
  },
  {
   "cell_type": "code",
   "execution_count": 63,
   "id": "13d1ce26",
   "metadata": {},
   "outputs": [
    {
     "name": "stdout",
     "output_type": "stream",
     "text": [
      "<class 'pandas.core.frame.DataFrame'>\n",
      "RangeIndex: 12452 entries, 0 to 12451\n",
      "Data columns (total 13 columns):\n",
      " #   Column                  Non-Null Count  Dtype  \n",
      "---  ------                  --------------  -----  \n",
      " 0   enrollee_id             12452 non-null  int64  \n",
      " 1   city                    12452 non-null  object \n",
      " 2   city_development_index  12452 non-null  float64\n",
      " 3   gender                  9535 non-null   object \n",
      " 4   relevent_experience     12452 non-null  object \n",
      " 5   enrolled_university     12195 non-null  object \n",
      " 6   education_level         12137 non-null  object \n",
      " 7   major_discipline        10586 non-null  object \n",
      " 8   experience              12415 non-null  object \n",
      " 9   company_size            8600 non-null   object \n",
      " 10  company_type            8471 non-null   object \n",
      " 11  last_new_job            12179 non-null  object \n",
      " 12  training_hours          12452 non-null  int64  \n",
      "dtypes: float64(1), int64(2), object(10)\n",
      "memory usage: 1.2+ MB\n"
     ]
    }
   ],
   "source": [
    "x_train.info()"
   ]
  },
  {
   "cell_type": "code",
   "execution_count": 64,
   "id": "e36d3c4a",
   "metadata": {},
   "outputs": [],
   "source": [
    "x_train.gender.fillna(x_train.gender.value_counts().index[0], inplace = True)\n",
    "x_train.enrolled_university.fillna(x_train.enrolled_university.value_counts().index[0], inplace = True)\n",
    "x_train.education_level.fillna(x_train.education_level.value_counts().index[0], inplace = True)\n",
    "x_train.major_discipline.fillna(x_train.major_discipline.value_counts().index[0], inplace = True)\n",
    "x_train.experience.fillna(x_train.experience.value_counts().index[0], inplace = True)\n",
    "x_train.company_size.fillna(x_train.company_size.value_counts().index[0], inplace = True)\n",
    "x_train.company_type.fillna(x_train.company_type.value_counts().index[0], inplace = True)\n",
    "x_train.last_new_job.fillna(x_train.last_new_job.value_counts().index[0], inplace = True)\n",
    "x_train.training_hours.fillna(x_train.training_hours.value_counts().index[0], inplace = True)"
   ]
  },
  {
   "cell_type": "code",
   "execution_count": 65,
   "id": "c22c023a",
   "metadata": {},
   "outputs": [
    {
     "data": {
      "text/plain": [
       "enrollee_id               12452\n",
       "city                        122\n",
       "city_development_index       92\n",
       "gender                        3\n",
       "relevent_experience           2\n",
       "enrolled_university           3\n",
       "education_level               5\n",
       "major_discipline              6\n",
       "experience                   22\n",
       "company_size                  8\n",
       "company_type                  6\n",
       "last_new_job                  6\n",
       "training_hours              241\n",
       "dtype: int64"
      ]
     },
     "execution_count": 65,
     "metadata": {},
     "output_type": "execute_result"
    }
   ],
   "source": [
    "x_train.nunique()"
   ]
  },
  {
   "cell_type": "code",
   "execution_count": 99,
   "id": "7a209c8d",
   "metadata": {},
   "outputs": [
    {
     "data": {
      "text/plain": [
       "enrollee_id               6706\n",
       "city                       118\n",
       "city_development_index      92\n",
       "gender                       3\n",
       "relevent_experience          2\n",
       "enrolled_university          3\n",
       "education_level              5\n",
       "major_discipline             6\n",
       "experience                  22\n",
       "company_size                 8\n",
       "company_type                 6\n",
       "last_new_job                 6\n",
       "training_hours             238\n",
       "dtype: int64"
      ]
     },
     "execution_count": 99,
     "metadata": {},
     "output_type": "execute_result"
    }
   ],
   "source": [
    "x_test.nunique()"
   ]
  },
  {
   "cell_type": "code",
   "execution_count": 103,
   "id": "eb738d44",
   "metadata": {},
   "outputs": [],
   "source": [
    "dum_col = ['enrollee_id', 'city']\n",
    "x_train_drop = x_train.drop(columns = dum_col)\n",
    "x_test_drop = x_test.drop(columns = dum_col)\n",
    "from sklearn.model_selection import train_test_split\n",
    "from sklearn.ensemble import RandomForestClassifier\n",
    "x_train_dummies = pd.get_dummies(x_train_drop)\n",
    "y = y_train['target']\n",
    "x_test_dummies = pd.get_dummies(x_test_drop)\n",
    "x_test_dummies = x_test_dummies[x_train_dummies.columns]\n",
    "X_train, X_validation, Y_train, Y_validation = train_test_split(x_train_dummies, y, test_size = 0.2, random_state = 42)\n",
    "rf = RandomForestClassifier(random_state = 23)\n",
    "rf.fit(X_train, Y_train)\n",
    "predict_test_label = rf.predict(x_test_dummies)\n",
    "pd.DataFrame({'ID': x_test.enrollee_id, 'target': predict_test_label}).to_csv('result8.csv', index=False)"
   ]
  },
  {
   "cell_type": "code",
   "execution_count": 104,
   "id": "15e3f650",
   "metadata": {},
   "outputs": [
    {
     "data": {
      "text/plain": [
       "0.4459203036053131"
      ]
     },
     "execution_count": 104,
     "metadata": {},
     "output_type": "execute_result"
    }
   ],
   "source": [
    "predict_validation_label = rf.predict(X_validation)\n",
    "f1_score(Y_validation,predict_validation_label)"
   ]
  },
  {
   "cell_type": "markdown",
   "id": "2195a785",
   "metadata": {},
   "source": [
    "정시 배송 여부 판단 (2회기출)"
   ]
  },
  {
   "cell_type": "code",
   "execution_count": 120,
   "id": "f06dd7b1",
   "metadata": {},
   "outputs": [
    {
     "data": {
      "text/html": [
       "<div>\n",
       "<style scoped>\n",
       "    .dataframe tbody tr th:only-of-type {\n",
       "        vertical-align: middle;\n",
       "    }\n",
       "\n",
       "    .dataframe tbody tr th {\n",
       "        vertical-align: top;\n",
       "    }\n",
       "\n",
       "    .dataframe thead th {\n",
       "        text-align: right;\n",
       "    }\n",
       "</style>\n",
       "<table border=\"1\" class=\"dataframe\">\n",
       "  <thead>\n",
       "    <tr style=\"text-align: right;\">\n",
       "      <th></th>\n",
       "      <th>ID</th>\n",
       "      <th>Warehouse_block</th>\n",
       "      <th>Mode_of_Shipment</th>\n",
       "      <th>Customer_care_calls</th>\n",
       "      <th>Customer_rating</th>\n",
       "      <th>Cost_of_the_Product</th>\n",
       "      <th>Prior_purchases</th>\n",
       "      <th>Product_importance</th>\n",
       "      <th>Gender</th>\n",
       "      <th>Discount_offered</th>\n",
       "      <th>Weight_in_gms</th>\n",
       "    </tr>\n",
       "  </thead>\n",
       "  <tbody>\n",
       "    <tr>\n",
       "      <th>0</th>\n",
       "      <td>6045</td>\n",
       "      <td>A</td>\n",
       "      <td>Flight</td>\n",
       "      <td>4</td>\n",
       "      <td>3</td>\n",
       "      <td>266</td>\n",
       "      <td>5</td>\n",
       "      <td>high</td>\n",
       "      <td>F</td>\n",
       "      <td>5</td>\n",
       "      <td>1590</td>\n",
       "    </tr>\n",
       "    <tr>\n",
       "      <th>1</th>\n",
       "      <td>44</td>\n",
       "      <td>F</td>\n",
       "      <td>Ship</td>\n",
       "      <td>3</td>\n",
       "      <td>1</td>\n",
       "      <td>174</td>\n",
       "      <td>2</td>\n",
       "      <td>low</td>\n",
       "      <td>M</td>\n",
       "      <td>44</td>\n",
       "      <td>1556</td>\n",
       "    </tr>\n",
       "    <tr>\n",
       "      <th>2</th>\n",
       "      <td>7940</td>\n",
       "      <td>F</td>\n",
       "      <td>Road</td>\n",
       "      <td>4</td>\n",
       "      <td>1</td>\n",
       "      <td>154</td>\n",
       "      <td>10</td>\n",
       "      <td>high</td>\n",
       "      <td>M</td>\n",
       "      <td>10</td>\n",
       "      <td>5674</td>\n",
       "    </tr>\n",
       "    <tr>\n",
       "      <th>3</th>\n",
       "      <td>1596</td>\n",
       "      <td>F</td>\n",
       "      <td>Ship</td>\n",
       "      <td>4</td>\n",
       "      <td>3</td>\n",
       "      <td>158</td>\n",
       "      <td>3</td>\n",
       "      <td>medium</td>\n",
       "      <td>F</td>\n",
       "      <td>27</td>\n",
       "      <td>1207</td>\n",
       "    </tr>\n",
       "    <tr>\n",
       "      <th>4</th>\n",
       "      <td>4395</td>\n",
       "      <td>A</td>\n",
       "      <td>Flight</td>\n",
       "      <td>5</td>\n",
       "      <td>3</td>\n",
       "      <td>175</td>\n",
       "      <td>3</td>\n",
       "      <td>low</td>\n",
       "      <td>M</td>\n",
       "      <td>7</td>\n",
       "      <td>4833</td>\n",
       "    </tr>\n",
       "  </tbody>\n",
       "</table>\n",
       "</div>"
      ],
      "text/plain": [
       "     ID Warehouse_block Mode_of_Shipment Customer_care_calls  Customer_rating  \\\n",
       "0  6045               A           Flight                   4                3   \n",
       "1    44               F             Ship                   3                1   \n",
       "2  7940               F             Road                   4                1   \n",
       "3  1596               F             Ship                   4                3   \n",
       "4  4395               A           Flight                   5                3   \n",
       "\n",
       "   Cost_of_the_Product  Prior_purchases Product_importance Gender  \\\n",
       "0                  266                5               high      F   \n",
       "1                  174                2                low      M   \n",
       "2                  154               10               high      M   \n",
       "3                  158                3             medium      F   \n",
       "4                  175                3                low      M   \n",
       "\n",
       "   Discount_offered  Weight_in_gms  \n",
       "0                 5           1590  \n",
       "1                44           1556  \n",
       "2                10           5674  \n",
       "3                27           1207  \n",
       "4                 7           4833  "
      ]
     },
     "metadata": {},
     "output_type": "display_data"
    },
    {
     "data": {
      "text/html": [
       "<div>\n",
       "<style scoped>\n",
       "    .dataframe tbody tr th:only-of-type {\n",
       "        vertical-align: middle;\n",
       "    }\n",
       "\n",
       "    .dataframe tbody tr th {\n",
       "        vertical-align: top;\n",
       "    }\n",
       "\n",
       "    .dataframe thead th {\n",
       "        text-align: right;\n",
       "    }\n",
       "</style>\n",
       "<table border=\"1\" class=\"dataframe\">\n",
       "  <thead>\n",
       "    <tr style=\"text-align: right;\">\n",
       "      <th></th>\n",
       "      <th>ID</th>\n",
       "      <th>Reached.on.Time_Y.N</th>\n",
       "    </tr>\n",
       "  </thead>\n",
       "  <tbody>\n",
       "    <tr>\n",
       "      <th>0</th>\n",
       "      <td>6045</td>\n",
       "      <td>0</td>\n",
       "    </tr>\n",
       "    <tr>\n",
       "      <th>1</th>\n",
       "      <td>44</td>\n",
       "      <td>1</td>\n",
       "    </tr>\n",
       "    <tr>\n",
       "      <th>2</th>\n",
       "      <td>7940</td>\n",
       "      <td>1</td>\n",
       "    </tr>\n",
       "    <tr>\n",
       "      <th>3</th>\n",
       "      <td>1596</td>\n",
       "      <td>1</td>\n",
       "    </tr>\n",
       "    <tr>\n",
       "      <th>4</th>\n",
       "      <td>4395</td>\n",
       "      <td>1</td>\n",
       "    </tr>\n",
       "  </tbody>\n",
       "</table>\n",
       "</div>"
      ],
      "text/plain": [
       "     ID  Reached.on.Time_Y.N\n",
       "0  6045                    0\n",
       "1    44                    1\n",
       "2  7940                    1\n",
       "3  1596                    1\n",
       "4  4395                    1"
      ]
     },
     "metadata": {},
     "output_type": "display_data"
    }
   ],
   "source": [
    "import pandas as pd\n",
    "#데이터 로드\n",
    "x_train = pd.read_csv(\"https://raw.githubusercontent.com/Datamanim/datarepo/main/shipping/X_train.csv\")\n",
    "y_train = pd.read_csv(\"https://raw.githubusercontent.com/Datamanim/datarepo/main/shipping/y_train.csv\")\n",
    "x_test= pd.read_csv(\"https://raw.githubusercontent.com/Datamanim/datarepo/main/shipping/X_test.csv\")\n",
    "\n",
    "\n",
    "display(x_train.head())\n",
    "display(y_train.head())"
   ]
  },
  {
   "cell_type": "code",
   "execution_count": 121,
   "id": "7a4aaa25",
   "metadata": {},
   "outputs": [
    {
     "name": "stdout",
     "output_type": "stream",
     "text": [
      "<class 'pandas.core.frame.DataFrame'>\n",
      "RangeIndex: 6598 entries, 0 to 6597\n",
      "Data columns (total 11 columns):\n",
      " #   Column               Non-Null Count  Dtype \n",
      "---  ------               --------------  ----- \n",
      " 0   ID                   6598 non-null   int64 \n",
      " 1   Warehouse_block      6598 non-null   object\n",
      " 2   Mode_of_Shipment     6598 non-null   object\n",
      " 3   Customer_care_calls  6598 non-null   object\n",
      " 4   Customer_rating      6598 non-null   int64 \n",
      " 5   Cost_of_the_Product  6598 non-null   int64 \n",
      " 6   Prior_purchases      6598 non-null   int64 \n",
      " 7   Product_importance   6598 non-null   object\n",
      " 8   Gender               6598 non-null   object\n",
      " 9   Discount_offered     6598 non-null   int64 \n",
      " 10  Weight_in_gms        6598 non-null   int64 \n",
      "dtypes: int64(6), object(5)\n",
      "memory usage: 567.1+ KB\n"
     ]
    }
   ],
   "source": [
    "x_train.info()"
   ]
  },
  {
   "cell_type": "code",
   "execution_count": 122,
   "id": "58638daa",
   "metadata": {},
   "outputs": [
    {
     "data": {
      "text/plain": [
       "ID                     6598\n",
       "Warehouse_block           5\n",
       "Mode_of_Shipment          3\n",
       "Customer_care_calls       6\n",
       "Customer_rating           5\n",
       "Cost_of_the_Product     215\n",
       "Prior_purchases           8\n",
       "Product_importance        3\n",
       "Gender                    2\n",
       "Discount_offered         65\n",
       "Weight_in_gms          3365\n",
       "dtype: int64"
      ]
     },
     "execution_count": 122,
     "metadata": {},
     "output_type": "execute_result"
    }
   ],
   "source": [
    "x_train.nunique()"
   ]
  },
  {
   "cell_type": "code",
   "execution_count": 136,
   "id": "a8d605f8",
   "metadata": {},
   "outputs": [],
   "source": [
    "drop_col = ['ID','Cost_of_the_Product']\n",
    "x_train_drop = x_train.drop(columns = drop_col)\n",
    "x_test_drop = x_test.drop(columns = drop_col)\n",
    "y = y_train['Reached.on.Time_Y.N']"
   ]
  },
  {
   "cell_type": "code",
   "execution_count": 137,
   "id": "98007ff3",
   "metadata": {},
   "outputs": [],
   "source": [
    "x_train_dummies = pd.get_dummies(x_train_drop)\n",
    "x_test_dummies = pd.get_dummies(x_test_drop)\n",
    "x_test_dummies = x_test_dummies[x_train_dummies.columns]"
   ]
  },
  {
   "cell_type": "code",
   "execution_count": 142,
   "id": "58e1de3b",
   "metadata": {},
   "outputs": [
    {
     "data": {
      "text/plain": [
       "RandomForestClassifier(random_state=23)"
      ]
     },
     "execution_count": 142,
     "metadata": {},
     "output_type": "execute_result"
    }
   ],
   "source": [
    "X_train, X_validation, Y_train, Y_validatioin = train_test_split(x_train_dummies, y, test_size = 0.33, random_state = 42)\n",
    "rf = RandomForestClassifier(random_state = 23)\n",
    "rf.fit(X_train, Y_train)"
   ]
  },
  {
   "cell_type": "code",
   "execution_count": 143,
   "id": "cf711aa3",
   "metadata": {},
   "outputs": [],
   "source": [
    "predict_test_label = rf.predict(x_test_dummies)\n",
    "pd.DataFrame({'ID': x_test.ID, 'target': predict_test_label}).to_csv('result9.csv', index=False)"
   ]
  },
  {
   "cell_type": "code",
   "execution_count": 144,
   "id": "ed6e074f",
   "metadata": {},
   "outputs": [
    {
     "data": {
      "text/plain": [
       "0.682806729585556"
      ]
     },
     "execution_count": 144,
     "metadata": {},
     "output_type": "execute_result"
    }
   ],
   "source": [
    "predict_validation_label = rf.predict(X_validation)\n",
    "f1_score(Y_validation, predict_validation_label)"
   ]
  },
  {
   "cell_type": "code",
   "execution_count": 141,
   "id": "b13838c5",
   "metadata": {},
   "outputs": [
    {
     "name": "stdout",
     "output_type": "stream",
     "text": [
      "train accuracy : 1.0\n",
      "validation accuracy : 0.6450872359963269\n",
      "\n",
      "\n",
      "train f1_score : 1.0\n",
      "validation f1_score : 0.682806729585556\n",
      "\n",
      "\n",
      "train recall_score : 1.0\n",
      "validation recall_score : 0.6454615981380916\n",
      "\n",
      "\n",
      "train precision_score : 1.0\n",
      "validation precision_score : 0.7247386759581882\n",
      "\n",
      "\n",
      "train auc : 1.0\n",
      "validation auc : 0.7281618889958383\n"
     ]
    }
   ],
   "source": [
    "drop_col = ['ID','Cost_of_the_Product']\n",
    "x_train_drop = x_train.drop(columns = drop_col)\n",
    "x_test_drop = x_test.drop(columns = drop_col)\n",
    "\n",
    "from sklearn.model_selection import train_test_split\n",
    "from sklearn.ensemble import RandomForestClassifier\n",
    "x_train_dummies = pd.get_dummies(x_train_drop)\n",
    "y = y_train['Reached.on.Time_Y.N']\n",
    "x_test_dummies = pd.get_dummies(x_test_drop)\n",
    "x_test_dummies = x_test_dummies[x_train_dummies.columns]\n",
    "\n",
    "X_train, X_validation, Y_train, Y_validation = train_test_split(x_train_dummies, y, test_size=0.33, random_state=42)\n",
    "rf = RandomForestClassifier(random_state =23)\n",
    "rf.fit(X_train,Y_train)\n",
    "\n",
    "predict_train_label = rf.predict(X_train)\n",
    "predict_train_proba = rf.predict_proba(X_train)[:,1]\n",
    "\n",
    "predict_validation_label = rf.predict(X_validation)\n",
    "predict_validation_prob = rf.predict_proba(X_validation)[:,1]\n",
    "\n",
    "print('train f1_score :', f1_score(Y_train,predict_train_label))\n",
    "print('validation f1_score :', f1_score(Y_validation,predict_validation_label))\n",
    "\n",
    "\n",
    "predict_test_label = rf.predict(x_test_dummies)\n",
    "\n",
    "# accuracy, f1_score, recall, precision \n",
    "#pd.DataFrame({'ID': x_test.ID, 'Reached.on.Time_Y.N': predict_test_label}).to_csv('003000000.csv', index=False)\n",
    "\n",
    "# auc, 확률\n",
    "#pd.DataFrame({'ID': x_test.ID, 'Reached.on.Time_Y.N': predict_test_proba}).to_csv('003000000.csv', index=False)"
   ]
  },
  {
   "cell_type": "markdown",
   "id": "2547ae18",
   "metadata": {},
   "source": [
    "성인 건강검진 데이터"
   ]
  },
  {
   "cell_type": "code",
   "execution_count": 149,
   "id": "9a4143ec",
   "metadata": {},
   "outputs": [
    {
     "data": {
      "text/html": [
       "<div>\n",
       "<style scoped>\n",
       "    .dataframe tbody tr th:only-of-type {\n",
       "        vertical-align: middle;\n",
       "    }\n",
       "\n",
       "    .dataframe tbody tr th {\n",
       "        vertical-align: top;\n",
       "    }\n",
       "\n",
       "    .dataframe thead th {\n",
       "        text-align: right;\n",
       "    }\n",
       "</style>\n",
       "<table border=\"1\" class=\"dataframe\">\n",
       "  <thead>\n",
       "    <tr style=\"text-align: right;\">\n",
       "      <th></th>\n",
       "      <th>ID</th>\n",
       "      <th>성별코드</th>\n",
       "      <th>연령대코드(5세단위)</th>\n",
       "      <th>신장(5Cm단위)</th>\n",
       "      <th>체중(5Kg단위)</th>\n",
       "      <th>허리둘레</th>\n",
       "      <th>시력(좌)</th>\n",
       "      <th>시력(우)</th>\n",
       "      <th>청력(좌)</th>\n",
       "      <th>청력(우)</th>\n",
       "      <th>...</th>\n",
       "      <th>LDL콜레스테롤</th>\n",
       "      <th>혈색소</th>\n",
       "      <th>요단백</th>\n",
       "      <th>혈청크레아티닌</th>\n",
       "      <th>(혈청지오티)AST</th>\n",
       "      <th>(혈청지오티)ALT</th>\n",
       "      <th>감마지티피</th>\n",
       "      <th>구강검진수검여부</th>\n",
       "      <th>치아우식증유무</th>\n",
       "      <th>치석</th>\n",
       "    </tr>\n",
       "  </thead>\n",
       "  <tbody>\n",
       "    <tr>\n",
       "      <th>0</th>\n",
       "      <td>0</td>\n",
       "      <td>F</td>\n",
       "      <td>40</td>\n",
       "      <td>155</td>\n",
       "      <td>60</td>\n",
       "      <td>81.3</td>\n",
       "      <td>1.2</td>\n",
       "      <td>1.0</td>\n",
       "      <td>1.0</td>\n",
       "      <td>1.0</td>\n",
       "      <td>...</td>\n",
       "      <td>126.0</td>\n",
       "      <td>12.9</td>\n",
       "      <td>1.0</td>\n",
       "      <td>0.7</td>\n",
       "      <td>18.0</td>\n",
       "      <td>19.0</td>\n",
       "      <td>27.0</td>\n",
       "      <td>Y</td>\n",
       "      <td>0.0</td>\n",
       "      <td>Y</td>\n",
       "    </tr>\n",
       "    <tr>\n",
       "      <th>1</th>\n",
       "      <td>1</td>\n",
       "      <td>F</td>\n",
       "      <td>40</td>\n",
       "      <td>160</td>\n",
       "      <td>60</td>\n",
       "      <td>81.0</td>\n",
       "      <td>0.8</td>\n",
       "      <td>0.6</td>\n",
       "      <td>1.0</td>\n",
       "      <td>1.0</td>\n",
       "      <td>...</td>\n",
       "      <td>127.0</td>\n",
       "      <td>12.7</td>\n",
       "      <td>1.0</td>\n",
       "      <td>0.6</td>\n",
       "      <td>22.0</td>\n",
       "      <td>19.0</td>\n",
       "      <td>18.0</td>\n",
       "      <td>Y</td>\n",
       "      <td>0.0</td>\n",
       "      <td>Y</td>\n",
       "    </tr>\n",
       "    <tr>\n",
       "      <th>2</th>\n",
       "      <td>2</td>\n",
       "      <td>M</td>\n",
       "      <td>55</td>\n",
       "      <td>170</td>\n",
       "      <td>60</td>\n",
       "      <td>80.0</td>\n",
       "      <td>0.8</td>\n",
       "      <td>0.8</td>\n",
       "      <td>1.0</td>\n",
       "      <td>1.0</td>\n",
       "      <td>...</td>\n",
       "      <td>151.0</td>\n",
       "      <td>15.8</td>\n",
       "      <td>1.0</td>\n",
       "      <td>1.0</td>\n",
       "      <td>21.0</td>\n",
       "      <td>16.0</td>\n",
       "      <td>22.0</td>\n",
       "      <td>Y</td>\n",
       "      <td>0.0</td>\n",
       "      <td>N</td>\n",
       "    </tr>\n",
       "    <tr>\n",
       "      <th>3</th>\n",
       "      <td>3</td>\n",
       "      <td>M</td>\n",
       "      <td>40</td>\n",
       "      <td>165</td>\n",
       "      <td>70</td>\n",
       "      <td>88.0</td>\n",
       "      <td>1.5</td>\n",
       "      <td>1.5</td>\n",
       "      <td>1.0</td>\n",
       "      <td>1.0</td>\n",
       "      <td>...</td>\n",
       "      <td>226.0</td>\n",
       "      <td>14.7</td>\n",
       "      <td>1.0</td>\n",
       "      <td>1.0</td>\n",
       "      <td>19.0</td>\n",
       "      <td>26.0</td>\n",
       "      <td>18.0</td>\n",
       "      <td>Y</td>\n",
       "      <td>0.0</td>\n",
       "      <td>Y</td>\n",
       "    </tr>\n",
       "    <tr>\n",
       "      <th>4</th>\n",
       "      <td>4</td>\n",
       "      <td>F</td>\n",
       "      <td>40</td>\n",
       "      <td>155</td>\n",
       "      <td>60</td>\n",
       "      <td>86.0</td>\n",
       "      <td>1.0</td>\n",
       "      <td>1.0</td>\n",
       "      <td>1.0</td>\n",
       "      <td>1.0</td>\n",
       "      <td>...</td>\n",
       "      <td>107.0</td>\n",
       "      <td>12.5</td>\n",
       "      <td>1.0</td>\n",
       "      <td>0.6</td>\n",
       "      <td>16.0</td>\n",
       "      <td>14.0</td>\n",
       "      <td>22.0</td>\n",
       "      <td>Y</td>\n",
       "      <td>0.0</td>\n",
       "      <td>N</td>\n",
       "    </tr>\n",
       "  </tbody>\n",
       "</table>\n",
       "<p>5 rows × 26 columns</p>\n",
       "</div>"
      ],
      "text/plain": [
       "   ID 성별코드  연령대코드(5세단위)  신장(5Cm단위)  체중(5Kg단위)  허리둘레  시력(좌)  시력(우)  청력(좌)  \\\n",
       "0   0    F           40        155         60  81.3    1.2    1.0    1.0   \n",
       "1   1    F           40        160         60  81.0    0.8    0.6    1.0   \n",
       "2   2    M           55        170         60  80.0    0.8    0.8    1.0   \n",
       "3   3    M           40        165         70  88.0    1.5    1.5    1.0   \n",
       "4   4    F           40        155         60  86.0    1.0    1.0    1.0   \n",
       "\n",
       "   청력(우)  ...  LDL콜레스테롤   혈색소  요단백  혈청크레아티닌  (혈청지오티)AST  (혈청지오티)ALT  감마지티피  \\\n",
       "0    1.0  ...     126.0  12.9  1.0      0.7        18.0        19.0   27.0   \n",
       "1    1.0  ...     127.0  12.7  1.0      0.6        22.0        19.0   18.0   \n",
       "2    1.0  ...     151.0  15.8  1.0      1.0        21.0        16.0   22.0   \n",
       "3    1.0  ...     226.0  14.7  1.0      1.0        19.0        26.0   18.0   \n",
       "4    1.0  ...     107.0  12.5  1.0      0.6        16.0        14.0   22.0   \n",
       "\n",
       "   구강검진수검여부  치아우식증유무  치석  \n",
       "0         Y      0.0   Y  \n",
       "1         Y      0.0   Y  \n",
       "2         Y      0.0   N  \n",
       "3         Y      0.0   Y  \n",
       "4         Y      0.0   N  \n",
       "\n",
       "[5 rows x 26 columns]"
      ]
     },
     "metadata": {},
     "output_type": "display_data"
    },
    {
     "data": {
      "text/html": [
       "<div>\n",
       "<style scoped>\n",
       "    .dataframe tbody tr th:only-of-type {\n",
       "        vertical-align: middle;\n",
       "    }\n",
       "\n",
       "    .dataframe tbody tr th {\n",
       "        vertical-align: top;\n",
       "    }\n",
       "\n",
       "    .dataframe thead th {\n",
       "        text-align: right;\n",
       "    }\n",
       "</style>\n",
       "<table border=\"1\" class=\"dataframe\">\n",
       "  <thead>\n",
       "    <tr style=\"text-align: right;\">\n",
       "      <th></th>\n",
       "      <th>ID</th>\n",
       "      <th>흡연상태</th>\n",
       "    </tr>\n",
       "  </thead>\n",
       "  <tbody>\n",
       "    <tr>\n",
       "      <th>0</th>\n",
       "      <td>0</td>\n",
       "      <td>0</td>\n",
       "    </tr>\n",
       "    <tr>\n",
       "      <th>1</th>\n",
       "      <td>1</td>\n",
       "      <td>0</td>\n",
       "    </tr>\n",
       "    <tr>\n",
       "      <th>2</th>\n",
       "      <td>2</td>\n",
       "      <td>1</td>\n",
       "    </tr>\n",
       "    <tr>\n",
       "      <th>3</th>\n",
       "      <td>3</td>\n",
       "      <td>0</td>\n",
       "    </tr>\n",
       "    <tr>\n",
       "      <th>4</th>\n",
       "      <td>4</td>\n",
       "      <td>0</td>\n",
       "    </tr>\n",
       "  </tbody>\n",
       "</table>\n",
       "</div>"
      ],
      "text/plain": [
       "   ID  흡연상태\n",
       "0   0     0\n",
       "1   1     0\n",
       "2   2     1\n",
       "3   3     0\n",
       "4   4     0"
      ]
     },
     "metadata": {},
     "output_type": "display_data"
    }
   ],
   "source": [
    "import pandas as pd\n",
    "#데이터 로드\n",
    "x_train = pd.read_csv(\"https://raw.githubusercontent.com/Datamanim/datarepo/main/smoke/x_train.csv\")\n",
    "y_train = pd.read_csv(\"https://raw.githubusercontent.com/Datamanim/datarepo/main/smoke/y_train.csv\")\n",
    "x_test= pd.read_csv(\"https://raw.githubusercontent.com/Datamanim/datarepo/main/smoke/x_test.csv\")\n",
    "\n",
    "\n",
    "display(x_train.head())\n",
    "display(y_train.head())"
   ]
  },
  {
   "cell_type": "code",
   "execution_count": 151,
   "id": "e55889d2",
   "metadata": {},
   "outputs": [
    {
     "data": {
      "text/plain": [
       "ID             44553\n",
       "성별코드               2\n",
       "연령대코드(5세단위)       14\n",
       "신장(5Cm단위)         13\n",
       "체중(5Kg단위)         22\n",
       "허리둘레             566\n",
       "시력(좌)             19\n",
       "시력(우)             17\n",
       "청력(좌)              2\n",
       "청력(우)              2\n",
       "수축기혈압            130\n",
       "이완기혈압             95\n",
       "식전혈당(공복혈당)       276\n",
       "총콜레스테롤           286\n",
       "트리글리세라이드         390\n",
       "HDL콜레스테롤         126\n",
       "LDL콜레스테롤         289\n",
       "혈색소              145\n",
       "요단백                6\n",
       "혈청크레아티닌           38\n",
       "(혈청지오티)AST       219\n",
       "(혈청지오티)ALT       245\n",
       "감마지티피            488\n",
       "구강검진수검여부           1\n",
       "치아우식증유무            2\n",
       "치석                 2\n",
       "dtype: int64"
      ]
     },
     "execution_count": 151,
     "metadata": {},
     "output_type": "execute_result"
    }
   ],
   "source": [
    "x_train.nunique()"
   ]
  },
  {
   "cell_type": "code",
   "execution_count": 155,
   "id": "c6d2f42b",
   "metadata": {},
   "outputs": [],
   "source": [
    "drop_col = ['ID', '구강검진수검여부']\n",
    "train_drop = x_train.drop(columns = drop_col)\n",
    "test_drop = x_test.drop(columns = drop_col)\n",
    "y = y_train['흡연상태']"
   ]
  },
  {
   "cell_type": "code",
   "execution_count": 156,
   "id": "7e6bcfe9",
   "metadata": {},
   "outputs": [],
   "source": [
    "train_dummies = pd.get_dummies(train_drop)\n",
    "test_dummies = pd.get_dummies(test_drop)\n",
    "test_dummies = test_dummies[train_dummies.columns]"
   ]
  },
  {
   "cell_type": "code",
   "execution_count": 157,
   "id": "eab164e3",
   "metadata": {},
   "outputs": [],
   "source": [
    "X_train, X_validation, Y_train, Y_validation = train_test_split(train_dummies, y, test_size = 0.33, random_state = 42)"
   ]
  },
  {
   "cell_type": "code",
   "execution_count": 159,
   "id": "38514cd3",
   "metadata": {},
   "outputs": [
    {
     "data": {
      "text/plain": [
       "RandomForestClassifier(random_state=23)"
      ]
     },
     "execution_count": 159,
     "metadata": {},
     "output_type": "execute_result"
    }
   ],
   "source": [
    "rf = RandomForestClassifier(random_state = 23)\n",
    "rf.fit(X_train, Y_train)"
   ]
  },
  {
   "cell_type": "code",
   "execution_count": null,
   "id": "2940f24f",
   "metadata": {},
   "outputs": [],
   "source": [
    "# 정확도 (accuracy) , f1_score , recall , precision -> model.predict로 결과뽑기"
   ]
  },
  {
   "cell_type": "code",
   "execution_count": 164,
   "id": "41b781e5",
   "metadata": {},
   "outputs": [],
   "source": [
    "predict_test_label = rf.predict(test_dummies)\n",
    "pd.DataFrame({'pred' : predict_test_label}).to_csv('result10.csv',index = False)"
   ]
  },
  {
   "cell_type": "code",
   "execution_count": 165,
   "id": "759c6a86",
   "metadata": {},
   "outputs": [
    {
     "data": {
      "text/plain": [
       "0.6795289855072465"
      ]
     },
     "execution_count": 165,
     "metadata": {},
     "output_type": "execute_result"
    }
   ],
   "source": [
    "predict_validation_label = rf.predict(X_validation)\n",
    "f1_score(Y_validation, predict_validation_label)"
   ]
  },
  {
   "cell_type": "code",
   "execution_count": 168,
   "id": "cb680781",
   "metadata": {},
   "outputs": [],
   "source": [
    "# auc , 확률이라는 표현있으면 model.predict_proba로 결과뽑고 첫번째 행의 값을 가져오기 model.predict_proba()[:,1]"
   ]
  },
  {
   "cell_type": "code",
   "execution_count": 169,
   "id": "3fcf2cb3",
   "metadata": {},
   "outputs": [],
   "source": [
    "predict_test_proba = rf.predict_proba(test_dummies)[:,1]\n",
    "pd.DataFrame({'pred' : predict_test_proba}).to_csv('result11.csv',index = False)"
   ]
  },
  {
   "cell_type": "code",
   "execution_count": 170,
   "id": "a51fe96f",
   "metadata": {},
   "outputs": [
    {
     "data": {
      "text/plain": [
       "0.8379443207832684"
      ]
     },
     "execution_count": 170,
     "metadata": {},
     "output_type": "execute_result"
    }
   ],
   "source": [
    "predict_validation_prob = rf.predict_proba(X_validation)[:,1]\n",
    "roc_auc_score(Y_validation,predict_validation_prob)"
   ]
  }
 ],
 "metadata": {
  "kernelspec": {
   "display_name": "Python 3 (ipykernel)",
   "language": "python",
   "name": "python3"
  },
  "language_info": {
   "codemirror_mode": {
    "name": "ipython",
    "version": 3
   },
   "file_extension": ".py",
   "mimetype": "text/x-python",
   "name": "python",
   "nbconvert_exporter": "python",
   "pygments_lexer": "ipython3",
   "version": "3.7.15"
  }
 },
 "nbformat": 4,
 "nbformat_minor": 5
}
