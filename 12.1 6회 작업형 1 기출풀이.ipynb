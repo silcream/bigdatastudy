{
 "cells": [
  {
   "cell_type": "code",
   "execution_count": 137,
   "id": "6b1db27f",
   "metadata": {},
   "outputs": [],
   "source": [
    "import warnings\n",
    "warnings.filterwarnings('ignore')"
   ]
  },
  {
   "cell_type": "markdown",
   "id": "d7c5ba2e",
   "metadata": {},
   "source": [
    "DataUrl = https://raw.githubusercontent.com/Datamanim/datarepo/main/krdatacertificate/e6_p1_1.csv 데이터 출처 : https://bigdata-119.kr/ 데이터 설명 : 소방신고별 신고시각과 출동시각 데이터 컬럼 설명 : 신고일자 (yyyymmdd) / 신고시각 (HHMMSS , 00시 , 00분의 경우 등 생략)"
   ]
  },
  {
   "cell_type": "code",
   "execution_count": 29,
   "id": "e338eeb3",
   "metadata": {},
   "outputs": [
    {
     "data": {
      "text/html": [
       "<div>\n",
       "<style scoped>\n",
       "    .dataframe tbody tr th:only-of-type {\n",
       "        vertical-align: middle;\n",
       "    }\n",
       "\n",
       "    .dataframe tbody tr th {\n",
       "        vertical-align: top;\n",
       "    }\n",
       "\n",
       "    .dataframe thead th {\n",
       "        text-align: right;\n",
       "    }\n",
       "</style>\n",
       "<table border=\"1\" class=\"dataframe\">\n",
       "  <thead>\n",
       "    <tr style=\"text-align: right;\">\n",
       "      <th></th>\n",
       "      <th>구급보고서번호</th>\n",
       "      <th>소방서명</th>\n",
       "      <th>환자증상구분명1</th>\n",
       "      <th>신고일자</th>\n",
       "      <th>신고시각</th>\n",
       "      <th>출동일자</th>\n",
       "      <th>출동시각</th>\n",
       "      <th>환자직업명</th>\n",
       "      <th>사고발생장소</th>\n",
       "    </tr>\n",
       "  </thead>\n",
       "  <tbody>\n",
       "    <tr>\n",
       "      <th>0</th>\n",
       "      <td>20211122103M01526</td>\n",
       "      <td>중랑소방서</td>\n",
       "      <td>심계항진</td>\n",
       "      <td>20210330</td>\n",
       "      <td>104800</td>\n",
       "      <td>20210330</td>\n",
       "      <td>105042</td>\n",
       "      <td>무직</td>\n",
       "      <td>집</td>\n",
       "    </tr>\n",
       "    <tr>\n",
       "      <th>1</th>\n",
       "      <td>20211111105M00771</td>\n",
       "      <td>노원소방서</td>\n",
       "      <td>복통</td>\n",
       "      <td>20210412</td>\n",
       "      <td>225600</td>\n",
       "      <td>20210412</td>\n",
       "      <td>225827</td>\n",
       "      <td>기타</td>\n",
       "      <td>집</td>\n",
       "    </tr>\n",
       "    <tr>\n",
       "      <th>2</th>\n",
       "      <td>20211115104M00864</td>\n",
       "      <td>서초소방서</td>\n",
       "      <td>심계항진</td>\n",
       "      <td>20210303</td>\n",
       "      <td>194100</td>\n",
       "      <td>20210303</td>\n",
       "      <td>194500</td>\n",
       "      <td>직장인</td>\n",
       "      <td>상업시설</td>\n",
       "    </tr>\n",
       "    <tr>\n",
       "      <th>3</th>\n",
       "      <td>20211113107M01869</td>\n",
       "      <td>마포소방서</td>\n",
       "      <td>고열</td>\n",
       "      <td>20211225</td>\n",
       "      <td>235400</td>\n",
       "      <td>20211226</td>\n",
       "      <td>331</td>\n",
       "      <td>유아</td>\n",
       "      <td>집</td>\n",
       "    </tr>\n",
       "    <tr>\n",
       "      <th>4</th>\n",
       "      <td>20211118102M05820</td>\n",
       "      <td>강동소방서</td>\n",
       "      <td>고열</td>\n",
       "      <td>20211019</td>\n",
       "      <td>12100</td>\n",
       "      <td>20211019</td>\n",
       "      <td>12322</td>\n",
       "      <td>무직</td>\n",
       "      <td>집</td>\n",
       "    </tr>\n",
       "  </tbody>\n",
       "</table>\n",
       "</div>"
      ],
      "text/plain": [
       "             구급보고서번호   소방서명 환자증상구분명1      신고일자    신고시각      출동일자    출동시각  \\\n",
       "0  20211122103M01526  중랑소방서     심계항진  20210330  104800  20210330  105042   \n",
       "1  20211111105M00771  노원소방서       복통  20210412  225600  20210412  225827   \n",
       "2  20211115104M00864  서초소방서     심계항진  20210303  194100  20210303  194500   \n",
       "3  20211113107M01869  마포소방서       고열  20211225  235400  20211226     331   \n",
       "4  20211118102M05820  강동소방서       고열  20211019   12100  20211019   12322   \n",
       "\n",
       "  환자직업명 사고발생장소  \n",
       "0    무직      집  \n",
       "1    기타      집  \n",
       "2   직장인   상업시설  \n",
       "3    유아      집  \n",
       "4    무직      집  "
      ]
     },
     "execution_count": 29,
     "metadata": {},
     "output_type": "execute_result"
    }
   ],
   "source": [
    "import pandas as pd\n",
    "df = pd.read_csv('https://raw.githubusercontent.com/Datamanim/datarepo/main/krdatacertificate/e6_p1_1.csv')\n",
    "df.head(5)"
   ]
  },
  {
   "cell_type": "code",
   "execution_count": 30,
   "id": "cb3f6c21",
   "metadata": {},
   "outputs": [
    {
     "name": "stdout",
     "output_type": "stream",
     "text": [
      "<class 'pandas.core.frame.DataFrame'>\n",
      "RangeIndex: 2762 entries, 0 to 2761\n",
      "Data columns (total 9 columns):\n",
      " #   Column    Non-Null Count  Dtype \n",
      "---  ------    --------------  ----- \n",
      " 0   구급보고서번호   2762 non-null   object\n",
      " 1   소방서명      2762 non-null   object\n",
      " 2   환자증상구분명1  2762 non-null   object\n",
      " 3   신고일자      2762 non-null   int64 \n",
      " 4   신고시각      2762 non-null   int64 \n",
      " 5   출동일자      2762 non-null   int64 \n",
      " 6   출동시각      2762 non-null   int64 \n",
      " 7   환자직업명     2762 non-null   object\n",
      " 8   사고발생장소    2762 non-null   object\n",
      "dtypes: int64(4), object(5)\n",
      "memory usage: 194.3+ KB\n"
     ]
    }
   ],
   "source": [
    "df.info()"
   ]
  },
  {
   "cell_type": "markdown",
   "id": "acf35d90",
   "metadata": {},
   "source": [
    "각 구급 보고서 별 출동시각과 신고시각의 차이를 ‘소요시간’ 컬럼을 만들고 초(sec)단위로 구하고 소방서명 별 소요시간의 평균을 오름차순으로 정렬 했을때 3번째로 작은 소요시간의 값과 소방서명을 출력하라"
   ]
  },
  {
   "cell_type": "code",
   "execution_count": 38,
   "id": "1fb8f5a4",
   "metadata": {},
   "outputs": [],
   "source": [
    "df['소요시각'] = (pd.to_datetime(df['출동일자'].astype('str')+df['출동시각'].astype('str').str.zfill(6))\\\n",
    "-pd.to_datetime(df['신고일자'].astype('str')+df['신고시각'].astype('str').str.zfill(6))).dt.total_seconds()"
   ]
  },
  {
   "cell_type": "code",
   "execution_count": 62,
   "id": "9317ca3b",
   "metadata": {},
   "outputs": [
    {
     "data": {
      "text/html": [
       "<div>\n",
       "<style scoped>\n",
       "    .dataframe tbody tr th:only-of-type {\n",
       "        vertical-align: middle;\n",
       "    }\n",
       "\n",
       "    .dataframe tbody tr th {\n",
       "        vertical-align: top;\n",
       "    }\n",
       "\n",
       "    .dataframe thead th {\n",
       "        text-align: right;\n",
       "    }\n",
       "</style>\n",
       "<table border=\"1\" class=\"dataframe\">\n",
       "  <thead>\n",
       "    <tr style=\"text-align: right;\">\n",
       "      <th></th>\n",
       "      <th>소요시각</th>\n",
       "    </tr>\n",
       "    <tr>\n",
       "      <th>소방서명</th>\n",
       "      <th></th>\n",
       "    </tr>\n",
       "  </thead>\n",
       "  <tbody>\n",
       "    <tr>\n",
       "      <th>종로소방서</th>\n",
       "      <td>175.5</td>\n",
       "    </tr>\n",
       "  </tbody>\n",
       "</table>\n",
       "</div>"
      ],
      "text/plain": [
       "        소요시각\n",
       "소방서명        \n",
       "종로소방서  175.5"
      ]
     },
     "execution_count": 62,
     "metadata": {},
     "output_type": "execute_result"
    }
   ],
   "source": [
    "df[['소방서명', '소요시각']].groupby(['소방서명']).mean().sort_values(by='소요시각',ascending = True).iloc[2:3]"
   ]
  },
  {
   "cell_type": "markdown",
   "id": "af42ff80",
   "metadata": {},
   "source": [
    "DataUrl = https://raw.githubusercontent.com/Datamanim/datarepo/main/krdatacertificate/e6_p1_2.csv 데이터 출처 :https://kess.kedi.re.kr/contents/dataset 국내 학교 및 학급 인원 수"
   ]
  },
  {
   "cell_type": "code",
   "execution_count": 63,
   "id": "791f2d66",
   "metadata": {},
   "outputs": [
    {
     "data": {
      "text/html": [
       "<div>\n",
       "<style scoped>\n",
       "    .dataframe tbody tr th:only-of-type {\n",
       "        vertical-align: middle;\n",
       "    }\n",
       "\n",
       "    .dataframe tbody tr th {\n",
       "        vertical-align: top;\n",
       "    }\n",
       "\n",
       "    .dataframe thead th {\n",
       "        text-align: right;\n",
       "    }\n",
       "</style>\n",
       "<table border=\"1\" class=\"dataframe\">\n",
       "  <thead>\n",
       "    <tr style=\"text-align: right;\">\n",
       "      <th></th>\n",
       "      <th>학교명</th>\n",
       "      <th>시도</th>\n",
       "      <th>학교세부유형</th>\n",
       "      <th>일반학급_학생수_계</th>\n",
       "      <th>교원수_총계_계</th>\n",
       "    </tr>\n",
       "  </thead>\n",
       "  <tbody>\n",
       "    <tr>\n",
       "      <th>0</th>\n",
       "      <td>서울대학교사범대학부설고등학교</td>\n",
       "      <td>서울</td>\n",
       "      <td>일반고등학교</td>\n",
       "      <td>689</td>\n",
       "      <td>73</td>\n",
       "    </tr>\n",
       "    <tr>\n",
       "      <th>1</th>\n",
       "      <td>가락고등학교</td>\n",
       "      <td>서울</td>\n",
       "      <td>일반고등학교</td>\n",
       "      <td>765</td>\n",
       "      <td>70</td>\n",
       "    </tr>\n",
       "    <tr>\n",
       "      <th>2</th>\n",
       "      <td>개포고등학교</td>\n",
       "      <td>서울</td>\n",
       "      <td>일반고등학교</td>\n",
       "      <td>684</td>\n",
       "      <td>69</td>\n",
       "    </tr>\n",
       "    <tr>\n",
       "      <th>3</th>\n",
       "      <td>경기고등학교</td>\n",
       "      <td>서울</td>\n",
       "      <td>일반고등학교</td>\n",
       "      <td>1047</td>\n",
       "      <td>96</td>\n",
       "    </tr>\n",
       "    <tr>\n",
       "      <th>4</th>\n",
       "      <td>경동고등학교</td>\n",
       "      <td>서울</td>\n",
       "      <td>일반고등학교</td>\n",
       "      <td>529</td>\n",
       "      <td>58</td>\n",
       "    </tr>\n",
       "  </tbody>\n",
       "</table>\n",
       "</div>"
      ],
      "text/plain": [
       "               학교명  시도  학교세부유형  일반학급_학생수_계  교원수_총계_계\n",
       "0  서울대학교사범대학부설고등학교  서울  일반고등학교         689        73\n",
       "1           가락고등학교  서울  일반고등학교         765        70\n",
       "2           개포고등학교  서울  일반고등학교         684        69\n",
       "3           경기고등학교  서울  일반고등학교        1047        96\n",
       "4           경동고등학교  서울  일반고등학교         529        58"
      ]
     },
     "execution_count": 63,
     "metadata": {},
     "output_type": "execute_result"
    }
   ],
   "source": [
    "import pandas as pd\n",
    "df = pd.read_csv('https://raw.githubusercontent.com/Datamanim/datarepo/main/krdatacertificate/e6_p1_2.csv')\n",
    "df.head(5)"
   ]
  },
  {
   "cell_type": "markdown",
   "id": "8d6829fe",
   "metadata": {},
   "source": [
    "학교 세부유형이 일반중학교인 학교들 중 일반중학교 숫자가 2번째로 많은 시도의 일반중학교 데이터만 필터하여 해당 시도의 교원 한명 당 맡은 학생수가 가장 많은 학교를 찾아서 해당 학교의 교원수를 출력하라"
   ]
  },
  {
   "cell_type": "code",
   "execution_count": 67,
   "id": "db0c8534",
   "metadata": {},
   "outputs": [
    {
     "data": {
      "text/html": [
       "<div>\n",
       "<style scoped>\n",
       "    .dataframe tbody tr th:only-of-type {\n",
       "        vertical-align: middle;\n",
       "    }\n",
       "\n",
       "    .dataframe tbody tr th {\n",
       "        vertical-align: top;\n",
       "    }\n",
       "\n",
       "    .dataframe thead th {\n",
       "        text-align: right;\n",
       "    }\n",
       "</style>\n",
       "<table border=\"1\" class=\"dataframe\">\n",
       "  <thead>\n",
       "    <tr style=\"text-align: right;\">\n",
       "      <th></th>\n",
       "      <th>학교명</th>\n",
       "      <th>시도</th>\n",
       "      <th>학교세부유형</th>\n",
       "      <th>일반학급_학생수_계</th>\n",
       "      <th>교원수_총계_계</th>\n",
       "      <th>교원_한명_당_맡은_학생수</th>\n",
       "    </tr>\n",
       "  </thead>\n",
       "  <tbody>\n",
       "    <tr>\n",
       "      <th>0</th>\n",
       "      <td>서울대학교사범대학부설고등학교</td>\n",
       "      <td>서울</td>\n",
       "      <td>일반고등학교</td>\n",
       "      <td>689</td>\n",
       "      <td>73</td>\n",
       "      <td>9.438356</td>\n",
       "    </tr>\n",
       "    <tr>\n",
       "      <th>1</th>\n",
       "      <td>가락고등학교</td>\n",
       "      <td>서울</td>\n",
       "      <td>일반고등학교</td>\n",
       "      <td>765</td>\n",
       "      <td>70</td>\n",
       "      <td>10.928571</td>\n",
       "    </tr>\n",
       "    <tr>\n",
       "      <th>2</th>\n",
       "      <td>개포고등학교</td>\n",
       "      <td>서울</td>\n",
       "      <td>일반고등학교</td>\n",
       "      <td>684</td>\n",
       "      <td>69</td>\n",
       "      <td>9.913043</td>\n",
       "    </tr>\n",
       "    <tr>\n",
       "      <th>3</th>\n",
       "      <td>경기고등학교</td>\n",
       "      <td>서울</td>\n",
       "      <td>일반고등학교</td>\n",
       "      <td>1047</td>\n",
       "      <td>96</td>\n",
       "      <td>10.906250</td>\n",
       "    </tr>\n",
       "    <tr>\n",
       "      <th>4</th>\n",
       "      <td>경동고등학교</td>\n",
       "      <td>서울</td>\n",
       "      <td>일반고등학교</td>\n",
       "      <td>529</td>\n",
       "      <td>58</td>\n",
       "      <td>9.120690</td>\n",
       "    </tr>\n",
       "    <tr>\n",
       "      <th>...</th>\n",
       "      <td>...</td>\n",
       "      <td>...</td>\n",
       "      <td>...</td>\n",
       "      <td>...</td>\n",
       "      <td>...</td>\n",
       "      <td>...</td>\n",
       "    </tr>\n",
       "    <tr>\n",
       "      <th>4955</th>\n",
       "      <td>위미중학교</td>\n",
       "      <td>제주</td>\n",
       "      <td>일반중학교</td>\n",
       "      <td>96</td>\n",
       "      <td>15</td>\n",
       "      <td>6.400000</td>\n",
       "    </tr>\n",
       "    <tr>\n",
       "      <th>4956</th>\n",
       "      <td>중문중학교</td>\n",
       "      <td>제주</td>\n",
       "      <td>일반중학교</td>\n",
       "      <td>459</td>\n",
       "      <td>42</td>\n",
       "      <td>10.928571</td>\n",
       "    </tr>\n",
       "    <tr>\n",
       "      <th>4957</th>\n",
       "      <td>표선중학교</td>\n",
       "      <td>제주</td>\n",
       "      <td>일반중학교</td>\n",
       "      <td>375</td>\n",
       "      <td>35</td>\n",
       "      <td>10.714286</td>\n",
       "    </tr>\n",
       "    <tr>\n",
       "      <th>4958</th>\n",
       "      <td>효돈중학교</td>\n",
       "      <td>제주</td>\n",
       "      <td>일반중학교</td>\n",
       "      <td>137</td>\n",
       "      <td>18</td>\n",
       "      <td>7.611111</td>\n",
       "    </tr>\n",
       "    <tr>\n",
       "      <th>4959</th>\n",
       "      <td>남주중학교</td>\n",
       "      <td>제주</td>\n",
       "      <td>일반중학교</td>\n",
       "      <td>351</td>\n",
       "      <td>24</td>\n",
       "      <td>14.625000</td>\n",
       "    </tr>\n",
       "  </tbody>\n",
       "</table>\n",
       "<p>4960 rows × 6 columns</p>\n",
       "</div>"
      ],
      "text/plain": [
       "                  학교명  시도  학교세부유형  일반학급_학생수_계  교원수_총계_계  교원_한명_당_맡은_학생수\n",
       "0     서울대학교사범대학부설고등학교  서울  일반고등학교         689        73        9.438356\n",
       "1              가락고등학교  서울  일반고등학교         765        70       10.928571\n",
       "2              개포고등학교  서울  일반고등학교         684        69        9.913043\n",
       "3              경기고등학교  서울  일반고등학교        1047        96       10.906250\n",
       "4              경동고등학교  서울  일반고등학교         529        58        9.120690\n",
       "...               ...  ..     ...         ...       ...             ...\n",
       "4955            위미중학교  제주   일반중학교          96        15        6.400000\n",
       "4956            중문중학교  제주   일반중학교         459        42       10.928571\n",
       "4957            표선중학교  제주   일반중학교         375        35       10.714286\n",
       "4958            효돈중학교  제주   일반중학교         137        18        7.611111\n",
       "4959            남주중학교  제주   일반중학교         351        24       14.625000\n",
       "\n",
       "[4960 rows x 6 columns]"
      ]
     },
     "execution_count": 67,
     "metadata": {},
     "output_type": "execute_result"
    }
   ],
   "source": [
    "df['교원_한명_당_맡은_학생수'] = df['일반학급_학생수_계'] / df['교원수_총계_계']\n",
    "df"
   ]
  },
  {
   "cell_type": "code",
   "execution_count": 66,
   "id": "3828b7cf",
   "metadata": {},
   "outputs": [
    {
     "data": {
      "text/plain": [
       "시도\n",
       "경기    659\n",
       "서울    387\n",
       "경남    266\n",
       "경북    266\n",
       "전남    253\n",
       "전북    209\n",
       "충남    186\n",
       "부산    166\n",
       "강원    160\n",
       "인천    143\n",
       "충북    128\n",
       "대구    124\n",
       "광주     90\n",
       "대전     88\n",
       "울산     63\n",
       "제주     45\n",
       "세종     27\n",
       "dtype: int64"
      ]
     },
     "execution_count": 66,
     "metadata": {},
     "output_type": "execute_result"
    }
   ],
   "source": [
    "df[df['학교세부유형'] == '일반중학교'].groupby(['시도']).size().sort_values(ascending = False)"
   ]
  },
  {
   "cell_type": "code",
   "execution_count": 76,
   "id": "1dfbd36f",
   "metadata": {},
   "outputs": [],
   "source": [
    "ans = df[(df['학교세부유형'] == '일반중학교') & (df['시도'] == '서울')].sort_values(by='교원_한명_당_맡은_학생수', ascending = False).iloc[0]"
   ]
  },
  {
   "cell_type": "code",
   "execution_count": 78,
   "id": "33f427fe",
   "metadata": {},
   "outputs": [
    {
     "data": {
      "text/plain": [
       "33"
      ]
     },
     "execution_count": 78,
     "metadata": {},
     "output_type": "execute_result"
    }
   ],
   "source": [
    "ans.교원수_총계_계 "
   ]
  },
  {
   "cell_type": "markdown",
   "id": "6ea29d51",
   "metadata": {},
   "source": [
    "DataUrl = https://raw.githubusercontent.com/Datamanim/datarepo/main/krdatacertificate/e6_p1_3.csv 5대범죄 발생현황 : https://www.data.go.kr/data/15085721/fileData.do#layer_data_infomation & 후처리"
   ]
  },
  {
   "cell_type": "code",
   "execution_count": 81,
   "id": "97f9250b",
   "metadata": {},
   "outputs": [
    {
     "data": {
      "text/html": [
       "<div>\n",
       "<style scoped>\n",
       "    .dataframe tbody tr th:only-of-type {\n",
       "        vertical-align: middle;\n",
       "    }\n",
       "\n",
       "    .dataframe tbody tr th {\n",
       "        vertical-align: top;\n",
       "    }\n",
       "\n",
       "    .dataframe thead th {\n",
       "        text-align: right;\n",
       "    }\n",
       "</style>\n",
       "<table border=\"1\" class=\"dataframe\">\n",
       "  <thead>\n",
       "    <tr style=\"text-align: right;\">\n",
       "      <th></th>\n",
       "      <th>범죄분류</th>\n",
       "      <th>절도</th>\n",
       "      <th>사기</th>\n",
       "      <th>배임</th>\n",
       "      <th>방화</th>\n",
       "      <th>폭행</th>\n",
       "    </tr>\n",
       "  </thead>\n",
       "  <tbody>\n",
       "    <tr>\n",
       "      <th>0</th>\n",
       "      <td>2018년_1월</td>\n",
       "      <td>13280</td>\n",
       "      <td>25318</td>\n",
       "      <td>656</td>\n",
       "      <td>143</td>\n",
       "      <td>12186</td>\n",
       "    </tr>\n",
       "    <tr>\n",
       "      <th>1</th>\n",
       "      <td>2018년_2월</td>\n",
       "      <td>12504</td>\n",
       "      <td>19159</td>\n",
       "      <td>403</td>\n",
       "      <td>135</td>\n",
       "      <td>12087</td>\n",
       "    </tr>\n",
       "    <tr>\n",
       "      <th>2</th>\n",
       "      <td>2018년_3월</td>\n",
       "      <td>14733</td>\n",
       "      <td>24509</td>\n",
       "      <td>471</td>\n",
       "      <td>148</td>\n",
       "      <td>13841</td>\n",
       "    </tr>\n",
       "    <tr>\n",
       "      <th>3</th>\n",
       "      <td>2018년_4월</td>\n",
       "      <td>14781</td>\n",
       "      <td>23147</td>\n",
       "      <td>414</td>\n",
       "      <td>135</td>\n",
       "      <td>13973</td>\n",
       "    </tr>\n",
       "    <tr>\n",
       "      <th>4</th>\n",
       "      <td>2018년_5월</td>\n",
       "      <td>15988</td>\n",
       "      <td>23584</td>\n",
       "      <td>451</td>\n",
       "      <td>127</td>\n",
       "      <td>14117</td>\n",
       "    </tr>\n",
       "  </tbody>\n",
       "</table>\n",
       "</div>"
      ],
      "text/plain": [
       "       범죄분류     절도     사기   배임   방화     폭행\n",
       "0  2018년_1월  13280  25318  656  143  12186\n",
       "1  2018년_2월  12504  19159  403  135  12087\n",
       "2  2018년_3월  14733  24509  471  148  13841\n",
       "3  2018년_4월  14781  23147  414  135  13973\n",
       "4  2018년_5월  15988  23584  451  127  14117"
      ]
     },
     "execution_count": 81,
     "metadata": {},
     "output_type": "execute_result"
    }
   ],
   "source": [
    "import pandas as pd\n",
    "df = pd.read_csv('https://raw.githubusercontent.com/Datamanim/datarepo/main/krdatacertificate/e6_p1_3.csv')\n",
    "df.head(5)"
   ]
  },
  {
   "cell_type": "markdown",
   "id": "5a0180ae",
   "metadata": {},
   "source": [
    "**5대 범죄(절도, 사기, 배임, 방화, 폭행)의 월별 총 발생건수를 총범죄수라고 표현하자. 18,19년의 각각 분기별 총범죄수의 월평균 값을 구했을때 최대값을 가지는 년도와 분기를 구하고 해당 분기의 최댓값의 사기가 발생한 월의 사기 발생건수를 출력하라(1분기:1,2,3월 / 2분기 : 4,5,6월 / 3분기 7,8,9월 / 4분기 10,11,12월 , 1분기 월평균 : 1,2,3월의 총범죄수 평균) **"
   ]
  },
  {
   "cell_type": "code",
   "execution_count": null,
   "id": "7438ce8a",
   "metadata": {},
   "outputs": [],
   "source": []
  },
  {
   "cell_type": "code",
   "execution_count": 138,
   "id": "d95111ba",
   "metadata": {},
   "outputs": [],
   "source": [
    "df['총범죄수'] = (df['절도'] + df['사기'] + df['배임'] + df['방화']+ df['폭행'])\n",
    "df['분기'] = '아'\n",
    "for i in range(0, len(df), 3):\n",
    "    for j in range(3):\n",
    "        df['분기'][i] = f'{i+1}분기'\n",
    "        df['분기'][i+1] = f'{i+1}분기'\n",
    "        df['분기'][i+2] = f'{i+1}분기'"
   ]
  },
  {
   "cell_type": "code",
   "execution_count": 146,
   "id": "c7c13aee",
   "metadata": {},
   "outputs": [
    {
     "data": {
      "text/html": [
       "<div>\n",
       "<style scoped>\n",
       "    .dataframe tbody tr th:only-of-type {\n",
       "        vertical-align: middle;\n",
       "    }\n",
       "\n",
       "    .dataframe tbody tr th {\n",
       "        vertical-align: top;\n",
       "    }\n",
       "\n",
       "    .dataframe thead th {\n",
       "        text-align: right;\n",
       "    }\n",
       "</style>\n",
       "<table border=\"1\" class=\"dataframe\">\n",
       "  <thead>\n",
       "    <tr style=\"text-align: right;\">\n",
       "      <th></th>\n",
       "      <th>총범죄수</th>\n",
       "    </tr>\n",
       "    <tr>\n",
       "      <th>분기</th>\n",
       "      <th></th>\n",
       "    </tr>\n",
       "  </thead>\n",
       "  <tbody>\n",
       "    <tr>\n",
       "      <th>10분기</th>\n",
       "      <td>50481.666667</td>\n",
       "    </tr>\n",
       "    <tr>\n",
       "      <th>13분기</th>\n",
       "      <td>53137.333333</td>\n",
       "    </tr>\n",
       "    <tr>\n",
       "      <th>16분기</th>\n",
       "      <td>58438.333333</td>\n",
       "    </tr>\n",
       "    <tr>\n",
       "      <th>19분기</th>\n",
       "      <td>58334.666667</td>\n",
       "    </tr>\n",
       "    <tr>\n",
       "      <th>1분기</th>\n",
       "      <td>49857.666667</td>\n",
       "    </tr>\n",
       "    <tr>\n",
       "      <th>22분기</th>\n",
       "      <td>53582.333333</td>\n",
       "    </tr>\n",
       "    <tr>\n",
       "      <th>4분기</th>\n",
       "      <td>53462.333333</td>\n",
       "    </tr>\n",
       "    <tr>\n",
       "      <th>7분기</th>\n",
       "      <td>55461.666667</td>\n",
       "    </tr>\n",
       "  </tbody>\n",
       "</table>\n",
       "</div>"
      ],
      "text/plain": [
       "              총범죄수\n",
       "분기                \n",
       "10분기  50481.666667\n",
       "13분기  53137.333333\n",
       "16분기  58438.333333\n",
       "19분기  58334.666667\n",
       "1분기   49857.666667\n",
       "22분기  53582.333333\n",
       "4분기   53462.333333\n",
       "7분기   55461.666667"
      ]
     },
     "execution_count": 146,
     "metadata": {},
     "output_type": "execute_result"
    }
   ],
   "source": [
    "df[['총범죄수', '분기']].groupby('분기').mean()"
   ]
  },
  {
   "cell_type": "code",
   "execution_count": 148,
   "id": "cfb86373",
   "metadata": {},
   "outputs": [
    {
     "data": {
      "text/plain": [
       "27766"
      ]
     },
     "execution_count": 148,
     "metadata": {},
     "output_type": "execute_result"
    }
   ],
   "source": [
    "df[df['분기'] == '16분기'].사기.max()"
   ]
  },
  {
   "cell_type": "code",
   "execution_count": null,
   "id": "c37b516f",
   "metadata": {},
   "outputs": [],
   "source": []
  }
 ],
 "metadata": {
  "kernelspec": {
   "display_name": "Python 3 (ipykernel)",
   "language": "python",
   "name": "python3"
  },
  "language_info": {
   "codemirror_mode": {
    "name": "ipython",
    "version": 3
   },
   "file_extension": ".py",
   "mimetype": "text/x-python",
   "name": "python",
   "nbconvert_exporter": "python",
   "pygments_lexer": "ipython3",
   "version": "3.7.15"
  }
 },
 "nbformat": 4,
 "nbformat_minor": 5
}
