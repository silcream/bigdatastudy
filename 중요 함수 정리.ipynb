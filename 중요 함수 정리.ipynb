{
 "cells": [
  {
   "cell_type": "code",
   "execution_count": 1,
   "id": "46f5582f",
   "metadata": {},
   "outputs": [],
   "source": [
    "import pandas as pd\n",
    "import numpy as np"
   ]
  },
  {
   "cell_type": "markdown",
   "id": "c863d797",
   "metadata": {},
   "source": [
    "최빈값 -> .mode()"
   ]
  },
  {
   "cell_type": "markdown",
   "id": "7d1c3bc4",
   "metadata": {},
   "source": [
    "분산 -> .var()\n",
    "\n",
    "표준편차 -> .std()"
   ]
  },
  {
   "cell_type": "markdown",
   "id": "cd1a06f5",
   "metadata": {},
   "source": [
    "사분위수 -> .quantile(0.25)"
   ]
  },
  {
   "cell_type": "markdown",
   "id": "401a8e99",
   "metadata": {},
   "source": [
    "IQR -> .quantile(0.75) - .quantile(0.25)"
   ]
  },
  {
   "cell_type": "markdown",
   "id": "77a4a1d4",
   "metadata": {},
   "source": [
    "왜도 -> .skew()\n",
    "\n",
    "첨도 -> .kurt()"
   ]
  },
  {
   "cell_type": "markdown",
   "id": "7cdce5bf",
   "metadata": {},
   "source": [
    "절대값 -> abs(변수명)"
   ]
  },
  {
   "cell_type": "code",
   "execution_count": null,
   "id": "ea3dd9cc",
   "metadata": {},
   "outputs": [],
   "source": []
  }
 ],
 "metadata": {
  "kernelspec": {
   "display_name": "Python 3 (ipykernel)",
   "language": "python",
   "name": "python3"
  },
  "language_info": {
   "codemirror_mode": {
    "name": "ipython",
    "version": 3
   },
   "file_extension": ".py",
   "mimetype": "text/x-python",
   "name": "python",
   "nbconvert_exporter": "python",
   "pygments_lexer": "ipython3",
   "version": "3.7.15"
  }
 },
 "nbformat": 4,
 "nbformat_minor": 5
}
