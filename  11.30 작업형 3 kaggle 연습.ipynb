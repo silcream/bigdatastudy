{
 "cells": [
  {
   "cell_type": "markdown",
   "id": "6dd9ce62",
   "metadata": {},
   "source": [
    "주어진 데이터는 고혈압 환자 치료 전후의 혈압이다. 해당 치료가 효과가 있는지 대응(쌍체)표본 t-검정을 진행하시오"
   ]
  },
  {
   "cell_type": "markdown",
   "id": "67cfe556",
   "metadata": {},
   "source": [
    "귀무가설(H0):  μ >= 0\n",
    "\n",
    "대립가설(H1):  μ < 0\n",
    "\n",
    "μ = (치료 후 혈압 - 치료 전 혈압)의 평균\n",
    "\n",
    "유의수준: 0.05\n",
    "\n",
    "1. μ 의 표본평균은?(소수 둘째자리까지 반올림)\n",
    "\n",
    "2. 검정통계량 값은?(소수 넷째자리까지 반올림)\n",
    "\n",
    "3. p-값은?(소수 넷째자리까지 반올림)\n",
    "\n",
    "4. 가설검정의 결과는? (유의수준 5%)"
   ]
  },
  {
   "cell_type": "code",
   "execution_count": 1,
   "id": "18165067",
   "metadata": {},
   "outputs": [
    {
     "data": {
      "text/html": [
       "<div>\n",
       "<style scoped>\n",
       "    .dataframe tbody tr th:only-of-type {\n",
       "        vertical-align: middle;\n",
       "    }\n",
       "\n",
       "    .dataframe tbody tr th {\n",
       "        vertical-align: top;\n",
       "    }\n",
       "\n",
       "    .dataframe thead th {\n",
       "        text-align: right;\n",
       "    }\n",
       "</style>\n",
       "<table border=\"1\" class=\"dataframe\">\n",
       "  <thead>\n",
       "    <tr style=\"text-align: right;\">\n",
       "      <th></th>\n",
       "      <th>Id</th>\n",
       "      <th>sex</th>\n",
       "      <th>age</th>\n",
       "      <th>bp_pre</th>\n",
       "      <th>bp_post</th>\n",
       "    </tr>\n",
       "  </thead>\n",
       "  <tbody>\n",
       "    <tr>\n",
       "      <th>0</th>\n",
       "      <td>p001</td>\n",
       "      <td>Male</td>\n",
       "      <td>33</td>\n",
       "      <td>149</td>\n",
       "      <td>129</td>\n",
       "    </tr>\n",
       "    <tr>\n",
       "      <th>1</th>\n",
       "      <td>p002</td>\n",
       "      <td>Male</td>\n",
       "      <td>39</td>\n",
       "      <td>168</td>\n",
       "      <td>168</td>\n",
       "    </tr>\n",
       "    <tr>\n",
       "      <th>2</th>\n",
       "      <td>p003</td>\n",
       "      <td>Male</td>\n",
       "      <td>70</td>\n",
       "      <td>176</td>\n",
       "      <td>155</td>\n",
       "    </tr>\n",
       "    <tr>\n",
       "      <th>3</th>\n",
       "      <td>p004</td>\n",
       "      <td>Female</td>\n",
       "      <td>41</td>\n",
       "      <td>169</td>\n",
       "      <td>178</td>\n",
       "    </tr>\n",
       "    <tr>\n",
       "      <th>4</th>\n",
       "      <td>p005</td>\n",
       "      <td>Male</td>\n",
       "      <td>48</td>\n",
       "      <td>160</td>\n",
       "      <td>126</td>\n",
       "    </tr>\n",
       "    <tr>\n",
       "      <th>...</th>\n",
       "      <td>...</td>\n",
       "      <td>...</td>\n",
       "      <td>...</td>\n",
       "      <td>...</td>\n",
       "      <td>...</td>\n",
       "    </tr>\n",
       "    <tr>\n",
       "      <th>115</th>\n",
       "      <td>p116</td>\n",
       "      <td>Male</td>\n",
       "      <td>70</td>\n",
       "      <td>173</td>\n",
       "      <td>129</td>\n",
       "    </tr>\n",
       "    <tr>\n",
       "      <th>116</th>\n",
       "      <td>p117</td>\n",
       "      <td>Male</td>\n",
       "      <td>75</td>\n",
       "      <td>153</td>\n",
       "      <td>157</td>\n",
       "    </tr>\n",
       "    <tr>\n",
       "      <th>117</th>\n",
       "      <td>p118</td>\n",
       "      <td>Female</td>\n",
       "      <td>79</td>\n",
       "      <td>156</td>\n",
       "      <td>143</td>\n",
       "    </tr>\n",
       "    <tr>\n",
       "      <th>118</th>\n",
       "      <td>p119</td>\n",
       "      <td>Female</td>\n",
       "      <td>40</td>\n",
       "      <td>182</td>\n",
       "      <td>172</td>\n",
       "    </tr>\n",
       "    <tr>\n",
       "      <th>119</th>\n",
       "      <td>p120</td>\n",
       "      <td>Female</td>\n",
       "      <td>41</td>\n",
       "      <td>142</td>\n",
       "      <td>168</td>\n",
       "    </tr>\n",
       "  </tbody>\n",
       "</table>\n",
       "<p>120 rows × 5 columns</p>\n",
       "</div>"
      ],
      "text/plain": [
       "       Id     sex  age  bp_pre  bp_post\n",
       "0    p001    Male   33     149      129\n",
       "1    p002    Male   39     168      168\n",
       "2    p003    Male   70     176      155\n",
       "3    p004  Female   41     169      178\n",
       "4    p005    Male   48     160      126\n",
       "..    ...     ...  ...     ...      ...\n",
       "115  p116    Male   70     173      129\n",
       "116  p117    Male   75     153      157\n",
       "117  p118  Female   79     156      143\n",
       "118  p119  Female   40     182      172\n",
       "119  p120  Female   41     142      168\n",
       "\n",
       "[120 rows x 5 columns]"
      ]
     },
     "execution_count": 1,
     "metadata": {},
     "output_type": "execute_result"
    }
   ],
   "source": [
    "import pandas as pd\n",
    "df = pd.read_csv(\"high_blood_pressure.csv\")\n",
    "df"
   ]
  },
  {
   "cell_type": "code",
   "execution_count": 2,
   "id": "28276945",
   "metadata": {},
   "outputs": [
    {
     "name": "stdout",
     "output_type": "stream",
     "text": [
      "163.65 157.5333\n"
     ]
    }
   ],
   "source": [
    "before = df['bp_pre']\n",
    "after = df['bp_post']\n",
    "print(round(before.mean(), 2), round(after.mean() ,4))"
   ]
  },
  {
   "cell_type": "code",
   "execution_count": 3,
   "id": "9301b9b1",
   "metadata": {},
   "outputs": [],
   "source": [
    "from scipy.stats import ttest_rel"
   ]
  },
  {
   "cell_type": "code",
   "execution_count": 4,
   "id": "bb1cefd6",
   "metadata": {},
   "outputs": [
    {
     "name": "stdout",
     "output_type": "stream",
     "text": [
      "3.0002163948827545 0.0016434474228511028\n"
     ]
    }
   ],
   "source": [
    "s, p = ttest_rel(before, after, alternative='greater')\n",
    "print(s, p)"
   ]
  },
  {
   "cell_type": "code",
   "execution_count": 5,
   "id": "4d74ba48",
   "metadata": {},
   "outputs": [
    {
     "name": "stdout",
     "output_type": "stream",
     "text": [
      "0.0016\n"
     ]
    }
   ],
   "source": [
    "print(round(p, 4))"
   ]
  },
  {
   "cell_type": "code",
   "execution_count": 6,
   "id": "90bba7fc",
   "metadata": {},
   "outputs": [
    {
     "data": {
      "text/plain": [
       "True"
      ]
     },
     "execution_count": 6,
     "metadata": {},
     "output_type": "execute_result"
    }
   ],
   "source": [
    "p < 0.05"
   ]
  },
  {
   "cell_type": "markdown",
   "id": "071709f7",
   "metadata": {},
   "source": [
    "어떤 특정 약물을 복용한 사람들의 평균 체온이 복용하지 않은 \n",
    "\n",
    "사람들의 평균 체온과 유의미하게 다른지 검정해보려고 합니다.\n",
    "\n",
    "가정:\n",
    "\n",
    "약물을 복용한 그룹과 복용하지 않은 그룹의 체온 데이터가 각각 주어져 있다고 가정합니다.\n",
    "\n",
    "각 그룹의 체온은 정규분포를 따른다고 가정합니다."
   ]
  },
  {
   "cell_type": "code",
   "execution_count": 7,
   "id": "aa73355e",
   "metadata": {},
   "outputs": [],
   "source": [
    "# 귀무 : 약물을 복용한 사람들의 평균 체온이 복용하지 않은 사람들의 평균 체온과 유의미하게 다르지 않다\n",
    "# 대립: 약물을 복용한 사람들의 평균 체온이 복용하지 않은 사람들의 평균 체온과 유의미하게 다르다"
   ]
  },
  {
   "cell_type": "code",
   "execution_count": 8,
   "id": "790311b8",
   "metadata": {},
   "outputs": [],
   "source": [
    "from scipy.stats import ttest_ind"
   ]
  },
  {
   "cell_type": "code",
   "execution_count": 9,
   "id": "9d7615ce",
   "metadata": {},
   "outputs": [],
   "source": [
    "group1 = [36.8, 36.7, 37.1, 36.9, 37.2, 36.8, 36.9, 37.1, 36.7, 37.1]\n",
    "group2 = [36.5, 36.6, 36.3, 36.6, 36.9, 36.7, 36.7, 36.8, 36.5, 36.7]"
   ]
  },
  {
   "cell_type": "code",
   "execution_count": 10,
   "id": "a76d244c",
   "metadata": {},
   "outputs": [
    {
     "name": "stdout",
     "output_type": "stream",
     "text": [
      "3.7964208654863336 0.001321891476703691\n"
     ]
    }
   ],
   "source": [
    "s, p = ttest_ind(group1, group2)\n",
    "print(s, p)"
   ]
  },
  {
   "cell_type": "code",
   "execution_count": 11,
   "id": "959b3a40",
   "metadata": {},
   "outputs": [
    {
     "data": {
      "text/plain": [
       "True"
      ]
     },
     "execution_count": 11,
     "metadata": {},
     "output_type": "execute_result"
    }
   ],
   "source": [
    "p < 0.05 # 대립가설 채택"
   ]
  },
  {
   "cell_type": "markdown",
   "id": "c1dece67",
   "metadata": {},
   "source": [
    "문제: 다음은 22명의 학생들이 국어시험에서 받은 점수이다. \n",
    "\n",
    "학생들의 평균이 75보다 크다고 할 수 있는가?\n",
    "\n",
    "귀무가설(H0): 모평균은 mu와 같다. (μ = mu), 학생들의 평균은 75이다\n",
    "\n",
    "대립가설(H1): 모평균은 mu보다 크다. (μ > mu), 학생들의 평균은 75보다 크다\n",
    "\n",
    "가정:\n",
    "모집단은 정규분포를 따른다.\n",
    "\n",
    "표본의 크기가 충분히 크다.\n",
    "\n",
    "검정통계량, p-value, 검정결과를 출력하시오"
   ]
  },
  {
   "cell_type": "code",
   "execution_count": 12,
   "id": "afe56d5b",
   "metadata": {},
   "outputs": [],
   "source": [
    "from scipy.stats import ttest_1samp\n",
    "\n",
    "# 데이터\n",
    "scores = [75, 80, 68, 72, 77, 82, 81, 79, 70, 74, 76, 78, 81, 73, 81, 78, 75, 72, 74, 79, 78, 79]\n",
    "\n",
    "# 모평균 가설검정\n",
    "mu = 75  # 검정할 모평균\n",
    "alpha = 0.05  # 유의수준"
   ]
  },
  {
   "cell_type": "code",
   "execution_count": 13,
   "id": "bc7177b4",
   "metadata": {},
   "outputs": [],
   "source": [
    "# help(ttest_1samp)"
   ]
  },
  {
   "cell_type": "code",
   "execution_count": 14,
   "id": "e0aa74f9",
   "metadata": {},
   "outputs": [
    {
     "name": "stdout",
     "output_type": "stream",
     "text": [
      "1.765879233231226 0.04597614747709146\n"
     ]
    }
   ],
   "source": [
    "s, p = ttest_1samp(scores, popmean=mu, alternative='greater')\n",
    "print(s, p)"
   ]
  },
  {
   "cell_type": "code",
   "execution_count": 15,
   "id": "9cf64b89",
   "metadata": {},
   "outputs": [],
   "source": [
    "# 대립가설(H1): 모평균은 mu보다 크다. (μ > mu), 학생들의 평균은 75보다 크다"
   ]
  },
  {
   "cell_type": "markdown",
   "id": "df6b09e4",
   "metadata": {},
   "source": [
    "세 가지 다른 교육 방법(A, B, C)을 사용하여 \n",
    "\n",
    "수험생들의 시험 성적을 개선시키는 효과를 평가하고자 한다. \n",
    "\n",
    "30명의 학생들을 무작위로 세 그룹으로 배정하여 교육을 실시하였고, \n",
    "\n",
    "시험을 보고 성적을 측정하였습니다. 다음은 각 그룹의 학생들의 성적 데이터입니다.\n",
    "\n",
    "귀무가설(H0): 세 그룹(A, B, C) 간의 평균 성적 차이가 없다.\n",
    "\n",
    "대립가설(H1 또는 Ha): 세 그룹(A, B, C) 간의 평균 성적 차이가 있다.\n",
    "\n",
    "일원배치법을 수행하여 그룹 간의 평균 성적 차이가 있는지 검정하세요\n",
    "\n",
    "f값 (소수 둘째자리)\n",
    "\n",
    "p값 (소수 여섯째자리)\n",
    "\n",
    "검정결과 출력"
   ]
  },
  {
   "cell_type": "code",
   "execution_count": 16,
   "id": "6fdcb102",
   "metadata": {},
   "outputs": [],
   "source": [
    "groupA = [85, 92, 78, 88, 83, 90, 76, 84, 92, 87]\n",
    "groupB = [79, 69, 84, 78, 79, 83, 79, 81, 86, 88]\n",
    "groupC = [75, 68, 74, 65, 77, 72, 70, 73, 78, 75]"
   ]
  },
  {
   "cell_type": "code",
   "execution_count": 17,
   "id": "493af58f",
   "metadata": {},
   "outputs": [],
   "source": [
    "from scipy.stats import f_oneway"
   ]
  },
  {
   "cell_type": "code",
   "execution_count": 18,
   "id": "d6174575",
   "metadata": {},
   "outputs": [],
   "source": [
    "# help(f_oneway)"
   ]
  },
  {
   "cell_type": "code",
   "execution_count": 19,
   "id": "2f335818",
   "metadata": {},
   "outputs": [
    {
     "name": "stdout",
     "output_type": "stream",
     "text": [
      "16.884107946026987 1.752985223798021e-05\n"
     ]
    }
   ],
   "source": [
    "s, p = f_oneway(groupA, groupB, groupC)\n",
    "print(s, p)"
   ]
  },
  {
   "cell_type": "code",
   "execution_count": 20,
   "id": "f9126f07",
   "metadata": {},
   "outputs": [
    {
     "data": {
      "text/plain": [
       "True"
      ]
     },
     "execution_count": 20,
     "metadata": {},
     "output_type": "execute_result"
    }
   ],
   "source": [
    "p < 0.05"
   ]
  },
  {
   "cell_type": "code",
   "execution_count": 21,
   "id": "63b79070",
   "metadata": {},
   "outputs": [
    {
     "data": {
      "text/plain": [
       "1.8e-05"
      ]
     },
     "execution_count": 21,
     "metadata": {},
     "output_type": "execute_result"
    }
   ],
   "source": [
    "round(p, 6)"
   ]
  },
  {
   "cell_type": "code",
   "execution_count": 22,
   "id": "85aab487",
   "metadata": {},
   "outputs": [
    {
     "name": "stdout",
     "output_type": "stream",
     "text": [
      "Help on built-in function format in module builtins:\n",
      "\n",
      "format(value, format_spec='', /)\n",
      "    Return value.__format__(format_spec)\n",
      "    \n",
      "    format_spec defaults to the empty string.\n",
      "    See the Format Specification Mini-Language section of help('FORMATTING') for\n",
      "    details.\n",
      "\n"
     ]
    }
   ],
   "source": [
    "help(format)"
   ]
  },
  {
   "cell_type": "code",
   "execution_count": 23,
   "id": "0d20f916",
   "metadata": {},
   "outputs": [
    {
     "data": {
      "text/plain": [
       "'0.000018'"
      ]
     },
     "execution_count": 23,
     "metadata": {},
     "output_type": "execute_result"
    }
   ],
   "source": [
    "format(p, '.6f')"
   ]
  },
  {
   "cell_type": "markdown",
   "id": "f8bd25fa",
   "metadata": {},
   "source": [
    "12명의 수험생이 빅데이터 분석기사 시험에서 받은 점수이다. \n",
    "\n",
    "Shapiro-Wilk 검정을 사용하여 데이터가 정규 분포를 따르는지 검증하시오\n",
    "\n",
    "귀무 가설(H0): 데이터는 정규 분포를 따른다.\n",
    "    \n",
    "대립 가설(H1): 데이터는 정규 분포를 따르지 않는다.\n",
    "    \n",
    "Shapiro-Wilk 검정 통계량, p-value, 검증결과를 출력하시오"
   ]
  },
  {
   "cell_type": "code",
   "execution_count": 24,
   "id": "df50a5c6",
   "metadata": {},
   "outputs": [],
   "source": [
    "data = [75, 83, 81, 92, 68, 77, 78, 80, 85, 95, 79, 89]"
   ]
  },
  {
   "cell_type": "code",
   "execution_count": 25,
   "id": "3ae5016a",
   "metadata": {},
   "outputs": [
    {
     "data": {
      "text/plain": [
       "ShapiroResult(statistic=0.9768090844154358, pvalue=0.9676500558853149)"
      ]
     },
     "execution_count": 25,
     "metadata": {},
     "output_type": "execute_result"
    }
   ],
   "source": [
    "from scipy.stats import shapiro\n",
    "shapiro(data)"
   ]
  },
  {
   "cell_type": "code",
   "execution_count": 26,
   "id": "678c40b2",
   "metadata": {},
   "outputs": [],
   "source": [
    "# 정규분포를 따른다"
   ]
  },
  {
   "cell_type": "markdown",
   "id": "61455466",
   "metadata": {},
   "source": [
    "iris에서 Sepal Length와 Sepal Width의 상관계수 계산하고 \n",
    "\n",
    "소수 둘째자리까지 출력하시오"
   ]
  },
  {
   "cell_type": "code",
   "execution_count": 27,
   "id": "0223e2d8",
   "metadata": {},
   "outputs": [
    {
     "name": "stdout",
     "output_type": "stream",
     "text": [
      "-0.12\n"
     ]
    }
   ],
   "source": [
    "import pandas as pd\n",
    "import numpy as np\n",
    "from sklearn.datasets import load_iris\n",
    "\n",
    "# iris 데이터셋 로드\n",
    "iris = load_iris()\n",
    "df = pd.DataFrame(iris.data, columns=iris.feature_names)\n",
    "ans = df[['sepal length (cm)', 'sepal width (cm)']].corr().iloc[0,1]\n",
    "print(round(ans, 2))"
   ]
  },
  {
   "cell_type": "markdown",
   "id": "51809a49",
   "metadata": {},
   "source": [
    "Pclass, Gender, sibsp, parch를 독립변수로 사용하여 \n",
    "\n",
    "로지스틱 회귀모형을 실시하였을 때, parch변수의 계수값은?\n",
    "\n",
    "(반올림하여 소수 셋째 자리까지 계산)"
   ]
  },
  {
   "cell_type": "code",
   "execution_count": 28,
   "id": "93f5e79e",
   "metadata": {},
   "outputs": [],
   "source": [
    "import pandas as pd\n",
    "df = pd.read_csv(\"Titanic.csv\")\n",
    "df = df[['Survived', 'Pclass', 'Gender', 'SibSp', 'Parch']]\n",
    "x=  df.drop(columns = 'Survived')\n",
    "y = df['Survived']"
   ]
  },
  {
   "cell_type": "code",
   "execution_count": 29,
   "id": "c0eda1a7",
   "metadata": {},
   "outputs": [],
   "source": [
    "from sklearn.linear_model import LogisticRegression"
   ]
  },
  {
   "cell_type": "code",
   "execution_count": 30,
   "id": "1b56d2a6",
   "metadata": {},
   "outputs": [
    {
     "data": {
      "text/plain": [
       "-0.044"
      ]
     },
     "execution_count": 30,
     "metadata": {},
     "output_type": "execute_result"
    }
   ],
   "source": [
    "x_new = pd.get_dummies(x)\n",
    "lr2 = LogisticRegression()\n",
    "lr2.fit(x_new, y)\n",
    "round(lr2.coef_[0,2], 3)"
   ]
  },
  {
   "cell_type": "code",
   "execution_count": 31,
   "id": "b761f213",
   "metadata": {},
   "outputs": [
    {
     "data": {
      "text/plain": [
       "array([[-0.92192738, -0.2285361 , -0.04398284,  1.35286636, -1.35285472]])"
      ]
     },
     "execution_count": 31,
     "metadata": {},
     "output_type": "execute_result"
    }
   ],
   "source": [
    "lr2.coef_"
   ]
  },
  {
   "cell_type": "code",
   "execution_count": 32,
   "id": "2b57ac88",
   "metadata": {},
   "outputs": [],
   "source": [
    "x_train = x"
   ]
  },
  {
   "cell_type": "code",
   "execution_count": 33,
   "id": "52bc2a28",
   "metadata": {},
   "outputs": [],
   "source": [
    "x_train['Gender'] = x['Gender'].map({'female' : 1, 'male' : 0})"
   ]
  },
  {
   "cell_type": "code",
   "execution_count": 34,
   "id": "6555ee14",
   "metadata": {},
   "outputs": [],
   "source": [
    "lr = LogisticRegression()"
   ]
  },
  {
   "cell_type": "code",
   "execution_count": 35,
   "id": "8d85580a",
   "metadata": {},
   "outputs": [
    {
     "data": {
      "text/plain": [
       "LogisticRegression()"
      ]
     },
     "execution_count": 35,
     "metadata": {},
     "output_type": "execute_result"
    }
   ],
   "source": [
    "lr.fit(x_train, y)"
   ]
  },
  {
   "cell_type": "code",
   "execution_count": 36,
   "id": "7993409b",
   "metadata": {},
   "outputs": [
    {
     "data": {
      "text/plain": [
       "-0.038"
      ]
     },
     "execution_count": 36,
     "metadata": {},
     "output_type": "execute_result"
    }
   ],
   "source": [
    "round(lr.coef_[0,3], 3)"
   ]
  },
  {
   "cell_type": "code",
   "execution_count": 37,
   "id": "24b07590",
   "metadata": {},
   "outputs": [
    {
     "data": {
      "text/plain": [
       "array([[-0.91565344,  2.65750763, -0.22500289, -0.037963  ]])"
      ]
     },
     "execution_count": 37,
     "metadata": {},
     "output_type": "execute_result"
    }
   ],
   "source": [
    "lr.coef_"
   ]
  },
  {
   "cell_type": "markdown",
   "id": "40ee6881",
   "metadata": {},
   "source": [
    "### 다른 방법"
   ]
  },
  {
   "cell_type": "code",
   "execution_count": 38,
   "id": "5276191d",
   "metadata": {},
   "outputs": [],
   "source": [
    "import pandas as pd\n",
    "df = pd.read_csv(\"Titanic.csv\")\n",
    "df = df[['Survived', 'Pclass', 'Gender', 'SibSp', 'Parch']]\n",
    "x=  df.drop(columns = 'Survived')\n",
    "x['Gender'] = x['Gender'].map({'female' : 1, 'male' : 0})\n",
    "y = df['Survived']"
   ]
  },
  {
   "cell_type": "code",
   "execution_count": 39,
   "id": "cd92576d",
   "metadata": {},
   "outputs": [
    {
     "name": "stdout",
     "output_type": "stream",
     "text": [
      "Optimization terminated successfully.\n",
      "         Current function value: 0.459658\n",
      "         Iterations 6\n"
     ]
    },
    {
     "data": {
      "text/html": [
       "<table class=\"simpletable\">\n",
       "<caption>Logit Regression Results</caption>\n",
       "<tr>\n",
       "  <th>Dep. Variable:</th>       <td>Survived</td>     <th>  No. Observations:  </th>  <td>   891</td>  \n",
       "</tr>\n",
       "<tr>\n",
       "  <th>Model:</th>                 <td>Logit</td>      <th>  Df Residuals:      </th>  <td>   886</td>  \n",
       "</tr>\n",
       "<tr>\n",
       "  <th>Method:</th>                 <td>MLE</td>       <th>  Df Model:          </th>  <td>     4</td>  \n",
       "</tr>\n",
       "<tr>\n",
       "  <th>Date:</th>            <td>Thu, 30 Nov 2023</td> <th>  Pseudo R-squ.:     </th>  <td>0.3097</td>  \n",
       "</tr>\n",
       "<tr>\n",
       "  <th>Time:</th>                <td>14:40:52</td>     <th>  Log-Likelihood:    </th> <td> -409.56</td> \n",
       "</tr>\n",
       "<tr>\n",
       "  <th>converged:</th>             <td>True</td>       <th>  LL-Null:           </th> <td> -593.33</td> \n",
       "</tr>\n",
       "<tr>\n",
       "  <th>Covariance Type:</th>     <td>nonrobust</td>    <th>  LLR p-value:       </th> <td>2.854e-78</td>\n",
       "</tr>\n",
       "</table>\n",
       "<table class=\"simpletable\">\n",
       "<tr>\n",
       "     <td></td>       <th>coef</th>     <th>std err</th>      <th>z</th>      <th>P>|z|</th>  <th>[0.025</th>    <th>0.975]</th>  \n",
       "</tr>\n",
       "<tr>\n",
       "  <th>const</th>  <td>    0.6972</td> <td>    0.243</td> <td>    2.864</td> <td> 0.004</td> <td>    0.220</td> <td>    1.174</td>\n",
       "</tr>\n",
       "<tr>\n",
       "  <th>Pclass</th> <td>   -0.9392</td> <td>    0.107</td> <td>   -8.815</td> <td> 0.000</td> <td>   -1.148</td> <td>   -0.730</td>\n",
       "</tr>\n",
       "<tr>\n",
       "  <th>Gender</th> <td>    2.7624</td> <td>    0.195</td> <td>   14.141</td> <td> 0.000</td> <td>    2.379</td> <td>    3.145</td>\n",
       "</tr>\n",
       "<tr>\n",
       "  <th>SibSp</th>  <td>   -0.2340</td> <td>    0.099</td> <td>   -2.359</td> <td> 0.018</td> <td>   -0.428</td> <td>   -0.040</td>\n",
       "</tr>\n",
       "<tr>\n",
       "  <th>Parch</th>  <td>   -0.0503</td> <td>    0.110</td> <td>   -0.455</td> <td> 0.649</td> <td>   -0.267</td> <td>    0.166</td>\n",
       "</tr>\n",
       "</table>"
      ],
      "text/plain": [
       "<class 'statsmodels.iolib.summary.Summary'>\n",
       "\"\"\"\n",
       "                           Logit Regression Results                           \n",
       "==============================================================================\n",
       "Dep. Variable:               Survived   No. Observations:                  891\n",
       "Model:                          Logit   Df Residuals:                      886\n",
       "Method:                           MLE   Df Model:                            4\n",
       "Date:                Thu, 30 Nov 2023   Pseudo R-squ.:                  0.3097\n",
       "Time:                        14:40:52   Log-Likelihood:                -409.56\n",
       "converged:                       True   LL-Null:                       -593.33\n",
       "Covariance Type:            nonrobust   LLR p-value:                 2.854e-78\n",
       "==============================================================================\n",
       "                 coef    std err          z      P>|z|      [0.025      0.975]\n",
       "------------------------------------------------------------------------------\n",
       "const          0.6972      0.243      2.864      0.004       0.220       1.174\n",
       "Pclass        -0.9392      0.107     -8.815      0.000      -1.148      -0.730\n",
       "Gender         2.7624      0.195     14.141      0.000       2.379       3.145\n",
       "SibSp         -0.2340      0.099     -2.359      0.018      -0.428      -0.040\n",
       "Parch         -0.0503      0.110     -0.455      0.649      -0.267       0.166\n",
       "==============================================================================\n",
       "\"\"\""
      ]
     },
     "execution_count": 39,
     "metadata": {},
     "output_type": "execute_result"
    }
   ],
   "source": [
    "import statsmodels.api as sm\n",
    "\n",
    "x = sm.add_constant(x)\n",
    "model = sm.Logit(y, x).fit()\n",
    "summary = model.summary()\n",
    "summary"
   ]
  },
  {
   "cell_type": "code",
   "execution_count": 40,
   "id": "abc169b6",
   "metadata": {},
   "outputs": [
    {
     "data": {
      "text/plain": [
       "const     0.697244\n",
       "Pclass   -0.939161\n",
       "Gender    2.762364\n",
       "SibSp    -0.234018\n",
       "Parch    -0.050260\n",
       "dtype: float64"
      ]
     },
     "execution_count": 40,
     "metadata": {},
     "output_type": "execute_result"
    }
   ],
   "source": [
    "model.params"
   ]
  },
  {
   "cell_type": "code",
   "execution_count": 41,
   "id": "2de42bdf",
   "metadata": {},
   "outputs": [
    {
     "data": {
      "text/plain": [
       "13.024080628444935"
      ]
     },
     "execution_count": 41,
     "metadata": {},
     "output_type": "execute_result"
    }
   ],
   "source": [
    "np.exp(2.5668)"
   ]
  },
  {
   "cell_type": "markdown",
   "id": "8c2a6170",
   "metadata": {},
   "source": [
    "### 문제: 두 교육 방법의 효과 비교\n",
    "    \n",
    "연구자는 두 가지 다른 교육 방법이 학생들의 성적에 미치는 영향을 비교하고자 합니다. \n",
    "\n",
    "연구자는 무작위로 선발된 20명의 학생들을 두 그룹으로 나누어 한 그룹에는 교육 방법 A를, \n",
    "\n",
    "다른 그룹에는 교육 방법 B를 적용합니다. 교육이 끝난 후, \n",
    "\n",
    "두 그룹의 성적을 비교하기 위해 독립 표본 t-검정과 ANOVA F-검정을 실시하려고 합니다.\n",
    "\n",
    "----------------------------------------------------\n",
    "\n",
    "다음은 두 그룹의 성적입니다: 다음의 두 가지 검정을 사용하여 \n",
    "    \n",
    "두 교육 방법 간의 성적 차이가 통계적으로 유의한지를 검증하세요\n",
    "\n",
    "----------------------------\n",
    "\n",
    "독립 표본 t-검정을 실시하여 t 통계량을 구하세요.\n",
    "\n",
    "독립 표본 t-검정을 실시하여 p-값을 구하세요.\n",
    "\n",
    "ANOVA F-검정을 실시하여 F 통계량을 구하세요.\n",
    "\n",
    "ANOVA F-검정을 실시하여 p-값을 구하세요."
   ]
  },
  {
   "cell_type": "code",
   "execution_count": 42,
   "id": "3454c3b5",
   "metadata": {},
   "outputs": [],
   "source": [
    "import pandas as pd\n",
    "df = pd.DataFrame({\n",
    "    'A':[77, 75, 82, 80, 81, 83, 84, 76, 75, 87],\n",
    "    'B':[80, 74, 77, 79, 71, 74, 78, 69, 70, 72],\n",
    "})"
   ]
  },
  {
   "cell_type": "code",
   "execution_count": 53,
   "id": "4570e674",
   "metadata": {},
   "outputs": [],
   "source": [
    "# import scipy.stats\n",
    "# scipy.stats.__all__"
   ]
  },
  {
   "cell_type": "code",
   "execution_count": 46,
   "id": "b65e09c8",
   "metadata": {},
   "outputs": [],
   "source": [
    "from scipy.stats import chi2_contingency, chisquare, f_oneway, ttest_1samp, ttest_rel, ttest_ind"
   ]
  },
  {
   "cell_type": "code",
   "execution_count": 49,
   "id": "59953b81",
   "metadata": {},
   "outputs": [
    {
     "data": {
      "text/plain": [
       "Ttest_indResult(statistic=3.1068522301122954, pvalue=0.006087373605949963)"
      ]
     },
     "execution_count": 49,
     "metadata": {},
     "output_type": "execute_result"
    }
   ],
   "source": [
    "ttest_ind(df['A'], df['B'])"
   ]
  },
  {
   "cell_type": "code",
   "execution_count": 51,
   "id": "9a43d314",
   "metadata": {},
   "outputs": [
    {
     "data": {
      "text/plain": [
       "True"
      ]
     },
     "execution_count": 51,
     "metadata": {},
     "output_type": "execute_result"
    }
   ],
   "source": [
    "# 귀무 : 두 교육 방법 간의 성적 차이가 통계적으로 유의하지 않다 \n",
    "# 대립 : 두 교육 방법 간의 성적 차이가 통계적으로 유의하다\n",
    "p<0.05 # 대립 채택"
   ]
  },
  {
   "cell_type": "markdown",
   "id": "7710e486",
   "metadata": {},
   "source": [
    "ANOVA F-검정 ==  F-검정"
   ]
  },
  {
   "cell_type": "code",
   "execution_count": 55,
   "id": "4372634d",
   "metadata": {},
   "outputs": [],
   "source": [
    "# help(f_oneway)"
   ]
  },
  {
   "cell_type": "code",
   "execution_count": 56,
   "id": "5450413d",
   "metadata": {},
   "outputs": [
    {
     "data": {
      "text/plain": [
       "F_onewayResult(statistic=9.652530779753763, pvalue=0.006087373605949924)"
      ]
     },
     "execution_count": 56,
     "metadata": {},
     "output_type": "execute_result"
    }
   ],
   "source": [
    "f_oneway(df['A'], df['B'])"
   ]
  },
  {
   "cell_type": "code",
   "execution_count": 57,
   "id": "d8d0fb9b",
   "metadata": {},
   "outputs": [
    {
     "data": {
      "text/plain": [
       "True"
      ]
     },
     "execution_count": 57,
     "metadata": {},
     "output_type": "execute_result"
    }
   ],
   "source": [
    "# 귀무 : 두 교육 방법 간의 성적 차이가 통계적으로 유의하지 않다 \n",
    "# 대립 : 두 교육 방법 간의 성적 차이가 통계적으로 유의하다\n",
    "p<0.05 # 대립 채택"
   ]
  },
  {
   "cell_type": "markdown",
   "id": "b27f3a2f",
   "metadata": {},
   "source": [
    "카이제곱 적합도 검정 - 다시\n",
    "고등학교에서는 졸업생들이 선택하는 대학 전공 분야의 선호도가 시간이 지남에 따라 변하지 않는다고 가정합니다. \n",
    "\n",
    "학교 측은 최근 졸업생들의 전공 선택이 과거와 같은 패턴을 따르는지 알아보기 위해 적합도 검정을 실시하기로 결정했습니다.\n",
    "\n",
    "과거 자료에 따르면 졸업생들이 선택하는 전공의 분포는 다음과 같습니다:\n",
    "\n",
    "------------------\n",
    "인문학: 20% 사회과학: 30% 자연과학: 25% 공학: 15% 기타: 10% 올해 졸업한 학생 200명의 전공 선택 분포는 다음과 같았습니다:\n",
    "\n",
    "인문학: 30명 사회과학: 60명 자연과학: 50명 공학: 40명 기타: 20명 이 데이터를 바탕으로, \n",
    "\n",
    "졸업생들의 전공 선택 패턴이 과거와 유사한지를 알아보기 위해 카이제곱 적합도 검정을 실시해야 합니다. \n",
    "\n",
    "유의 수준은 0.05로 설정합니다.\n",
    "\n",
    "-----------------\n",
    "검정 통계량?\n",
    "\n",
    "p-value?\n",
    "\n",
    "유의수준 하 귀무가설 기각 또는 채택?"
   ]
  },
  {
   "cell_type": "code",
   "execution_count": 61,
   "id": "a3d5ef1e",
   "metadata": {},
   "outputs": [],
   "source": [
    "# help(chisquare)"
   ]
  },
  {
   "cell_type": "code",
   "execution_count": 67,
   "id": "88e230cd",
   "metadata": {},
   "outputs": [
    {
     "name": "stdout",
     "output_type": "stream",
     "text": [
      "5.833333333333334 0.21194558437271782\n"
     ]
    }
   ],
   "source": [
    "df = [30, 60, 50, 40, 20]\n",
    "exp_df = [(0.2)*200, (0.3)*200, (0.25)*200, (0.15)*200, (0.1)*200]\n",
    "s, p = chisquare(df, exp_df)\n",
    "print(s, p)"
   ]
  },
  {
   "cell_type": "code",
   "execution_count": 68,
   "id": "33c6b6d8",
   "metadata": {},
   "outputs": [
    {
     "data": {
      "text/plain": [
       "False"
      ]
     },
     "execution_count": 68,
     "metadata": {},
     "output_type": "execute_result"
    }
   ],
   "source": [
    "p<0.05"
   ]
  },
  {
   "cell_type": "markdown",
   "id": "61c935ba",
   "metadata": {},
   "source": [
    "지지도, 신뢰도, 향상도\n",
    "\n",
    "'빼빼로'와 '딴짓초코'가 함께 팔린 거래의 지지도를 계산하세요.\n",
    "\n",
    "'빼빼로'가 팔린 거래 중에서 '빼빼로'와 '오징어칩'이 함께 팔린 거래의 신뢰도를 계산하세요.\n",
    "\n",
    "'빼빼로'와 '양조위빵'의 향상도를 계산하세요.\n",
    "\n",
    "--------\n",
    "지지도(A,B): A와 B가 함께 팔린 거래 횟수 / 전체 거래 횟수\n",
    "\n",
    "신뢰도(A->B): A와 B가 함께 팔린 거래 횟수 / A가 팔린 거래 횟수\n",
    "\n",
    "향상도(A,B): 신뢰도(A->B) / 지지도(B)"
   ]
  },
  {
   "cell_type": "code",
   "execution_count": 82,
   "id": "6bf00207",
   "metadata": {},
   "outputs": [
    {
     "data": {
      "text/html": [
       "<div>\n",
       "<style scoped>\n",
       "    .dataframe tbody tr th:only-of-type {\n",
       "        vertical-align: middle;\n",
       "    }\n",
       "\n",
       "    .dataframe tbody tr th {\n",
       "        vertical-align: top;\n",
       "    }\n",
       "\n",
       "    .dataframe thead th {\n",
       "        text-align: right;\n",
       "    }\n",
       "</style>\n",
       "<table border=\"1\" class=\"dataframe\">\n",
       "  <thead>\n",
       "    <tr style=\"text-align: right;\">\n",
       "      <th></th>\n",
       "      <th>transaction</th>\n",
       "      <th>빼빼로</th>\n",
       "      <th>딴짓초코</th>\n",
       "      <th>양조위빵</th>\n",
       "      <th>오징어칩</th>\n",
       "      <th>초코파이</th>\n",
       "    </tr>\n",
       "  </thead>\n",
       "  <tbody>\n",
       "    <tr>\n",
       "      <th>0</th>\n",
       "      <td>1</td>\n",
       "      <td>1</td>\n",
       "      <td>0</td>\n",
       "      <td>1</td>\n",
       "      <td>0</td>\n",
       "      <td>1</td>\n",
       "    </tr>\n",
       "    <tr>\n",
       "      <th>1</th>\n",
       "      <td>2</td>\n",
       "      <td>0</td>\n",
       "      <td>1</td>\n",
       "      <td>0</td>\n",
       "      <td>1</td>\n",
       "      <td>1</td>\n",
       "    </tr>\n",
       "    <tr>\n",
       "      <th>2</th>\n",
       "      <td>3</td>\n",
       "      <td>1</td>\n",
       "      <td>1</td>\n",
       "      <td>0</td>\n",
       "      <td>1</td>\n",
       "      <td>0</td>\n",
       "    </tr>\n",
       "    <tr>\n",
       "      <th>3</th>\n",
       "      <td>4</td>\n",
       "      <td>1</td>\n",
       "      <td>0</td>\n",
       "      <td>1</td>\n",
       "      <td>0</td>\n",
       "      <td>0</td>\n",
       "    </tr>\n",
       "    <tr>\n",
       "      <th>4</th>\n",
       "      <td>5</td>\n",
       "      <td>0</td>\n",
       "      <td>1</td>\n",
       "      <td>1</td>\n",
       "      <td>0</td>\n",
       "      <td>1</td>\n",
       "    </tr>\n",
       "    <tr>\n",
       "      <th>5</th>\n",
       "      <td>6</td>\n",
       "      <td>1</td>\n",
       "      <td>0</td>\n",
       "      <td>1</td>\n",
       "      <td>1</td>\n",
       "      <td>0</td>\n",
       "    </tr>\n",
       "    <tr>\n",
       "      <th>6</th>\n",
       "      <td>7</td>\n",
       "      <td>1</td>\n",
       "      <td>1</td>\n",
       "      <td>0</td>\n",
       "      <td>0</td>\n",
       "      <td>1</td>\n",
       "    </tr>\n",
       "    <tr>\n",
       "      <th>7</th>\n",
       "      <td>8</td>\n",
       "      <td>0</td>\n",
       "      <td>1</td>\n",
       "      <td>0</td>\n",
       "      <td>1</td>\n",
       "      <td>1</td>\n",
       "    </tr>\n",
       "    <tr>\n",
       "      <th>8</th>\n",
       "      <td>9</td>\n",
       "      <td>1</td>\n",
       "      <td>0</td>\n",
       "      <td>1</td>\n",
       "      <td>1</td>\n",
       "      <td>0</td>\n",
       "    </tr>\n",
       "    <tr>\n",
       "      <th>9</th>\n",
       "      <td>10</td>\n",
       "      <td>1</td>\n",
       "      <td>0</td>\n",
       "      <td>0</td>\n",
       "      <td>1</td>\n",
       "      <td>0</td>\n",
       "    </tr>\n",
       "  </tbody>\n",
       "</table>\n",
       "</div>"
      ],
      "text/plain": [
       "   transaction  빼빼로  딴짓초코  양조위빵  오징어칩  초코파이\n",
       "0            1    1     0     1     0     1\n",
       "1            2    0     1     0     1     1\n",
       "2            3    1     1     0     1     0\n",
       "3            4    1     0     1     0     0\n",
       "4            5    0     1     1     0     1\n",
       "5            6    1     0     1     1     0\n",
       "6            7    1     1     0     0     1\n",
       "7            8    0     1     0     1     1\n",
       "8            9    1     0     1     1     0\n",
       "9           10    1     0     0     1     0"
      ]
     },
     "execution_count": 82,
     "metadata": {},
     "output_type": "execute_result"
    }
   ],
   "source": [
    "import pandas as pd\n",
    "# 데이터\n",
    "df = pd.DataFrame({\n",
    "    'transaction': [1, 2, 3, 4, 5, 6, 7, 8, 9, 10],\n",
    "    '빼빼로': [1, 0, 1, 1, 0, 1, 1, 0, 1, 1],\n",
    "    '딴짓초코': [0, 1, 1, 0, 1, 0, 1, 1, 0, 0],\n",
    "    '양조위빵': [1, 0, 0, 1, 1, 1, 0, 0, 1, 0],\n",
    "    '오징어칩': [0, 1, 1, 0, 0, 1, 0, 1, 1, 1],\n",
    "    '초코파이': [1, 1, 0, 0, 1, 0, 1, 1, 0, 0]\n",
    "})\n",
    "df"
   ]
  },
  {
   "cell_type": "code",
   "execution_count": 83,
   "id": "c7aa7314",
   "metadata": {},
   "outputs": [
    {
     "name": "stdout",
     "output_type": "stream",
     "text": [
      "<class 'pandas.core.frame.DataFrame'>\n",
      "RangeIndex: 10 entries, 0 to 9\n",
      "Data columns (total 6 columns):\n",
      " #   Column       Non-Null Count  Dtype\n",
      "---  ------       --------------  -----\n",
      " 0   transaction  10 non-null     int64\n",
      " 1   빼빼로          10 non-null     int64\n",
      " 2   딴짓초코         10 non-null     int64\n",
      " 3   양조위빵         10 non-null     int64\n",
      " 4   오징어칩         10 non-null     int64\n",
      " 5   초코파이         10 non-null     int64\n",
      "dtypes: int64(6)\n",
      "memory usage: 608.0 bytes\n"
     ]
    }
   ],
   "source": [
    "df.info()"
   ]
  },
  {
   "cell_type": "code",
   "execution_count": 84,
   "id": "8cb3c6ce",
   "metadata": {},
   "outputs": [
    {
     "data": {
      "text/html": [
       "<div>\n",
       "<style scoped>\n",
       "    .dataframe tbody tr th:only-of-type {\n",
       "        vertical-align: middle;\n",
       "    }\n",
       "\n",
       "    .dataframe tbody tr th {\n",
       "        vertical-align: top;\n",
       "    }\n",
       "\n",
       "    .dataframe thead th {\n",
       "        text-align: right;\n",
       "    }\n",
       "</style>\n",
       "<table border=\"1\" class=\"dataframe\">\n",
       "  <thead>\n",
       "    <tr style=\"text-align: right;\">\n",
       "      <th></th>\n",
       "      <th>transaction</th>\n",
       "      <th>빼빼로</th>\n",
       "      <th>딴짓초코</th>\n",
       "      <th>양조위빵</th>\n",
       "      <th>오징어칩</th>\n",
       "      <th>초코파이</th>\n",
       "      <th>sum</th>\n",
       "    </tr>\n",
       "  </thead>\n",
       "  <tbody>\n",
       "    <tr>\n",
       "      <th>0</th>\n",
       "      <td>1</td>\n",
       "      <td>1</td>\n",
       "      <td>0</td>\n",
       "      <td>1</td>\n",
       "      <td>0</td>\n",
       "      <td>1</td>\n",
       "      <td>3</td>\n",
       "    </tr>\n",
       "    <tr>\n",
       "      <th>1</th>\n",
       "      <td>2</td>\n",
       "      <td>0</td>\n",
       "      <td>1</td>\n",
       "      <td>0</td>\n",
       "      <td>1</td>\n",
       "      <td>1</td>\n",
       "      <td>3</td>\n",
       "    </tr>\n",
       "    <tr>\n",
       "      <th>2</th>\n",
       "      <td>3</td>\n",
       "      <td>1</td>\n",
       "      <td>1</td>\n",
       "      <td>0</td>\n",
       "      <td>1</td>\n",
       "      <td>0</td>\n",
       "      <td>3</td>\n",
       "    </tr>\n",
       "    <tr>\n",
       "      <th>3</th>\n",
       "      <td>4</td>\n",
       "      <td>1</td>\n",
       "      <td>0</td>\n",
       "      <td>1</td>\n",
       "      <td>0</td>\n",
       "      <td>0</td>\n",
       "      <td>2</td>\n",
       "    </tr>\n",
       "    <tr>\n",
       "      <th>4</th>\n",
       "      <td>5</td>\n",
       "      <td>0</td>\n",
       "      <td>1</td>\n",
       "      <td>1</td>\n",
       "      <td>0</td>\n",
       "      <td>1</td>\n",
       "      <td>3</td>\n",
       "    </tr>\n",
       "    <tr>\n",
       "      <th>5</th>\n",
       "      <td>6</td>\n",
       "      <td>1</td>\n",
       "      <td>0</td>\n",
       "      <td>1</td>\n",
       "      <td>1</td>\n",
       "      <td>0</td>\n",
       "      <td>3</td>\n",
       "    </tr>\n",
       "    <tr>\n",
       "      <th>6</th>\n",
       "      <td>7</td>\n",
       "      <td>1</td>\n",
       "      <td>1</td>\n",
       "      <td>0</td>\n",
       "      <td>0</td>\n",
       "      <td>1</td>\n",
       "      <td>3</td>\n",
       "    </tr>\n",
       "    <tr>\n",
       "      <th>7</th>\n",
       "      <td>8</td>\n",
       "      <td>0</td>\n",
       "      <td>1</td>\n",
       "      <td>0</td>\n",
       "      <td>1</td>\n",
       "      <td>1</td>\n",
       "      <td>3</td>\n",
       "    </tr>\n",
       "    <tr>\n",
       "      <th>8</th>\n",
       "      <td>9</td>\n",
       "      <td>1</td>\n",
       "      <td>0</td>\n",
       "      <td>1</td>\n",
       "      <td>1</td>\n",
       "      <td>0</td>\n",
       "      <td>3</td>\n",
       "    </tr>\n",
       "    <tr>\n",
       "      <th>9</th>\n",
       "      <td>10</td>\n",
       "      <td>1</td>\n",
       "      <td>0</td>\n",
       "      <td>0</td>\n",
       "      <td>1</td>\n",
       "      <td>0</td>\n",
       "      <td>2</td>\n",
       "    </tr>\n",
       "  </tbody>\n",
       "</table>\n",
       "</div>"
      ],
      "text/plain": [
       "   transaction  빼빼로  딴짓초코  양조위빵  오징어칩  초코파이  sum\n",
       "0            1    1     0     1     0     1    3\n",
       "1            2    0     1     0     1     1    3\n",
       "2            3    1     1     0     1     0    3\n",
       "3            4    1     0     1     0     0    2\n",
       "4            5    0     1     1     0     1    3\n",
       "5            6    1     0     1     1     0    3\n",
       "6            7    1     1     0     0     1    3\n",
       "7            8    0     1     0     1     1    3\n",
       "8            9    1     0     1     1     0    3\n",
       "9           10    1     0     0     1     0    2"
      ]
     },
     "execution_count": 84,
     "metadata": {},
     "output_type": "execute_result"
    }
   ],
   "source": [
    "df['sum'] = df.sum(axis=1) -df['transaction']\n",
    "df"
   ]
  },
  {
   "cell_type": "code",
   "execution_count": 94,
   "id": "ec293cff",
   "metadata": {},
   "outputs": [
    {
     "data": {
      "text/plain": [
       "0.2"
      ]
     },
     "execution_count": 94,
     "metadata": {},
     "output_type": "execute_result"
    }
   ],
   "source": [
    "len(df[(df['빼빼로'] == 1) & (df['딴짓초코'] == 1)])/10"
   ]
  },
  {
   "cell_type": "markdown",
   "id": "27f1ef4d",
   "metadata": {},
   "source": [
    "문제 2: 빼빼로가 팔린 거래 중 빼빼로와 오징어칩이 함께 팔린 거래의 신뢰도"
   ]
  },
  {
   "cell_type": "code",
   "execution_count": 102,
   "id": "78cc24e5",
   "metadata": {},
   "outputs": [
    {
     "data": {
      "text/plain": [
       "0.5714285714285714"
      ]
     },
     "execution_count": 102,
     "metadata": {},
     "output_type": "execute_result"
    }
   ],
   "source": [
    "len(df[(df['빼빼로'] == 1) & (df['오징어칩'] == 1)]) / len(df[df['빼빼로'] == 1])"
   ]
  },
  {
   "cell_type": "markdown",
   "id": "c6de3d67",
   "metadata": {},
   "source": [
    "'빼빼로'와 '양조위빵'의 향상도를 계산하세요. 신뢰도(A->B) / 지지도(B)"
   ]
  },
  {
   "cell_type": "markdown",
   "id": "1e6e9a6c",
   "metadata": {},
   "source": [
    "빼빼로를 샀을 때 양조위빵을 사는 신뢰도 / 양조위빵과 빼빼로를 동시에 사는 지지도"
   ]
  },
  {
   "cell_type": "code",
   "execution_count": 110,
   "id": "960c5dbb",
   "metadata": {},
   "outputs": [],
   "source": [
    "sin = len(df[(df['빼빼로'] == 1) & (df['양조위빵'] == 1)]) / len(df[df['빼빼로'] == 1])"
   ]
  },
  {
   "cell_type": "code",
   "execution_count": 111,
   "id": "072dcdcd",
   "metadata": {},
   "outputs": [],
   "source": [
    "gigi = len(df[(df['빼빼로'] == 1) & (df['양조위빵'] == 1)]) / len(df)"
   ]
  },
  {
   "cell_type": "code",
   "execution_count": 112,
   "id": "71e7780e",
   "metadata": {},
   "outputs": [
    {
     "data": {
      "text/plain": [
       "1.4285714285714284"
      ]
     },
     "execution_count": 112,
     "metadata": {},
     "output_type": "execute_result"
    }
   ],
   "source": [
    "sin/gigi"
   ]
  },
  {
   "cell_type": "markdown",
   "id": "032b9dda",
   "metadata": {},
   "source": [
    "### 포아송분포\n",
    "문제: 한 서점에서는 평균적으로 하루에 3명의 고객이 특정 잡지를 구매합니다. \n",
    "    \n",
    "이 데이터는 포아송 분포를 따른다고 가정할 때, 다음 질문에 대한 답을 구하세요.\n",
    "\n",
    "하루에 정확히 5명의 고객이 잡지를 구매할 확률은 얼마입니까? (%로 값을 정수로 입력하시오)\n",
    "\n",
    "하루에 적어도 2명의 고객이 잡지를 구매할 확률은 얼마입니까? (%로 값을 정수로 입력하시오)"
   ]
  },
  {
   "cell_type": "code",
   "execution_count": 113,
   "id": "90403e7b",
   "metadata": {},
   "outputs": [],
   "source": [
    "from scipy.stats import poisson"
   ]
  },
  {
   "cell_type": "code",
   "execution_count": 115,
   "id": "81493467",
   "metadata": {},
   "outputs": [],
   "source": [
    "# help(poisson)"
   ]
  },
  {
   "cell_type": "code",
   "execution_count": 121,
   "id": "9f15fe4f",
   "metadata": {},
   "outputs": [
    {
     "data": {
      "text/plain": [
       "0.10081881344492458"
      ]
     },
     "execution_count": 121,
     "metadata": {},
     "output_type": "execute_result"
    }
   ],
   "source": [
    "poisson.pmf(5, 3)"
   ]
  },
  {
   "cell_type": "code",
   "execution_count": 128,
   "id": "5db8d336",
   "metadata": {},
   "outputs": [
    {
     "data": {
      "text/plain": [
       "0.8008517265285442"
      ]
     },
     "execution_count": 128,
     "metadata": {},
     "output_type": "execute_result"
    }
   ],
   "source": [
    "1-poisson.cdf(1, 3)"
   ]
  },
  {
   "cell_type": "code",
   "execution_count": 127,
   "id": "ba188b2c",
   "metadata": {},
   "outputs": [],
   "source": [
    "# from scipy.stats import poisson\n",
    "# import matplotlib.pyplot as plt\n",
    "# import numpy as np\n",
    "\n",
    "# # 평균 사건 발생률 (람다)\n",
    "# lambda_value = 3\n",
    "\n",
    "# # 특정 값\n",
    "# n = 2\n",
    "\n",
    "# # PMF 계산: P(X = n)\n",
    "# pmf_result = poisson.pmf(n, lambda_value)\n",
    "\n",
    "# # CDF 계산: P(X <= n)\n",
    "# cdf_result = poisson.cdf(n, lambda_value)\n",
    "\n",
    "# # 그래프 그리기\n",
    "# x_values = np.arange(0, 10)\n",
    "# pmf_values = poisson.pmf(x_values, lambda_value)\n",
    "# cdf_values = poisson.cdf(x_values, lambda_value)\n",
    "\n",
    "# plt.figure(figsize=(12, 4))\n",
    "\n",
    "# # PMF 그래프\n",
    "# plt.subplot(1, 2, 1)\n",
    "# plt.bar(x_values, pmf_values, color='blue', alpha=0.7)\n",
    "# plt.title(f'Poisson PMF ($\\lambda={lambda_value}$)')\n",
    "# plt.xlabel('Number of Events')\n",
    "# plt.ylabel('Probability')\n",
    "# plt.xticks(x_values)\n",
    "\n",
    "# # CDF 그래프\n",
    "# plt.subplot(1, 2, 2)\n",
    "# plt.plot(x_values, cdf_values, color='green', marker='o', linestyle='-', markersize=8)\n",
    "# plt.title(f'Poisson CDF ($\\lambda={lambda_value}$)')\n",
    "# plt.xlabel('Number of Events')\n",
    "# plt.ylabel('Cumulative Probability')\n",
    "# plt.xticks(x_values)\n",
    "\n",
    "# plt.tight_layout()\n",
    "# plt.show()\n",
    "\n",
    "# # 결과 출력\n",
    "# print(f'P(X={n}): {pmf_result:.4f}')\n",
    "# print(f'P(X<={n}): {cdf_result:.4f}')"
   ]
  },
  {
   "cell_type": "markdown",
   "id": "2e3e5e3c",
   "metadata": {},
   "source": [
    "성별과 시험합격은 독립적인가를 검정하시오!\n",
    "\n",
    "1 검정 통계량?\n",
    "\n",
    "2 p-value?\n",
    "\n",
    "3 귀무가설 기준 (기각/채택)?\n",
    "\n",
    "4 남자의 합격 기대 빈도?"
   ]
  },
  {
   "cell_type": "code",
   "execution_count": 133,
   "id": "058aa80d",
   "metadata": {},
   "outputs": [
    {
     "name": "stdout",
     "output_type": "stream",
     "text": [
      "5.929494712103407 0.01488951060599475\n"
     ]
    }
   ],
   "source": [
    "df = pd.DataFrame({'남자': [100, 200],\n",
    "                   '여자': [130, 170]},\n",
    "                  index=['합격', '불합격'])\n",
    "s, p, _, _ = chi2_contingency(df)\n",
    "print(s, p)"
   ]
  },
  {
   "cell_type": "code",
   "execution_count": 135,
   "id": "0de56831",
   "metadata": {},
   "outputs": [
    {
     "data": {
      "text/plain": [
       "True"
      ]
     },
     "execution_count": 135,
     "metadata": {},
     "output_type": "execute_result"
    }
   ],
   "source": [
    "p < 0.05"
   ]
  },
  {
   "cell_type": "code",
   "execution_count": 138,
   "id": "77f5a47e",
   "metadata": {},
   "outputs": [],
   "source": [
    "# 독립적이다 - 귀무\n",
    "# 독립적이지 않다 ->대립 -> 대립 채택"
   ]
  },
  {
   "cell_type": "code",
   "execution_count": 137,
   "id": "bc437c48",
   "metadata": {},
   "outputs": [
    {
     "name": "stdout",
     "output_type": "stream",
     "text": [
      "115.0\n"
     ]
    }
   ],
   "source": [
    "_, _, _, exp = chi2_contingency(df)\n",
    "print(exp[0][0])"
   ]
  },
  {
   "cell_type": "markdown",
   "id": "e52a9193",
   "metadata": {},
   "source": [
    "### 베르누이 분포와 이항분포\n",
    "\n",
    "[베르누이 분포] \n",
    "\n",
    "다음 데이터는 100번의 시도에서 각각 성공(1) 또는 실패(0)를 나타냅니다.\n",
    "\n",
    "이 데이터를 바탕으로 각 시도의 성공 확률을 계산하시오.\n",
    "\n",
    "[이항분포] \n",
    "1번 문제에서 계산한 성공 확률을 사용하여, \n",
    "\n",
    "100번의 시도 중 정확히 60번 성공할 확률을 계산하시오."
   ]
  },
  {
   "cell_type": "code",
   "execution_count": 151,
   "id": "5c8822d5",
   "metadata": {},
   "outputs": [],
   "source": [
    "import pandas as pd\n",
    "from scipy.stats import binom\n",
    "\n",
    "df = pd.read_csv(\"t3_success.csv\")\n",
    "success = df['Success'].sum()\n",
    "total = len(df)"
   ]
  },
  {
   "cell_type": "code",
   "execution_count": 153,
   "id": "586a4fa6",
   "metadata": {},
   "outputs": [
    {
     "data": {
      "text/plain": [
       "0.62"
      ]
     },
     "execution_count": 153,
     "metadata": {},
     "output_type": "execute_result"
    }
   ],
   "source": [
    "exp = success/total\n",
    "exp"
   ]
  },
  {
   "cell_type": "code",
   "execution_count": 155,
   "id": "4f3cb9d3",
   "metadata": {},
   "outputs": [
    {
     "data": {
      "text/plain": [
       "0.07464985555860272"
      ]
     },
     "execution_count": 155,
     "metadata": {},
     "output_type": "execute_result"
    }
   ],
   "source": [
    "n = 100\n",
    "k = 60\n",
    "binom.pmf(k, n, exp)"
   ]
  },
  {
   "cell_type": "markdown",
   "id": "908a5906",
   "metadata": {},
   "source": [
    "binom.pmf(k, n, p) 함수는 이항 분포의 확률 질량 함수(Probability Mass Function, PMF)를 계산하는 데 사용"
   ]
  },
  {
   "cell_type": "markdown",
   "id": "e272c4c6",
   "metadata": {},
   "source": [
    "점 추정과 구간 추정\n",
    "\n",
    "데이터셋은 어떤 도시의 일일 평균 온도 입니다.\n",
    "\n",
    "점추정: 데이터셋을 기반으로 이 도시의 평균 연간 온도를 점추정하세요. (반올림하여 소수 둘째자리까지)\n",
    "\n",
    "구간추정: 95% 신뢰수준에서 이 도시의 평균 연간 온도에 대한 신뢰구간을 구하세요. (반올림하여 소수 둘째자리까지)"
   ]
  },
  {
   "cell_type": "code",
   "execution_count": 175,
   "id": "c7b40674",
   "metadata": {},
   "outputs": [],
   "source": [
    "import scipy.stats as st"
   ]
  },
  {
   "cell_type": "code",
   "execution_count": 176,
   "id": "e67d0c60",
   "metadata": {},
   "outputs": [
    {
     "data": {
      "text/html": [
       "<div>\n",
       "<style scoped>\n",
       "    .dataframe tbody tr th:only-of-type {\n",
       "        vertical-align: middle;\n",
       "    }\n",
       "\n",
       "    .dataframe tbody tr th {\n",
       "        vertical-align: top;\n",
       "    }\n",
       "\n",
       "    .dataframe thead th {\n",
       "        text-align: right;\n",
       "    }\n",
       "</style>\n",
       "<table border=\"1\" class=\"dataframe\">\n",
       "  <thead>\n",
       "    <tr style=\"text-align: right;\">\n",
       "      <th></th>\n",
       "      <th>Daily Average Temperature</th>\n",
       "    </tr>\n",
       "  </thead>\n",
       "  <tbody>\n",
       "    <tr>\n",
       "      <th>0</th>\n",
       "      <td>28.820262</td>\n",
       "    </tr>\n",
       "    <tr>\n",
       "      <th>1</th>\n",
       "      <td>22.000786</td>\n",
       "    </tr>\n",
       "    <tr>\n",
       "      <th>2</th>\n",
       "      <td>24.893690</td>\n",
       "    </tr>\n",
       "    <tr>\n",
       "      <th>3</th>\n",
       "      <td>31.204466</td>\n",
       "    </tr>\n",
       "    <tr>\n",
       "      <th>4</th>\n",
       "      <td>29.337790</td>\n",
       "    </tr>\n",
       "    <tr>\n",
       "      <th>...</th>\n",
       "      <td>...</td>\n",
       "    </tr>\n",
       "    <tr>\n",
       "      <th>360</th>\n",
       "      <td>23.492286</td>\n",
       "    </tr>\n",
       "    <tr>\n",
       "      <th>361</th>\n",
       "      <td>20.018854</td>\n",
       "    </tr>\n",
       "    <tr>\n",
       "      <th>362</th>\n",
       "      <td>24.659242</td>\n",
       "    </tr>\n",
       "    <tr>\n",
       "      <th>363</th>\n",
       "      <td>21.699825</td>\n",
       "    </tr>\n",
       "    <tr>\n",
       "      <th>364</th>\n",
       "      <td>19.921589</td>\n",
       "    </tr>\n",
       "  </tbody>\n",
       "</table>\n",
       "<p>365 rows × 1 columns</p>\n",
       "</div>"
      ],
      "text/plain": [
       "     Daily Average Temperature\n",
       "0                    28.820262\n",
       "1                    22.000786\n",
       "2                    24.893690\n",
       "3                    31.204466\n",
       "4                    29.337790\n",
       "..                         ...\n",
       "360                  23.492286\n",
       "361                  20.018854\n",
       "362                  24.659242\n",
       "363                  21.699825\n",
       "364                  19.921589\n",
       "\n",
       "[365 rows x 1 columns]"
      ]
     },
     "execution_count": 176,
     "metadata": {},
     "output_type": "execute_result"
    }
   ],
   "source": [
    "import pandas as pd\n",
    "df = pd.read_csv(\"daily_temperatures.csv\")\n",
    "df"
   ]
  },
  {
   "cell_type": "code",
   "execution_count": 181,
   "id": "5dd0dd2e",
   "metadata": {},
   "outputs": [
    {
     "data": {
      "text/plain": [
       "19.937577543978538"
      ]
     },
     "execution_count": 181,
     "metadata": {},
     "output_type": "execute_result"
    }
   ],
   "source": [
    "mu = df['Daily Average Temperature'].mean()\n",
    "mu"
   ]
  },
  {
   "cell_type": "code",
   "execution_count": 177,
   "id": "685911c8",
   "metadata": {},
   "outputs": [],
   "source": [
    "se = st.sem(df['Daily Average Temperature'])"
   ]
  },
  {
   "cell_type": "code",
   "execution_count": 178,
   "id": "4de16aaa",
   "metadata": {},
   "outputs": [
    {
     "data": {
      "text/plain": [
       "365"
      ]
     },
     "execution_count": 178,
     "metadata": {},
     "output_type": "execute_result"
    }
   ],
   "source": [
    "n = len(df)\n",
    "n"
   ]
  },
  {
   "cell_type": "code",
   "execution_count": 179,
   "id": "a82c2ebc",
   "metadata": {},
   "outputs": [],
   "source": [
    "# import scipy.stats as st\n",
    "# import numpy as np\n",
    "\n",
    "# df = len(sample1) - 1 # 자유도 : 샘플 개수 - 1\n",
    "# mu = np.mean(sample1) # 표본 평균\n",
    "# se = st.sem(sample1) # 표준 오차\n",
    "\n",
    "# # 95% 신뢰구간\n",
    "# st.t.interval(0.95, df, mu, se) # (10.338733110887336, 20.661266889112664)\n",
    "\n",
    "# # 99% 신뢰구간\n",
    "# st.t.interval(0.99, df, mu, se) # (8.085277068873378, 22.914722931126622)"
   ]
  },
  {
   "cell_type": "code",
   "execution_count": 180,
   "id": "c8d5bb54",
   "metadata": {},
   "outputs": [
    {
     "data": {
      "text/plain": [
       "(19.427887094620406, 20.44726799333667)"
      ]
     },
     "execution_count": 180,
     "metadata": {},
     "output_type": "execute_result"
    }
   ],
   "source": [
    "st.t.interval(0.95, n-1, mu, se)"
   ]
  },
  {
   "cell_type": "markdown",
   "id": "319cd562",
   "metadata": {},
   "source": [
    "## 다시하기"
   ]
  },
  {
   "cell_type": "markdown",
   "id": "85a7b027",
   "metadata": {},
   "source": [
    "점 추정과 구간 추정\n",
    "\n",
    "데이터셋은 어떤 도시의 일일 평균 온도 입니다.\n",
    "\n",
    "점추정: 데이터셋을 기반으로 이 도시의 평균 연간 온도를 점추정하세요. (반올림하여 소수 둘째자리까지)\n",
    "\n",
    "구간추정: 95% 신뢰수준에서 이 도시의 평균 연간 온도에 대한 신뢰구간을 구하세요. (반올림하여 소수 둘째자리까지)"
   ]
  },
  {
   "cell_type": "code",
   "execution_count": 184,
   "id": "01469d06",
   "metadata": {},
   "outputs": [
    {
     "data": {
      "text/html": [
       "<div>\n",
       "<style scoped>\n",
       "    .dataframe tbody tr th:only-of-type {\n",
       "        vertical-align: middle;\n",
       "    }\n",
       "\n",
       "    .dataframe tbody tr th {\n",
       "        vertical-align: top;\n",
       "    }\n",
       "\n",
       "    .dataframe thead th {\n",
       "        text-align: right;\n",
       "    }\n",
       "</style>\n",
       "<table border=\"1\" class=\"dataframe\">\n",
       "  <thead>\n",
       "    <tr style=\"text-align: right;\">\n",
       "      <th></th>\n",
       "      <th>Daily Average Temperature</th>\n",
       "    </tr>\n",
       "  </thead>\n",
       "  <tbody>\n",
       "    <tr>\n",
       "      <th>0</th>\n",
       "      <td>28.820262</td>\n",
       "    </tr>\n",
       "    <tr>\n",
       "      <th>1</th>\n",
       "      <td>22.000786</td>\n",
       "    </tr>\n",
       "    <tr>\n",
       "      <th>2</th>\n",
       "      <td>24.893690</td>\n",
       "    </tr>\n",
       "    <tr>\n",
       "      <th>3</th>\n",
       "      <td>31.204466</td>\n",
       "    </tr>\n",
       "    <tr>\n",
       "      <th>4</th>\n",
       "      <td>29.337790</td>\n",
       "    </tr>\n",
       "    <tr>\n",
       "      <th>...</th>\n",
       "      <td>...</td>\n",
       "    </tr>\n",
       "    <tr>\n",
       "      <th>360</th>\n",
       "      <td>23.492286</td>\n",
       "    </tr>\n",
       "    <tr>\n",
       "      <th>361</th>\n",
       "      <td>20.018854</td>\n",
       "    </tr>\n",
       "    <tr>\n",
       "      <th>362</th>\n",
       "      <td>24.659242</td>\n",
       "    </tr>\n",
       "    <tr>\n",
       "      <th>363</th>\n",
       "      <td>21.699825</td>\n",
       "    </tr>\n",
       "    <tr>\n",
       "      <th>364</th>\n",
       "      <td>19.921589</td>\n",
       "    </tr>\n",
       "  </tbody>\n",
       "</table>\n",
       "<p>365 rows × 1 columns</p>\n",
       "</div>"
      ],
      "text/plain": [
       "     Daily Average Temperature\n",
       "0                    28.820262\n",
       "1                    22.000786\n",
       "2                    24.893690\n",
       "3                    31.204466\n",
       "4                    29.337790\n",
       "..                         ...\n",
       "360                  23.492286\n",
       "361                  20.018854\n",
       "362                  24.659242\n",
       "363                  21.699825\n",
       "364                  19.921589\n",
       "\n",
       "[365 rows x 1 columns]"
      ]
     },
     "execution_count": 184,
     "metadata": {},
     "output_type": "execute_result"
    }
   ],
   "source": [
    "import pandas as pd\n",
    "df = pd.read_csv(\"daily_temperatures.csv\")\n",
    "df"
   ]
  },
  {
   "cell_type": "code",
   "execution_count": 185,
   "id": "926a8654",
   "metadata": {},
   "outputs": [
    {
     "data": {
      "text/plain": [
       "19.937577543978538"
      ]
     },
     "execution_count": 185,
     "metadata": {},
     "output_type": "execute_result"
    }
   ],
   "source": [
    "me = df['Daily Average Temperature'].mean()\n",
    "me"
   ]
  },
  {
   "cell_type": "code",
   "execution_count": 186,
   "id": "206a3026",
   "metadata": {},
   "outputs": [],
   "source": [
    "import scipy.stats as st"
   ]
  },
  {
   "cell_type": "code",
   "execution_count": 188,
   "id": "34e39cea",
   "metadata": {},
   "outputs": [],
   "source": [
    "se = st.sem(df['Daily Average Temperature'])"
   ]
  },
  {
   "cell_type": "code",
   "execution_count": 189,
   "id": "ef266dd0",
   "metadata": {},
   "outputs": [],
   "source": [
    "dof = len(df)-1"
   ]
  },
  {
   "cell_type": "code",
   "execution_count": 191,
   "id": "25b9751d",
   "metadata": {},
   "outputs": [
    {
     "data": {
      "text/plain": [
       "(19.427887094620406, 20.44726799333667)"
      ]
     },
     "execution_count": 191,
     "metadata": {},
     "output_type": "execute_result"
    }
   ],
   "source": [
    "st.t.interval(0.95, dof, me, se)"
   ]
  },
  {
   "cell_type": "code",
   "execution_count": null,
   "id": "b1de5f81",
   "metadata": {},
   "outputs": [],
   "source": []
  }
 ],
 "metadata": {
  "kernelspec": {
   "display_name": "Python 3 (ipykernel)",
   "language": "python",
   "name": "python3"
  },
  "language_info": {
   "codemirror_mode": {
    "name": "ipython",
    "version": 3
   },
   "file_extension": ".py",
   "mimetype": "text/x-python",
   "name": "python",
   "nbconvert_exporter": "python",
   "pygments_lexer": "ipython3",
   "version": "3.7.15"
  }
 },
 "nbformat": 4,
 "nbformat_minor": 5
}
