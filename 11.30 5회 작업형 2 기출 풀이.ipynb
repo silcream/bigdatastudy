{
 "cells": [
  {
   "cell_type": "markdown",
   "id": "8392fc40",
   "metadata": {},
   "source": [
    "빅데이터 분석기사 5회 실기 기출 유형\n",
    "\n",
    "[가격 예측] 중고 자동차\n",
    "\n",
    "자동차 가격을 예측해주세요!\n",
    "\n",
    "예측할 값(y): price\n",
    "\n",
    "평가: RMSE (Root Mean Squared Error)\n",
    "\n",
    "data: train.csv, test.csv\n",
    "\n",
    "[컴피티션 제출 양식] 리더보드 제출용\n",
    "\n",
    "제출 형식: submission.csv파일을 아래와 같은 형식(수치형)으로 제출\n",
    "\n",
    "(id는 test의 index임)"
   ]
  },
  {
   "cell_type": "code",
   "execution_count": 1,
   "id": "c97321cb",
   "metadata": {},
   "outputs": [],
   "source": [
    "import pandas as pd\n",
    "train= pd.read_csv('C:/Users/이세은/bigdata/big-data-analytics-certification-kr-2023-5th/train.csv')\n",
    "test= pd.read_csv('C:/Users/이세은/bigdata/big-data-analytics-certification-kr-2023-5th/test.csv')"
   ]
  },
  {
   "cell_type": "code",
   "execution_count": 2,
   "id": "00780eaa",
   "metadata": {},
   "outputs": [
    {
     "data": {
      "text/plain": [
       "model             19\n",
       "year              20\n",
       "price           1443\n",
       "transmission       3\n",
       "mileage         3329\n",
       "fuelType           3\n",
       "tax               23\n",
       "mpg               76\n",
       "engineSize        14\n",
       "dtype: int64"
      ]
     },
     "execution_count": 2,
     "metadata": {},
     "output_type": "execute_result"
    }
   ],
   "source": [
    "train.nunique()"
   ]
  },
  {
   "cell_type": "code",
   "execution_count": 3,
   "id": "987a1f1a",
   "metadata": {},
   "outputs": [],
   "source": [
    "x_train = train.drop(columns = ['price'])\n",
    "y = train['price']\n",
    "x_test = test"
   ]
  },
  {
   "cell_type": "code",
   "execution_count": 4,
   "id": "43dfad43",
   "metadata": {},
   "outputs": [],
   "source": [
    "x_train_dum = pd.get_dummies(x_train)\n",
    "x_test_dum = pd.get_dummies(x_test)\n",
    "x_test_dum = x_test_dum[x_train_dum.columns]"
   ]
  },
  {
   "cell_type": "code",
   "execution_count": 5,
   "id": "6eaa6a2c",
   "metadata": {},
   "outputs": [
    {
     "name": "stdout",
     "output_type": "stream",
     "text": [
      "(3759, 30) (1617, 30) (3759,)\n"
     ]
    }
   ],
   "source": [
    "print(x_train_dum.shape, x_test_dum.shape, y.shape)"
   ]
  },
  {
   "cell_type": "code",
   "execution_count": null,
   "id": "eca81f22",
   "metadata": {},
   "outputs": [],
   "source": []
  },
  {
   "cell_type": "code",
   "execution_count": 6,
   "id": "1cc6e4f9",
   "metadata": {},
   "outputs": [],
   "source": [
    "from sklearn.metrics import mean_squared_error\n",
    "from sklearn.ensemble import RandomForestClassifier\n",
    "from sklearn.model_selection import train_test_split"
   ]
  },
  {
   "cell_type": "code",
   "execution_count": 7,
   "id": "7a41ba7d",
   "metadata": {},
   "outputs": [],
   "source": [
    "# help(train_test_split)"
   ]
  },
  {
   "cell_type": "code",
   "execution_count": 8,
   "id": "af894022",
   "metadata": {},
   "outputs": [],
   "source": [
    "# help(mean_squared_error)"
   ]
  },
  {
   "cell_type": "code",
   "execution_count": 9,
   "id": "02255ffd",
   "metadata": {},
   "outputs": [
    {
     "data": {
      "text/plain": [
       "3064760.664893617"
      ]
     },
     "execution_count": 9,
     "metadata": {},
     "output_type": "execute_result"
    }
   ],
   "source": [
    "x_train, x_val, y_train, y_val = train_test_split(x_train_dum, y, test_size = 0.2, random_state = 42)\n",
    "rf = RandomForestClassifier(random_state = 23)\n",
    "rf.fit(x_train, y_train)\n",
    "pred = rf.predict(x_val)\n",
    "ans = mean_squared_error(y_val, pred)\n",
    "ans"
   ]
  },
  {
   "cell_type": "code",
   "execution_count": 10,
   "id": "b787b9d4",
   "metadata": {},
   "outputs": [
    {
     "data": {
      "text/plain": [
       "1750.6457851014914"
      ]
     },
     "execution_count": 10,
     "metadata": {},
     "output_type": "execute_result"
    }
   ],
   "source": [
    "import numpy as np\n",
    "np.sqrt(ans)"
   ]
  },
  {
   "cell_type": "code",
   "execution_count": 11,
   "id": "e853abec",
   "metadata": {},
   "outputs": [
    {
     "data": {
      "text/plain": [
       "array([15199, 16199, 14280, ...,  9999, 13499,  5995], dtype=int64)"
      ]
     },
     "execution_count": 11,
     "metadata": {},
     "output_type": "execute_result"
    }
   ],
   "source": [
    "test_pred = rf.predict(x_test_dum)\n",
    "test_pred"
   ]
  },
  {
   "cell_type": "code",
   "execution_count": 12,
   "id": "f6896b41",
   "metadata": {},
   "outputs": [],
   "source": [
    "submission= pd.read_csv('C:/Users/이세은/bigdata/big-data-analytics-certification-kr-2023-5th/sample_submission.csv')"
   ]
  },
  {
   "cell_type": "code",
   "execution_count": 13,
   "id": "f6dca0bc",
   "metadata": {},
   "outputs": [],
   "source": [
    "submission['price'] = test_pred"
   ]
  },
  {
   "cell_type": "code",
   "execution_count": 14,
   "id": "479415c4",
   "metadata": {},
   "outputs": [
    {
     "data": {
      "text/html": [
       "<div>\n",
       "<style scoped>\n",
       "    .dataframe tbody tr th:only-of-type {\n",
       "        vertical-align: middle;\n",
       "    }\n",
       "\n",
       "    .dataframe tbody tr th {\n",
       "        vertical-align: top;\n",
       "    }\n",
       "\n",
       "    .dataframe thead th {\n",
       "        text-align: right;\n",
       "    }\n",
       "</style>\n",
       "<table border=\"1\" class=\"dataframe\">\n",
       "  <thead>\n",
       "    <tr style=\"text-align: right;\">\n",
       "      <th></th>\n",
       "      <th>id</th>\n",
       "      <th>price</th>\n",
       "    </tr>\n",
       "  </thead>\n",
       "  <tbody>\n",
       "    <tr>\n",
       "      <th>0</th>\n",
       "      <td>0</td>\n",
       "      <td>15199</td>\n",
       "    </tr>\n",
       "    <tr>\n",
       "      <th>1</th>\n",
       "      <td>1</td>\n",
       "      <td>16199</td>\n",
       "    </tr>\n",
       "    <tr>\n",
       "      <th>2</th>\n",
       "      <td>2</td>\n",
       "      <td>14280</td>\n",
       "    </tr>\n",
       "    <tr>\n",
       "      <th>3</th>\n",
       "      <td>3</td>\n",
       "      <td>19333</td>\n",
       "    </tr>\n",
       "    <tr>\n",
       "      <th>4</th>\n",
       "      <td>4</td>\n",
       "      <td>6800</td>\n",
       "    </tr>\n",
       "  </tbody>\n",
       "</table>\n",
       "</div>"
      ],
      "text/plain": [
       "   id  price\n",
       "0   0  15199\n",
       "1   1  16199\n",
       "2   2  14280\n",
       "3   3  19333\n",
       "4   4   6800"
      ]
     },
     "execution_count": 14,
     "metadata": {},
     "output_type": "execute_result"
    }
   ],
   "source": [
    "submission.head()"
   ]
  },
  {
   "cell_type": "code",
   "execution_count": 15,
   "id": "d282951c",
   "metadata": {},
   "outputs": [
    {
     "data": {
      "text/html": [
       "<div>\n",
       "<style scoped>\n",
       "    .dataframe tbody tr th:only-of-type {\n",
       "        vertical-align: middle;\n",
       "    }\n",
       "\n",
       "    .dataframe tbody tr th {\n",
       "        vertical-align: top;\n",
       "    }\n",
       "\n",
       "    .dataframe thead th {\n",
       "        text-align: right;\n",
       "    }\n",
       "</style>\n",
       "<table border=\"1\" class=\"dataframe\">\n",
       "  <thead>\n",
       "    <tr style=\"text-align: right;\">\n",
       "      <th></th>\n",
       "      <th>id</th>\n",
       "      <th>price</th>\n",
       "    </tr>\n",
       "  </thead>\n",
       "  <tbody>\n",
       "    <tr>\n",
       "      <th>0</th>\n",
       "      <td>0</td>\n",
       "      <td>15199</td>\n",
       "    </tr>\n",
       "    <tr>\n",
       "      <th>1</th>\n",
       "      <td>1</td>\n",
       "      <td>16199</td>\n",
       "    </tr>\n",
       "    <tr>\n",
       "      <th>2</th>\n",
       "      <td>2</td>\n",
       "      <td>14280</td>\n",
       "    </tr>\n",
       "    <tr>\n",
       "      <th>3</th>\n",
       "      <td>3</td>\n",
       "      <td>19333</td>\n",
       "    </tr>\n",
       "    <tr>\n",
       "      <th>4</th>\n",
       "      <td>4</td>\n",
       "      <td>6800</td>\n",
       "    </tr>\n",
       "    <tr>\n",
       "      <th>...</th>\n",
       "      <td>...</td>\n",
       "      <td>...</td>\n",
       "    </tr>\n",
       "    <tr>\n",
       "      <th>1612</th>\n",
       "      <td>1612</td>\n",
       "      <td>11800</td>\n",
       "    </tr>\n",
       "    <tr>\n",
       "      <th>1613</th>\n",
       "      <td>1613</td>\n",
       "      <td>18991</td>\n",
       "    </tr>\n",
       "    <tr>\n",
       "      <th>1614</th>\n",
       "      <td>1614</td>\n",
       "      <td>9999</td>\n",
       "    </tr>\n",
       "    <tr>\n",
       "      <th>1615</th>\n",
       "      <td>1615</td>\n",
       "      <td>13499</td>\n",
       "    </tr>\n",
       "    <tr>\n",
       "      <th>1616</th>\n",
       "      <td>1616</td>\n",
       "      <td>5995</td>\n",
       "    </tr>\n",
       "  </tbody>\n",
       "</table>\n",
       "<p>1617 rows × 2 columns</p>\n",
       "</div>"
      ],
      "text/plain": [
       "        id  price\n",
       "0        0  15199\n",
       "1        1  16199\n",
       "2        2  14280\n",
       "3        3  19333\n",
       "4        4   6800\n",
       "...    ...    ...\n",
       "1612  1612  11800\n",
       "1613  1613  18991\n",
       "1614  1614   9999\n",
       "1615  1615  13499\n",
       "1616  1616   5995\n",
       "\n",
       "[1617 rows x 2 columns]"
      ]
     },
     "execution_count": 15,
     "metadata": {},
     "output_type": "execute_result"
    }
   ],
   "source": [
    "submission.to_csv('submission2.csv', index = False)\n",
    "pd.read_csv('submission2.csv') "
   ]
  },
  {
   "cell_type": "code",
   "execution_count": null,
   "id": "5bb0b16c",
   "metadata": {},
   "outputs": [],
   "source": []
  }
 ],
 "metadata": {
  "kernelspec": {
   "display_name": "Python 3 (ipykernel)",
   "language": "python",
   "name": "python3"
  },
  "language_info": {
   "codemirror_mode": {
    "name": "ipython",
    "version": 3
   },
   "file_extension": ".py",
   "mimetype": "text/x-python",
   "name": "python",
   "nbconvert_exporter": "python",
   "pygments_lexer": "ipython3",
   "version": "3.7.15"
  }
 },
 "nbformat": 4,
 "nbformat_minor": 5
}
