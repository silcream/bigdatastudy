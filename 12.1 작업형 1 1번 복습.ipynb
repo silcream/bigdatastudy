{
 "cells": [
  {
   "cell_type": "code",
   "execution_count": 148,
   "id": "764eb375",
   "metadata": {},
   "outputs": [
    {
     "data": {
      "text/html": [
       "<div>\n",
       "<style scoped>\n",
       "    .dataframe tbody tr th:only-of-type {\n",
       "        vertical-align: middle;\n",
       "    }\n",
       "\n",
       "    .dataframe tbody tr th {\n",
       "        vertical-align: top;\n",
       "    }\n",
       "\n",
       "    .dataframe thead th {\n",
       "        text-align: right;\n",
       "    }\n",
       "</style>\n",
       "<table border=\"1\" class=\"dataframe\">\n",
       "  <thead>\n",
       "    <tr style=\"text-align: right;\">\n",
       "      <th></th>\n",
       "      <th>title</th>\n",
       "      <th>channelTitle</th>\n",
       "      <th>categoryId</th>\n",
       "      <th>view_count</th>\n",
       "      <th>likes</th>\n",
       "      <th>dislikes</th>\n",
       "      <th>comment_count</th>\n",
       "      <th>channelId</th>\n",
       "      <th>trending_date2</th>\n",
       "    </tr>\n",
       "  </thead>\n",
       "  <tbody>\n",
       "    <tr>\n",
       "      <th>0</th>\n",
       "      <td>[신병] 물자창고</td>\n",
       "      <td>장삐쭈</td>\n",
       "      <td>23</td>\n",
       "      <td>1893473</td>\n",
       "      <td>38249</td>\n",
       "      <td>730</td>\n",
       "      <td>8595</td>\n",
       "      <td>UChbE5OZQ6dRHECsX0tEPEZQ</td>\n",
       "      <td>2021-01-01</td>\n",
       "    </tr>\n",
       "  </tbody>\n",
       "</table>\n",
       "</div>"
      ],
      "text/plain": [
       "       title channelTitle  categoryId  view_count  likes  dislikes  \\\n",
       "0  [신병] 물자창고          장삐쭈          23     1893473  38249       730   \n",
       "\n",
       "   comment_count                 channelId trending_date2  \n",
       "0           8595  UChbE5OZQ6dRHECsX0tEPEZQ     2021-01-01  "
      ]
     },
     "execution_count": 148,
     "metadata": {},
     "output_type": "execute_result"
    }
   ],
   "source": [
    "import pandas as pd\n",
    "df = pd.read_csv('https://raw.githubusercontent.com/Datamanim/datarepo/main/youtube/youtube.csv', index_col = 0)\n",
    "df.head(1)"
   ]
  },
  {
   "cell_type": "markdown",
   "id": "fa124262",
   "metadata": {},
   "source": [
    "Q1. 인기 동영상 제작 횟수가 많은 채널 상위 10개명 출력 (날짜기준, 중복 포함) - 다시"
   ]
  },
  {
   "cell_type": "code",
   "execution_count": 46,
   "id": "6e5acbe8",
   "metadata": {},
   "outputs": [
    {
     "data": {
      "text/plain": [
       "array(['장삐쭈', '총몇명', '파뿌리', '짤툰', '런닝맨 - 스브스 공식 채널',\n",
       "       '엠뚜루마뚜루 : MBC 공식 종합 채널', 'SPOTV', '채널 십오야', '이과장', 'BANGTANTV'],\n",
       "      dtype=object)"
      ]
     },
     "execution_count": 46,
     "metadata": {},
     "output_type": "execute_result"
    }
   ],
   "source": [
    "df[df['channelId'].isin(df['channelId'].value_counts().head(10).index)].channelTitle.unique()"
   ]
  },
  {
   "cell_type": "markdown",
   "id": "8335f5ca",
   "metadata": {},
   "source": [
    "Q2. dislikes 수가 like 수보다 높은 동영상 제작 채널 모두 출력"
   ]
  },
  {
   "cell_type": "code",
   "execution_count": 50,
   "id": "42d130d0",
   "metadata": {},
   "outputs": [
    {
     "data": {
      "text/plain": [
       "array(['핫도그TV', 'ASMR 애정TV', '하얀트리HayanTree', '양팡 YangPang',\n",
       "       '철구형 (CHULTUBE)', '왜냐맨하우스', '(MUTUBE)와꾸대장봉준', '오메킴TV', '육지담',\n",
       "       'MapleStory_KR', 'ROAD FIGHTING CHAMPIONSHIP', '사나이 김기훈',\n",
       "       '나혼자산다 STUDIO', 'Gen.G esports'], dtype=object)"
      ]
     },
     "execution_count": 50,
     "metadata": {},
     "output_type": "execute_result"
    }
   ],
   "source": [
    "df[df['dislikes'] > df['likes']].channelTitle.unique()"
   ]
  },
  {
   "cell_type": "markdown",
   "id": "8cd6995a",
   "metadata": {},
   "source": [
    "Q3. 채널명 바꾼 케이스의 개수"
   ]
  },
  {
   "cell_type": "code",
   "execution_count": 65,
   "id": "b96398db",
   "metadata": {},
   "outputs": [
    {
     "name": "stdout",
     "output_type": "stream",
     "text": [
      "(60399, 2)\n",
      "(1843, 2)\n"
     ]
    },
    {
     "data": {
      "text/plain": [
       "71"
      ]
     },
     "execution_count": 65,
     "metadata": {},
     "output_type": "execute_result"
    }
   ],
   "source": [
    "ddf = df[['channelId', 'channelTitle']]\n",
    "print(ddf.shape)\n",
    "ddf = ddf.drop_duplicates()\n",
    "print(ddf.shape)\n",
    "len(ddf.channelId.value_counts()[(ddf.channelId.value_counts() > 1)])"
   ]
  },
  {
   "cell_type": "markdown",
   "id": "1323e58f",
   "metadata": {},
   "source": [
    "Q4. 일요일에 인기 있었던 영상들 중 가장 많은 영상 종류(categoryId)"
   ]
  },
  {
   "cell_type": "code",
   "execution_count": 66,
   "id": "6bc7fa13",
   "metadata": {},
   "outputs": [],
   "source": [
    "import datetime as dt"
   ]
  },
  {
   "cell_type": "code",
   "execution_count": 81,
   "id": "5af79831",
   "metadata": {},
   "outputs": [],
   "source": [
    "df['trending_date2'] = pd.to_datetime(df['trending_date2'])"
   ]
  },
  {
   "cell_type": "code",
   "execution_count": 95,
   "id": "84eb1c02",
   "metadata": {},
   "outputs": [
    {
     "data": {
      "text/plain": [
       "24"
      ]
     },
     "execution_count": 95,
     "metadata": {},
     "output_type": "execute_result"
    }
   ],
   "source": [
    "df['day'] = df['trending_date2'].dt.strftime('%A')\n",
    "df[df['day'] == 'Sunday'].categoryId.value_counts().index[0]"
   ]
  },
  {
   "cell_type": "markdown",
   "id": "2df531a6",
   "metadata": {},
   "source": [
    "Q5. 각 요일별 인기 영상들의 categoryId는 각각 몇개씩인지 하나의 데이터프레임으로 표현"
   ]
  },
  {
   "cell_type": "code",
   "execution_count": null,
   "id": "60f5c14f",
   "metadata": {},
   "outputs": [],
   "source": []
  },
  {
   "cell_type": "code",
   "execution_count": 108,
   "id": "d2daacc5",
   "metadata": {},
   "outputs": [
    {
     "data": {
      "text/html": [
       "<div>\n",
       "<style scoped>\n",
       "    .dataframe tbody tr th:only-of-type {\n",
       "        vertical-align: middle;\n",
       "    }\n",
       "\n",
       "    .dataframe tbody tr th {\n",
       "        vertical-align: top;\n",
       "    }\n",
       "\n",
       "    .dataframe thead th {\n",
       "        text-align: right;\n",
       "    }\n",
       "</style>\n",
       "<table border=\"1\" class=\"dataframe\">\n",
       "  <thead>\n",
       "    <tr style=\"text-align: right;\">\n",
       "      <th></th>\n",
       "      <th></th>\n",
       "      <th>0</th>\n",
       "    </tr>\n",
       "    <tr>\n",
       "      <th>day</th>\n",
       "      <th>categoryId</th>\n",
       "      <th></th>\n",
       "    </tr>\n",
       "  </thead>\n",
       "  <tbody>\n",
       "    <tr>\n",
       "      <th rowspan=\"5\" valign=\"top\">Friday</th>\n",
       "      <th>1</th>\n",
       "      <td>243</td>\n",
       "    </tr>\n",
       "    <tr>\n",
       "      <th>2</th>\n",
       "      <td>120</td>\n",
       "    </tr>\n",
       "    <tr>\n",
       "      <th>10</th>\n",
       "      <td>833</td>\n",
       "    </tr>\n",
       "    <tr>\n",
       "      <th>15</th>\n",
       "      <td>187</td>\n",
       "    </tr>\n",
       "    <tr>\n",
       "      <th>17</th>\n",
       "      <td>633</td>\n",
       "    </tr>\n",
       "    <tr>\n",
       "      <th>...</th>\n",
       "      <th>...</th>\n",
       "      <td>...</td>\n",
       "    </tr>\n",
       "    <tr>\n",
       "      <th rowspan=\"5\" valign=\"top\">Wednesday</th>\n",
       "      <th>25</th>\n",
       "      <td>468</td>\n",
       "    </tr>\n",
       "    <tr>\n",
       "      <th>26</th>\n",
       "      <td>385</td>\n",
       "    </tr>\n",
       "    <tr>\n",
       "      <th>27</th>\n",
       "      <td>212</td>\n",
       "    </tr>\n",
       "    <tr>\n",
       "      <th>28</th>\n",
       "      <td>165</td>\n",
       "    </tr>\n",
       "    <tr>\n",
       "      <th>29</th>\n",
       "      <td>12</td>\n",
       "    </tr>\n",
       "  </tbody>\n",
       "</table>\n",
       "<p>105 rows × 1 columns</p>\n",
       "</div>"
      ],
      "text/plain": [
       "                        0\n",
       "day       categoryId     \n",
       "Friday    1           243\n",
       "          2           120\n",
       "          10          833\n",
       "          15          187\n",
       "          17          633\n",
       "...                   ...\n",
       "Wednesday 25          468\n",
       "          26          385\n",
       "          27          212\n",
       "          28          165\n",
       "          29           12\n",
       "\n",
       "[105 rows x 1 columns]"
      ]
     },
     "execution_count": 108,
     "metadata": {},
     "output_type": "execute_result"
    }
   ],
   "source": [
    "ddf = df[['day', 'categoryId']].groupby(['day', 'categoryId']).size().to_frame()\n",
    "ddf"
   ]
  },
  {
   "cell_type": "markdown",
   "id": "630944c0",
   "metadata": {},
   "source": [
    "Q6. viewcount 대비 댓글 수 가 가장 높은 영상 확인 ( view_count 값이 0 인 경우 제외)"
   ]
  },
  {
   "cell_type": "code",
   "execution_count": 127,
   "id": "38690ceb",
   "metadata": {},
   "outputs": [],
   "source": [
    "import warnings\n",
    "warnings.filterwarnings('ignore')"
   ]
  },
  {
   "cell_type": "code",
   "execution_count": 114,
   "id": "a072314e",
   "metadata": {},
   "outputs": [],
   "source": [
    "ddf = df[df['view_count'] != 0]"
   ]
  },
  {
   "cell_type": "code",
   "execution_count": 128,
   "id": "13cab925",
   "metadata": {},
   "outputs": [
    {
     "data": {
      "text/plain": [
       "50830    60분 동안 댓글이 달리지 않으면, 영상이 삭제됩니다. (챌린지)\n",
       "Name: title, dtype: object"
      ]
     },
     "execution_count": 128,
     "metadata": {},
     "output_type": "execute_result"
    }
   ],
   "source": [
    "ddf['ratio'] = (ddf['comment_count'] / ddf['view_count'])\n",
    "ddf[(ddf['ratio'] == ddf['ratio'].max())].title"
   ]
  },
  {
   "cell_type": "markdown",
   "id": "84c429ea",
   "metadata": {},
   "source": [
    "Q8. like 대비 dislike 의 수가 가장 적은 영상은? 0인 경우 제외**\n"
   ]
  },
  {
   "cell_type": "code",
   "execution_count": 151,
   "id": "205eaed2",
   "metadata": {},
   "outputs": [],
   "source": [
    "ddf = df[((df['dislikes'] & df['likes']) !=0)]"
   ]
  },
  {
   "cell_type": "code",
   "execution_count": 152,
   "id": "2593c63e",
   "metadata": {},
   "outputs": [
    {
     "data": {
      "text/plain": [
       "55573"
      ]
     },
     "execution_count": 152,
     "metadata": {},
     "output_type": "execute_result"
    }
   ],
   "source": [
    "len(ddf)"
   ]
  },
  {
   "cell_type": "code",
   "execution_count": 166,
   "id": "8ece4287",
   "metadata": {},
   "outputs": [
    {
     "data": {
      "text/plain": [
       "12168"
      ]
     },
     "execution_count": 166,
     "metadata": {},
     "output_type": "execute_result"
    }
   ],
   "source": [
    "(ddf['dislikes'] / ddf['likes']).sort_values(ascending = True).index[0]"
   ]
  },
  {
   "cell_type": "code",
   "execution_count": 170,
   "id": "5fc39e8f",
   "metadata": {},
   "outputs": [
    {
     "data": {
      "text/plain": [
       "'[줌터뷰] *최초공개* 사부작즈🐰🐶의 비공식 이름은 아이라인즈? 꿀조합 티키타카 가득한 NCT 127 도영&정우의 줌터뷰'"
      ]
     },
     "execution_count": 170,
     "metadata": {},
     "output_type": "execute_result"
    }
   ],
   "source": [
    "df.iloc[12168].title"
   ]
  },
  {
   "cell_type": "markdown",
   "id": "04263aac",
   "metadata": {},
   "source": [
    "Q9. 가장 많은 트렌드 영상을 제작한 채널의 이름은? (날짜 기준, 중복 포함)"
   ]
  },
  {
   "cell_type": "code",
   "execution_count": 182,
   "id": "03d6147f",
   "metadata": {},
   "outputs": [
    {
     "data": {
      "text/plain": [
       "'짤툰'"
      ]
     },
     "execution_count": 182,
     "metadata": {},
     "output_type": "execute_result"
    }
   ],
   "source": [
    "df[(df['channelId'] == df['channelId'].value_counts().index[0])].channelTitle.values[0]"
   ]
  },
  {
   "cell_type": "markdown",
   "id": "01c1e9db",
   "metadata": {},
   "source": [
    "Q10. 2일 이상 인기동영상 리스트에 포함된 동영상의 숫자?"
   ]
  },
  {
   "cell_type": "code",
   "execution_count": 227,
   "id": "424fad0f",
   "metadata": {},
   "outputs": [],
   "source": [
    "popular = (df['title'].value_counts())\n",
    "popular = popular.to_frame().reset_index()"
   ]
  },
  {
   "cell_type": "code",
   "execution_count": 228,
   "id": "c5775c08",
   "metadata": {},
   "outputs": [],
   "source": [
    "# popular = popular.to_frame()\n",
    "popular.columns = ['title', 'count']"
   ]
  },
  {
   "cell_type": "code",
   "execution_count": 240,
   "id": "37c03433",
   "metadata": {},
   "outputs": [
    {
     "data": {
      "text/plain": [
       "23"
      ]
     },
     "execution_count": 240,
     "metadata": {},
     "output_type": "execute_result"
    }
   ],
   "source": [
    "len(popular[popular['count'] > 20])"
   ]
  },
  {
   "cell_type": "code",
   "execution_count": 249,
   "id": "f81fca60",
   "metadata": {},
   "outputs": [
    {
     "data": {
      "text/plain": [
       "40"
      ]
     },
     "execution_count": 249,
     "metadata": {},
     "output_type": "execute_result"
    }
   ],
   "source": [
    "(df[['title', 'channelId']].value_counts() >= 20).sum()"
   ]
  },
  {
   "cell_type": "code",
   "execution_count": null,
   "id": "daf90345",
   "metadata": {},
   "outputs": [],
   "source": []
  }
 ],
 "metadata": {
  "kernelspec": {
   "display_name": "Python 3 (ipykernel)",
   "language": "python",
   "name": "python3"
  },
  "language_info": {
   "codemirror_mode": {
    "name": "ipython",
    "version": 3
   },
   "file_extension": ".py",
   "mimetype": "text/x-python",
   "name": "python",
   "nbconvert_exporter": "python",
   "pygments_lexer": "ipython3",
   "version": "3.7.15"
  }
 },
 "nbformat": 4,
 "nbformat_minor": 5
}
