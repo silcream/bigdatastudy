{
 "cells": [
  {
   "cell_type": "markdown",
   "id": "3d8b879a",
   "metadata": {},
   "source": [
    "성인 건강검진 데이터"
   ]
  },
  {
   "cell_type": "markdown",
   "id": "fd94b1e9",
   "metadata": {},
   "source": [
    "데이터 설명 : 2018년도 성인의 건강검 진데이터 (종속변수 : 흡연상태 1- 흡연, 0-비흡연 )"
   ]
  },
  {
   "cell_type": "code",
   "execution_count": 1,
   "id": "1eb1e283",
   "metadata": {},
   "outputs": [
    {
     "data": {
      "text/html": [
       "<div>\n",
       "<style scoped>\n",
       "    .dataframe tbody tr th:only-of-type {\n",
       "        vertical-align: middle;\n",
       "    }\n",
       "\n",
       "    .dataframe tbody tr th {\n",
       "        vertical-align: top;\n",
       "    }\n",
       "\n",
       "    .dataframe thead th {\n",
       "        text-align: right;\n",
       "    }\n",
       "</style>\n",
       "<table border=\"1\" class=\"dataframe\">\n",
       "  <thead>\n",
       "    <tr style=\"text-align: right;\">\n",
       "      <th></th>\n",
       "      <th>ID</th>\n",
       "      <th>성별코드</th>\n",
       "      <th>연령대코드(5세단위)</th>\n",
       "      <th>신장(5Cm단위)</th>\n",
       "      <th>체중(5Kg단위)</th>\n",
       "      <th>허리둘레</th>\n",
       "      <th>시력(좌)</th>\n",
       "      <th>시력(우)</th>\n",
       "      <th>청력(좌)</th>\n",
       "      <th>청력(우)</th>\n",
       "      <th>...</th>\n",
       "      <th>LDL콜레스테롤</th>\n",
       "      <th>혈색소</th>\n",
       "      <th>요단백</th>\n",
       "      <th>혈청크레아티닌</th>\n",
       "      <th>(혈청지오티)AST</th>\n",
       "      <th>(혈청지오티)ALT</th>\n",
       "      <th>감마지티피</th>\n",
       "      <th>구강검진수검여부</th>\n",
       "      <th>치아우식증유무</th>\n",
       "      <th>치석</th>\n",
       "    </tr>\n",
       "  </thead>\n",
       "  <tbody>\n",
       "    <tr>\n",
       "      <th>0</th>\n",
       "      <td>0</td>\n",
       "      <td>F</td>\n",
       "      <td>40</td>\n",
       "      <td>155</td>\n",
       "      <td>60</td>\n",
       "      <td>81.3</td>\n",
       "      <td>1.2</td>\n",
       "      <td>1.0</td>\n",
       "      <td>1.0</td>\n",
       "      <td>1.0</td>\n",
       "      <td>...</td>\n",
       "      <td>126.0</td>\n",
       "      <td>12.9</td>\n",
       "      <td>1.0</td>\n",
       "      <td>0.7</td>\n",
       "      <td>18.0</td>\n",
       "      <td>19.0</td>\n",
       "      <td>27.0</td>\n",
       "      <td>Y</td>\n",
       "      <td>0.0</td>\n",
       "      <td>Y</td>\n",
       "    </tr>\n",
       "    <tr>\n",
       "      <th>1</th>\n",
       "      <td>1</td>\n",
       "      <td>F</td>\n",
       "      <td>40</td>\n",
       "      <td>160</td>\n",
       "      <td>60</td>\n",
       "      <td>81.0</td>\n",
       "      <td>0.8</td>\n",
       "      <td>0.6</td>\n",
       "      <td>1.0</td>\n",
       "      <td>1.0</td>\n",
       "      <td>...</td>\n",
       "      <td>127.0</td>\n",
       "      <td>12.7</td>\n",
       "      <td>1.0</td>\n",
       "      <td>0.6</td>\n",
       "      <td>22.0</td>\n",
       "      <td>19.0</td>\n",
       "      <td>18.0</td>\n",
       "      <td>Y</td>\n",
       "      <td>0.0</td>\n",
       "      <td>Y</td>\n",
       "    </tr>\n",
       "    <tr>\n",
       "      <th>2</th>\n",
       "      <td>2</td>\n",
       "      <td>M</td>\n",
       "      <td>55</td>\n",
       "      <td>170</td>\n",
       "      <td>60</td>\n",
       "      <td>80.0</td>\n",
       "      <td>0.8</td>\n",
       "      <td>0.8</td>\n",
       "      <td>1.0</td>\n",
       "      <td>1.0</td>\n",
       "      <td>...</td>\n",
       "      <td>151.0</td>\n",
       "      <td>15.8</td>\n",
       "      <td>1.0</td>\n",
       "      <td>1.0</td>\n",
       "      <td>21.0</td>\n",
       "      <td>16.0</td>\n",
       "      <td>22.0</td>\n",
       "      <td>Y</td>\n",
       "      <td>0.0</td>\n",
       "      <td>N</td>\n",
       "    </tr>\n",
       "    <tr>\n",
       "      <th>3</th>\n",
       "      <td>3</td>\n",
       "      <td>M</td>\n",
       "      <td>40</td>\n",
       "      <td>165</td>\n",
       "      <td>70</td>\n",
       "      <td>88.0</td>\n",
       "      <td>1.5</td>\n",
       "      <td>1.5</td>\n",
       "      <td>1.0</td>\n",
       "      <td>1.0</td>\n",
       "      <td>...</td>\n",
       "      <td>226.0</td>\n",
       "      <td>14.7</td>\n",
       "      <td>1.0</td>\n",
       "      <td>1.0</td>\n",
       "      <td>19.0</td>\n",
       "      <td>26.0</td>\n",
       "      <td>18.0</td>\n",
       "      <td>Y</td>\n",
       "      <td>0.0</td>\n",
       "      <td>Y</td>\n",
       "    </tr>\n",
       "    <tr>\n",
       "      <th>4</th>\n",
       "      <td>4</td>\n",
       "      <td>F</td>\n",
       "      <td>40</td>\n",
       "      <td>155</td>\n",
       "      <td>60</td>\n",
       "      <td>86.0</td>\n",
       "      <td>1.0</td>\n",
       "      <td>1.0</td>\n",
       "      <td>1.0</td>\n",
       "      <td>1.0</td>\n",
       "      <td>...</td>\n",
       "      <td>107.0</td>\n",
       "      <td>12.5</td>\n",
       "      <td>1.0</td>\n",
       "      <td>0.6</td>\n",
       "      <td>16.0</td>\n",
       "      <td>14.0</td>\n",
       "      <td>22.0</td>\n",
       "      <td>Y</td>\n",
       "      <td>0.0</td>\n",
       "      <td>N</td>\n",
       "    </tr>\n",
       "  </tbody>\n",
       "</table>\n",
       "<p>5 rows × 26 columns</p>\n",
       "</div>"
      ],
      "text/plain": [
       "   ID 성별코드  연령대코드(5세단위)  신장(5Cm단위)  체중(5Kg단위)  허리둘레  시력(좌)  시력(우)  청력(좌)  \\\n",
       "0   0    F           40        155         60  81.3    1.2    1.0    1.0   \n",
       "1   1    F           40        160         60  81.0    0.8    0.6    1.0   \n",
       "2   2    M           55        170         60  80.0    0.8    0.8    1.0   \n",
       "3   3    M           40        165         70  88.0    1.5    1.5    1.0   \n",
       "4   4    F           40        155         60  86.0    1.0    1.0    1.0   \n",
       "\n",
       "   청력(우)  ...  LDL콜레스테롤   혈색소  요단백  혈청크레아티닌  (혈청지오티)AST  (혈청지오티)ALT  감마지티피  \\\n",
       "0    1.0  ...     126.0  12.9  1.0      0.7        18.0        19.0   27.0   \n",
       "1    1.0  ...     127.0  12.7  1.0      0.6        22.0        19.0   18.0   \n",
       "2    1.0  ...     151.0  15.8  1.0      1.0        21.0        16.0   22.0   \n",
       "3    1.0  ...     226.0  14.7  1.0      1.0        19.0        26.0   18.0   \n",
       "4    1.0  ...     107.0  12.5  1.0      0.6        16.0        14.0   22.0   \n",
       "\n",
       "   구강검진수검여부  치아우식증유무  치석  \n",
       "0         Y      0.0   Y  \n",
       "1         Y      0.0   Y  \n",
       "2         Y      0.0   N  \n",
       "3         Y      0.0   Y  \n",
       "4         Y      0.0   N  \n",
       "\n",
       "[5 rows x 26 columns]"
      ]
     },
     "metadata": {},
     "output_type": "display_data"
    },
    {
     "data": {
      "text/html": [
       "<div>\n",
       "<style scoped>\n",
       "    .dataframe tbody tr th:only-of-type {\n",
       "        vertical-align: middle;\n",
       "    }\n",
       "\n",
       "    .dataframe tbody tr th {\n",
       "        vertical-align: top;\n",
       "    }\n",
       "\n",
       "    .dataframe thead th {\n",
       "        text-align: right;\n",
       "    }\n",
       "</style>\n",
       "<table border=\"1\" class=\"dataframe\">\n",
       "  <thead>\n",
       "    <tr style=\"text-align: right;\">\n",
       "      <th></th>\n",
       "      <th>ID</th>\n",
       "      <th>흡연상태</th>\n",
       "    </tr>\n",
       "  </thead>\n",
       "  <tbody>\n",
       "    <tr>\n",
       "      <th>0</th>\n",
       "      <td>0</td>\n",
       "      <td>0</td>\n",
       "    </tr>\n",
       "    <tr>\n",
       "      <th>1</th>\n",
       "      <td>1</td>\n",
       "      <td>0</td>\n",
       "    </tr>\n",
       "    <tr>\n",
       "      <th>2</th>\n",
       "      <td>2</td>\n",
       "      <td>1</td>\n",
       "    </tr>\n",
       "    <tr>\n",
       "      <th>3</th>\n",
       "      <td>3</td>\n",
       "      <td>0</td>\n",
       "    </tr>\n",
       "    <tr>\n",
       "      <th>4</th>\n",
       "      <td>4</td>\n",
       "      <td>0</td>\n",
       "    </tr>\n",
       "  </tbody>\n",
       "</table>\n",
       "</div>"
      ],
      "text/plain": [
       "   ID  흡연상태\n",
       "0   0     0\n",
       "1   1     0\n",
       "2   2     1\n",
       "3   3     0\n",
       "4   4     0"
      ]
     },
     "metadata": {},
     "output_type": "display_data"
    }
   ],
   "source": [
    "import pandas as pd\n",
    "#데이터 로드\n",
    "x_train = pd.read_csv(\"https://raw.githubusercontent.com/Datamanim/datarepo/main/smoke/x_train.csv\")\n",
    "y_train = pd.read_csv(\"https://raw.githubusercontent.com/Datamanim/datarepo/main/smoke/y_train.csv\")\n",
    "x_test= pd.read_csv(\"https://raw.githubusercontent.com/Datamanim/datarepo/main/smoke/x_test.csv\")\n",
    "\n",
    "\n",
    "display(x_train.head())\n",
    "display(y_train.head())"
   ]
  },
  {
   "cell_type": "code",
   "execution_count": 2,
   "id": "34136a72",
   "metadata": {},
   "outputs": [
    {
     "name": "stdout",
     "output_type": "stream",
     "text": [
      "<class 'pandas.core.frame.DataFrame'>\n",
      "RangeIndex: 44553 entries, 0 to 44552\n",
      "Data columns (total 26 columns):\n",
      " #   Column       Non-Null Count  Dtype  \n",
      "---  ------       --------------  -----  \n",
      " 0   ID           44553 non-null  int64  \n",
      " 1   성별코드         44553 non-null  object \n",
      " 2   연령대코드(5세단위)  44553 non-null  int64  \n",
      " 3   신장(5Cm단위)    44553 non-null  int64  \n",
      " 4   체중(5Kg단위)    44553 non-null  int64  \n",
      " 5   허리둘레         44553 non-null  float64\n",
      " 6   시력(좌)        44553 non-null  float64\n",
      " 7   시력(우)        44553 non-null  float64\n",
      " 8   청력(좌)        44553 non-null  float64\n",
      " 9   청력(우)        44553 non-null  float64\n",
      " 10  수축기혈압        44553 non-null  float64\n",
      " 11  이완기혈압        44553 non-null  float64\n",
      " 12  식전혈당(공복혈당)   44553 non-null  float64\n",
      " 13  총콜레스테롤       44553 non-null  float64\n",
      " 14  트리글리세라이드     44553 non-null  float64\n",
      " 15  HDL콜레스테롤     44553 non-null  float64\n",
      " 16  LDL콜레스테롤     44553 non-null  float64\n",
      " 17  혈색소          44553 non-null  float64\n",
      " 18  요단백          44553 non-null  float64\n",
      " 19  혈청크레아티닌      44553 non-null  float64\n",
      " 20  (혈청지오티)AST   44553 non-null  float64\n",
      " 21  (혈청지오티)ALT   44553 non-null  float64\n",
      " 22  감마지티피        44553 non-null  float64\n",
      " 23  구강검진수검여부     44553 non-null  object \n",
      " 24  치아우식증유무      44553 non-null  float64\n",
      " 25  치석           44553 non-null  object \n",
      "dtypes: float64(19), int64(4), object(3)\n",
      "memory usage: 8.8+ MB\n",
      "None\n",
      "ID             44553\n",
      "성별코드               2\n",
      "연령대코드(5세단위)       14\n",
      "신장(5Cm단위)         13\n",
      "체중(5Kg단위)         22\n",
      "허리둘레             566\n",
      "시력(좌)             19\n",
      "시력(우)             17\n",
      "청력(좌)              2\n",
      "청력(우)              2\n",
      "수축기혈압            130\n",
      "이완기혈압             95\n",
      "식전혈당(공복혈당)       276\n",
      "총콜레스테롤           286\n",
      "트리글리세라이드         390\n",
      "HDL콜레스테롤         126\n",
      "LDL콜레스테롤         289\n",
      "혈색소              145\n",
      "요단백                6\n",
      "혈청크레아티닌           38\n",
      "(혈청지오티)AST       219\n",
      "(혈청지오티)ALT       245\n",
      "감마지티피            488\n",
      "구강검진수검여부           1\n",
      "치아우식증유무            2\n",
      "치석                 2\n",
      "dtype: int64\n",
      "ID             0\n",
      "성별코드           0\n",
      "연령대코드(5세단위)    0\n",
      "신장(5Cm단위)      0\n",
      "체중(5Kg단위)      0\n",
      "허리둘레           0\n",
      "시력(좌)          0\n",
      "시력(우)          0\n",
      "청력(좌)          0\n",
      "청력(우)          0\n",
      "수축기혈압          0\n",
      "이완기혈압          0\n",
      "식전혈당(공복혈당)     0\n",
      "총콜레스테롤         0\n",
      "트리글리세라이드       0\n",
      "HDL콜레스테롤       0\n",
      "LDL콜레스테롤       0\n",
      "혈색소            0\n",
      "요단백            0\n",
      "혈청크레아티닌        0\n",
      "(혈청지오티)AST     0\n",
      "(혈청지오티)ALT     0\n",
      "감마지티피          0\n",
      "구강검진수검여부       0\n",
      "치아우식증유무        0\n",
      "치석             0\n",
      "dtype: int64\n"
     ]
    }
   ],
   "source": [
    "print(x_train.info())\n",
    "print(x_train.nunique())\n",
    "print(x_train.isnull().sum())"
   ]
  },
  {
   "cell_type": "markdown",
   "id": "b4935a8e",
   "metadata": {},
   "source": [
    "## drop_col 작성하기"
   ]
  },
  {
   "cell_type": "markdown",
   "id": "7252b894",
   "metadata": {},
   "source": [
    "구강검진수검여부는 1개라서 제거"
   ]
  },
  {
   "cell_type": "code",
   "execution_count": 6,
   "id": "f911dbe6",
   "metadata": {},
   "outputs": [],
   "source": [
    "drop_col = ['ID','구강검진수검여부']\n",
    "x_train_drop = x_train.drop(columns = drop_col)\n",
    "x_test_drop = x_test.drop(columns = drop_col)"
   ]
  },
  {
   "cell_type": "markdown",
   "id": "75ab40f2",
   "metadata": {},
   "source": [
    "## train test 랑 랜덤포레스트 들고오고 더미화"
   ]
  },
  {
   "cell_type": "code",
   "execution_count": 8,
   "id": "4547e371",
   "metadata": {},
   "outputs": [],
   "source": [
    "from sklearn.model_selection import train_test_split\n",
    "from sklearn.ensemble import RandomForestClassifier\n",
    "\n",
    "x_train_dummies = pd.get_dummies(x_train_drop)\n",
    "x_test_dummies = pd.get_dummies(x_test_drop)\n",
    "y = y_train['흡연상태']"
   ]
  },
  {
   "cell_type": "code",
   "execution_count": 9,
   "id": "6b757e0e",
   "metadata": {},
   "outputs": [],
   "source": [
    "x_test_dummies = x_test_dummies[x_train_dummies.columns]"
   ]
  },
  {
   "cell_type": "markdown",
   "id": "3cf11c65",
   "metadata": {},
   "source": [
    "## train test split 시작 후 predict 시작"
   ]
  },
  {
   "cell_type": "code",
   "execution_count": 20,
   "id": "a73707e3",
   "metadata": {},
   "outputs": [],
   "source": [
    "X_train, X_validation, Y_train, Y_validation = train_test_split(x_train_dummies, y, test_size=0.33, random_state = 42, stratify = y)"
   ]
  },
  {
   "cell_type": "code",
   "execution_count": 21,
   "id": "0b6ae0b9",
   "metadata": {},
   "outputs": [
    {
     "data": {
      "text/plain": [
       "RandomForestClassifier(random_state=42)"
      ]
     },
     "execution_count": 21,
     "metadata": {},
     "output_type": "execute_result"
    }
   ],
   "source": [
    "rf = RandomForestClassifier(random_state = 42)\n",
    "rf.fit(X_train, Y_train)"
   ]
  },
  {
   "cell_type": "code",
   "execution_count": 22,
   "id": "7559e724",
   "metadata": {},
   "outputs": [],
   "source": [
    "from sklearn.metrics import accuracy_score, f1_score, recall_score, roc_auc_score, precision_score"
   ]
  },
  {
   "cell_type": "code",
   "execution_count": 23,
   "id": "e1c0228f",
   "metadata": {},
   "outputs": [],
   "source": [
    "predict_train_label = rf.predict(X_train)\n",
    "predict_train_proba = rf.predict_proba(X_train)[:,1]"
   ]
  },
  {
   "cell_type": "code",
   "execution_count": 24,
   "id": "c82d4e28",
   "metadata": {},
   "outputs": [],
   "source": [
    "predict_validaion_label = rf.predict(X_validation)\n",
    "predict_validaion_proba = rf.predict_proba(X_validation)[:,1]"
   ]
  },
  {
   "cell_type": "code",
   "execution_count": 25,
   "id": "08e91efe",
   "metadata": {},
   "outputs": [
    {
     "data": {
      "text/plain": [
       "0.755356049785758"
      ]
     },
     "execution_count": 25,
     "metadata": {},
     "output_type": "execute_result"
    }
   ],
   "source": [
    "accuracy_score(Y_train, predict_train_label)\n",
    "accuracy_score(Y_validation, predict_validaion_label)"
   ]
  },
  {
   "cell_type": "code",
   "execution_count": 26,
   "id": "9ea6fbb1",
   "metadata": {},
   "outputs": [],
   "source": [
    "predict_test_label = rf.predict(x_test_dummies)\n",
    "predict_test_proba = rf.predict_proba(x_test_dummies)[:,1]"
   ]
  },
  {
   "cell_type": "markdown",
   "id": "785b0e4d",
   "metadata": {},
   "source": [
    "## csv파일로 출력하기 encoding 넣기!"
   ]
  },
  {
   "cell_type": "markdown",
   "id": "73ab06ff",
   "metadata": {},
   "source": [
    "정확도"
   ]
  },
  {
   "cell_type": "code",
   "execution_count": 29,
   "id": "4b346838",
   "metadata": {},
   "outputs": [],
   "source": [
    "pd.DataFrame({'ID' : x_test.ID, '흡연상태' : predict_test_label}).to_csv('result3.csv', index = False, encoding = 'cp949')"
   ]
  },
  {
   "cell_type": "markdown",
   "id": "a5e6ed33",
   "metadata": {},
   "source": [
    "확률"
   ]
  },
  {
   "cell_type": "code",
   "execution_count": 28,
   "id": "4ced19db",
   "metadata": {},
   "outputs": [],
   "source": [
    "pd.DataFrame({'ID' : x_test.ID, '흡연상태' : predict_test_proba}).to_csv('result4.csv', index = False)"
   ]
  },
  {
   "cell_type": "code",
   "execution_count": null,
   "id": "9485b2cb",
   "metadata": {},
   "outputs": [],
   "source": []
  }
 ],
 "metadata": {
  "kernelspec": {
   "display_name": "Python 3 (ipykernel)",
   "language": "python",
   "name": "python3"
  },
  "language_info": {
   "codemirror_mode": {
    "name": "ipython",
    "version": 3
   },
   "file_extension": ".py",
   "mimetype": "text/x-python",
   "name": "python",
   "nbconvert_exporter": "python",
   "pygments_lexer": "ipython3",
   "version": "3.7.15"
  }
 },
 "nbformat": 4,
 "nbformat_minor": 5
}
