{
 "cells": [
  {
   "cell_type": "markdown",
   "id": "a48fa7f3",
   "metadata": {},
   "source": [
    "help, dir 어디서든 쓰기"
   ]
  },
  {
   "cell_type": "code",
   "execution_count": 9,
   "id": "a760f947",
   "metadata": {},
   "outputs": [],
   "source": [
    "import warnings\n",
    "warnings.filterwarnings('ignore')\n",
    "## 외우기!!"
   ]
  },
  {
   "cell_type": "markdown",
   "id": "48273381",
   "metadata": {},
   "source": [
    "## 작업형 1"
   ]
  },
  {
   "cell_type": "code",
   "execution_count": 3,
   "id": "6a794794",
   "metadata": {},
   "outputs": [],
   "source": [
    "import pandas as pd\n",
    "df = pd.read_csv('https://raw.githubusercontent.com/Datamanim/pandas/main/timeTest.csv')"
   ]
  },
  {
   "cell_type": "markdown",
   "id": "357de69a",
   "metadata": {},
   "source": [
    "groupby를 2번 할 수 도 있음"
   ]
  },
  {
   "cell_type": "code",
   "execution_count": 5,
   "id": "a984c23d",
   "metadata": {},
   "outputs": [
    {
     "data": {
      "text/html": [
       "<div>\n",
       "<style scoped>\n",
       "    .dataframe tbody tr th:only-of-type {\n",
       "        vertical-align: middle;\n",
       "    }\n",
       "\n",
       "    .dataframe tbody tr th {\n",
       "        vertical-align: top;\n",
       "    }\n",
       "\n",
       "    .dataframe thead th {\n",
       "        text-align: right;\n",
       "    }\n",
       "</style>\n",
       "<table border=\"1\" class=\"dataframe\">\n",
       "  <thead>\n",
       "    <tr style=\"text-align: right;\">\n",
       "      <th></th>\n",
       "      <th>RPT</th>\n",
       "      <th>VAL</th>\n",
       "    </tr>\n",
       "  </thead>\n",
       "  <tbody>\n",
       "    <tr>\n",
       "      <th>0</th>\n",
       "      <td>15.04</td>\n",
       "      <td>14.96</td>\n",
       "    </tr>\n",
       "    <tr>\n",
       "      <th>1</th>\n",
       "      <td>14.71</td>\n",
       "      <td>NaN</td>\n",
       "    </tr>\n",
       "    <tr>\n",
       "      <th>2</th>\n",
       "      <td>18.50</td>\n",
       "      <td>16.88</td>\n",
       "    </tr>\n",
       "  </tbody>\n",
       "</table>\n",
       "</div>"
      ],
      "text/plain": [
       "     RPT    VAL\n",
       "0  15.04  14.96\n",
       "1  14.71    NaN\n",
       "2  18.50  16.88"
      ]
     },
     "execution_count": 5,
     "metadata": {},
     "output_type": "execute_result"
    }
   ],
   "source": [
    "df[['RPT', 'VAL']].head(3) #이렇게 묶어놓고 groupby 가능"
   ]
  },
  {
   "cell_type": "markdown",
   "id": "3a4faf90",
   "metadata": {},
   "source": [
    "시간형식으로 바꾸는 방법"
   ]
  },
  {
   "cell_type": "code",
   "execution_count": 6,
   "id": "b3ec2780",
   "metadata": {},
   "outputs": [],
   "source": [
    "df['Yr_Mo_Dy'] = pd.to_datetime(df['Yr_Mo_Dy'])"
   ]
  },
  {
   "cell_type": "markdown",
   "id": "77cd1f48",
   "metadata": {},
   "source": [
    "dt.year 이렇게 dt 붙이는거 기억하기"
   ]
  },
  {
   "cell_type": "markdown",
   "id": "4813f5e2",
   "metadata": {},
   "source": [
    "모든 결측치는 컬럼기준 직전의 값으로 대체하고 첫번째 행에 결측치가 있을경우 뒤에있는 값으로 대채하라"
   ]
  },
  {
   "cell_type": "code",
   "execution_count": 7,
   "id": "c53b955b",
   "metadata": {},
   "outputs": [],
   "source": [
    "df = df.fillna(method='ffill').fillna(method='bfill')"
   ]
  },
  {
   "cell_type": "markdown",
   "id": "e6e5b687",
   "metadata": {},
   "source": [
    "groupby().count() 있는거 인지하기"
   ]
  },
  {
   "cell_type": "markdown",
   "id": "c36c5bde",
   "metadata": {},
   "source": [
    ".max() 말고 .idxmax() 도 있다는점"
   ]
  },
  {
   "cell_type": "markdown",
   "id": "4486c072",
   "metadata": {},
   "source": [
    "## 작업형 2"
   ]
  },
  {
   "cell_type": "code",
   "execution_count": null,
   "id": "9c0f1897",
   "metadata": {},
   "outputs": [],
   "source": []
  },
  {
   "cell_type": "markdown",
   "id": "350be0ee",
   "metadata": {},
   "source": [
    "## 작업형 3"
   ]
  },
  {
   "cell_type": "code",
   "execution_count": null,
   "id": "5c388bf9",
   "metadata": {},
   "outputs": [],
   "source": []
  }
 ],
 "metadata": {
  "kernelspec": {
   "display_name": "Python 3 (ipykernel)",
   "language": "python",
   "name": "python3"
  },
  "language_info": {
   "codemirror_mode": {
    "name": "ipython",
    "version": 3
   },
   "file_extension": ".py",
   "mimetype": "text/x-python",
   "name": "python",
   "nbconvert_exporter": "python",
   "pygments_lexer": "ipython3",
   "version": "3.7.15"
  }
 },
 "nbformat": 4,
 "nbformat_minor": 5
}
