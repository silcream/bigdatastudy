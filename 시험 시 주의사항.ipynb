{
 "cells": [
  {
   "cell_type": "markdown",
   "id": "a48fa7f3",
   "metadata": {},
   "source": [
    "help, dir 어디서든 쓰기"
   ]
  },
  {
   "cell_type": "code",
   "execution_count": 9,
   "id": "a760f947",
   "metadata": {},
   "outputs": [],
   "source": [
    "import warnings\n",
    "warnings.filterwarnings('ignore')\n",
    "## 외우기!!"
   ]
  },
  {
   "cell_type": "markdown",
   "id": "48273381",
   "metadata": {},
   "source": [
    "## 작업형 1"
   ]
  },
  {
   "cell_type": "code",
   "execution_count": 3,
   "id": "6a794794",
   "metadata": {},
   "outputs": [],
   "source": [
    "import pandas as pd\n",
    "df = pd.read_csv('https://raw.githubusercontent.com/Datamanim/pandas/main/timeTest.csv')"
   ]
  },
  {
   "cell_type": "markdown",
   "id": "357de69a",
   "metadata": {},
   "source": [
    "groupby를 2번 할 수 도 있음"
   ]
  },
  {
   "cell_type": "code",
   "execution_count": 5,
   "id": "a984c23d",
   "metadata": {},
   "outputs": [
    {
     "data": {
      "text/html": [
       "<div>\n",
       "<style scoped>\n",
       "    .dataframe tbody tr th:only-of-type {\n",
       "        vertical-align: middle;\n",
       "    }\n",
       "\n",
       "    .dataframe tbody tr th {\n",
       "        vertical-align: top;\n",
       "    }\n",
       "\n",
       "    .dataframe thead th {\n",
       "        text-align: right;\n",
       "    }\n",
       "</style>\n",
       "<table border=\"1\" class=\"dataframe\">\n",
       "  <thead>\n",
       "    <tr style=\"text-align: right;\">\n",
       "      <th></th>\n",
       "      <th>RPT</th>\n",
       "      <th>VAL</th>\n",
       "    </tr>\n",
       "  </thead>\n",
       "  <tbody>\n",
       "    <tr>\n",
       "      <th>0</th>\n",
       "      <td>15.04</td>\n",
       "      <td>14.96</td>\n",
       "    </tr>\n",
       "    <tr>\n",
       "      <th>1</th>\n",
       "      <td>14.71</td>\n",
       "      <td>NaN</td>\n",
       "    </tr>\n",
       "    <tr>\n",
       "      <th>2</th>\n",
       "      <td>18.50</td>\n",
       "      <td>16.88</td>\n",
       "    </tr>\n",
       "  </tbody>\n",
       "</table>\n",
       "</div>"
      ],
      "text/plain": [
       "     RPT    VAL\n",
       "0  15.04  14.96\n",
       "1  14.71    NaN\n",
       "2  18.50  16.88"
      ]
     },
     "execution_count": 5,
     "metadata": {},
     "output_type": "execute_result"
    }
   ],
   "source": [
    "df[['RPT', 'VAL']].head(3) #이렇게 묶어놓고 groupby 가능"
   ]
  },
  {
   "cell_type": "markdown",
   "id": "3a4faf90",
   "metadata": {},
   "source": [
    "시간형식으로 바꾸는 방법"
   ]
  },
  {
   "cell_type": "code",
   "execution_count": 6,
   "id": "b3ec2780",
   "metadata": {},
   "outputs": [],
   "source": [
    "df['Yr_Mo_Dy'] = pd.to_datetime(df['Yr_Mo_Dy'])"
   ]
  },
  {
   "cell_type": "markdown",
   "id": "77cd1f48",
   "metadata": {},
   "source": [
    "dt.year 이렇게 dt 붙이는거 기억하기"
   ]
  },
  {
   "cell_type": "markdown",
   "id": "4813f5e2",
   "metadata": {},
   "source": [
    "모든 결측치는 컬럼기준 직전의 값으로 대체하고 첫번째 행에 결측치가 있을경우 뒤에있는 값으로 대채하라"
   ]
  },
  {
   "cell_type": "code",
   "execution_count": 11,
   "id": "c53b955b",
   "metadata": {},
   "outputs": [],
   "source": [
    "df = df.fillna(method='ffill').fillna(method='bfill')"
   ]
  },
  {
   "cell_type": "markdown",
   "id": "e6e5b687",
   "metadata": {},
   "source": [
    "groupby().count() 있는거 인지하기"
   ]
  },
  {
   "cell_type": "markdown",
   "id": "c36c5bde",
   "metadata": {},
   "source": [
    ".max() 말고 .idxmax() 도 있다는점"
   ]
  },
  {
   "cell_type": "markdown",
   "id": "4486c072",
   "metadata": {},
   "source": [
    "## 작업형 2"
   ]
  },
  {
   "cell_type": "code",
   "execution_count": null,
   "id": "9c0f1897",
   "metadata": {},
   "outputs": [],
   "source": []
  },
  {
   "cell_type": "markdown",
   "id": "350be0ee",
   "metadata": {},
   "source": [
    "## 작업형 3"
   ]
  },
  {
   "cell_type": "code",
   "execution_count": 3,
   "id": "8ef48365",
   "metadata": {},
   "outputs": [],
   "source": [
    "import pandas as pd\n",
    "df = pd.read_csv(\"Titanic.csv\")\n",
    "df = df[['Survived', 'Pclass', 'Gender', 'SibSp', 'Parch']]\n",
    "x=  df.drop(columns = 'Survived')\n",
    "y = df['Survived']\n",
    "x['Gender'] = x['Gender'].map({'female' : 1, 'male' : 0})"
   ]
  },
  {
   "cell_type": "code",
   "execution_count": 13,
   "id": "3f7beb92",
   "metadata": {},
   "outputs": [],
   "source": [
    "from sklearn.linear_model import LogisticRegression"
   ]
  },
  {
   "cell_type": "markdown",
   "id": "e3bb859d",
   "metadata": {},
   "source": [
    "상수항 추가하는거 잊지말기"
   ]
  },
  {
   "cell_type": "markdown",
   "id": "13398b99",
   "metadata": {},
   "source": [
    "penalty = 'none' 기억하기"
   ]
  },
  {
   "cell_type": "code",
   "execution_count": 14,
   "id": "b328537a",
   "metadata": {},
   "outputs": [],
   "source": [
    "lr = LogisticRegression(penalty = None) # penalty = 'none'"
   ]
  },
  {
   "cell_type": "markdown",
   "id": "1d55fbe0",
   "metadata": {},
   "source": [
    "외울 코드"
   ]
  },
  {
   "cell_type": "code",
   "execution_count": 4,
   "id": "b535e88a",
   "metadata": {},
   "outputs": [
    {
     "name": "stdout",
     "output_type": "stream",
     "text": [
      "Optimization terminated successfully.\n",
      "         Current function value: 0.459658\n",
      "         Iterations 6\n",
      "                           Logit Regression Results                           \n",
      "==============================================================================\n",
      "Dep. Variable:               Survived   No. Observations:                  891\n",
      "Model:                          Logit   Df Residuals:                      886\n",
      "Method:                           MLE   Df Model:                            4\n",
      "Date:                Fri, 01 Dec 2023   Pseudo R-squ.:                  0.3097\n",
      "Time:                        12:16:42   Log-Likelihood:                -409.56\n",
      "converged:                       True   LL-Null:                       -593.33\n",
      "Covariance Type:            nonrobust   LLR p-value:                 2.854e-78\n",
      "==============================================================================\n",
      "                 coef    std err          z      P>|z|      [0.025      0.975]\n",
      "------------------------------------------------------------------------------\n",
      "const          0.6972      0.243      2.864      0.004       0.220       1.174\n",
      "Pclass        -0.9392      0.107     -8.815      0.000      -1.148      -0.730\n",
      "Gender         2.7624      0.195     14.141      0.000       2.379       3.145\n",
      "SibSp         -0.2340      0.099     -2.359      0.018      -0.428      -0.040\n",
      "Parch         -0.0503      0.110     -0.455      0.649      -0.267       0.166\n",
      "==============================================================================\n",
      "const     0.697244\n",
      "Pclass   -0.939161\n",
      "Gender    2.762364\n",
      "SibSp    -0.234018\n",
      "Parch    -0.050260\n",
      "dtype: float64\n"
     ]
    }
   ],
   "source": [
    "import statsmodels.api as sm\n",
    "\n",
    "x = sm.add_constant(x)\n",
    "model = sm.Logit(y, x).fit()\n",
    "summary = model.summary()\n",
    "print(summary)\n",
    "print(model.params)"
   ]
  },
  {
   "cell_type": "code",
   "execution_count": 5,
   "id": "a9cf67d5",
   "metadata": {},
   "outputs": [
    {
     "name": "stdout",
     "output_type": "stream",
     "text": [
      "Optimization terminated successfully.\n",
      "         Current function value: 0.459658\n",
      "         Iterations 6\n"
     ]
    }
   ],
   "source": [
    "# 로지스틱 회귀\n",
    "model = sm.Logit(y, x).fit()\n",
    "#선형회귀\n",
    "model = sm.OLS(y, x).fit()"
   ]
  },
  {
   "cell_type": "markdown",
   "id": "30a91e1f",
   "metadata": {},
   "source": [
    "## 상관관계에 있는가"
   ]
  },
  {
   "cell_type": "code",
   "execution_count": 8,
   "id": "3a8d7483",
   "metadata": {},
   "outputs": [
    {
     "name": "stdout",
     "output_type": "stream",
     "text": [
      "상관 계수: 0.018442671310748525, p-value: 0.5824697762367528\n"
     ]
    }
   ],
   "source": [
    "from scipy.stats import pearsonr\n",
    "\n",
    "correlation, p_value = pearsonr(df['Pclass'], df['Parch'])\n",
    "print(f'상관 계수: {correlation}, p-value: {p_value}')"
   ]
  },
  {
   "cell_type": "code",
   "execution_count": 9,
   "id": "0236b765",
   "metadata": {},
   "outputs": [],
   "source": [
    "## p<0.05 -> 상관관계에 있음. 선형적이다"
   ]
  },
  {
   "cell_type": "code",
   "execution_count": null,
   "id": "de736928",
   "metadata": {},
   "outputs": [],
   "source": []
  }
 ],
 "metadata": {
  "kernelspec": {
   "display_name": "Python 3 (ipykernel)",
   "language": "python",
   "name": "python3"
  },
  "language_info": {
   "codemirror_mode": {
    "name": "ipython",
    "version": 3
   },
   "file_extension": ".py",
   "mimetype": "text/x-python",
   "name": "python",
   "nbconvert_exporter": "python",
   "pygments_lexer": "ipython3",
   "version": "3.7.15"
  }
 },
 "nbformat": 4,
 "nbformat_minor": 5
}
