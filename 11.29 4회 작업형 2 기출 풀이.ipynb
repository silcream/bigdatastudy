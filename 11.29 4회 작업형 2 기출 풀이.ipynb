{
 "cells": [
  {
   "cell_type": "markdown",
   "id": "b84a361d",
   "metadata": {},
   "source": [
    "[마케팅] 자동차 시장 세분화\n",
    "\n",
    "자동차 회사는 새로운 전략을 수립하기 위해 4개의 시장으로 세분화했습니다.\n",
    "\n",
    "기존 고객 분류 자료를 바탕으로 신규 고객이 어떤 분류에 속할지 예측해주세요!\n",
    "\n",
    "예측할 값(y): \"Segmentation\" (1,2,3,4)\n",
    "\n",
    "평가: Macro f1-score\n",
    "\n",
    "data: train.csv, test.csv"
   ]
  },
  {
   "cell_type": "code",
   "execution_count": 4,
   "id": "31d1a9c6",
   "metadata": {},
   "outputs": [
    {
     "data": {
      "text/plain": [
       "ID                 6665\n",
       "Gender                2\n",
       "Ever_Married          2\n",
       "Age                  67\n",
       "Graduated             2\n",
       "Profession            9\n",
       "Work_Experience      15\n",
       "Spending_Score        3\n",
       "Family_Size           9\n",
       "Var_1                 7\n",
       "Segmentation          4\n",
       "dtype: int64"
      ]
     },
     "execution_count": 4,
     "metadata": {},
     "output_type": "execute_result"
    }
   ],
   "source": [
    "import pandas as pd\n",
    "\n",
    "train = pd.read_csv(\"data/train.csv\")\n",
    "test = pd.read_csv(\"data/test.csv\")\n",
    "train.nunique()"
   ]
  },
  {
   "cell_type": "code",
   "execution_count": 14,
   "id": "f1e6f183",
   "metadata": {},
   "outputs": [
    {
     "data": {
      "text/html": [
       "<div>\n",
       "<style scoped>\n",
       "    .dataframe tbody tr th:only-of-type {\n",
       "        vertical-align: middle;\n",
       "    }\n",
       "\n",
       "    .dataframe tbody tr th {\n",
       "        vertical-align: top;\n",
       "    }\n",
       "\n",
       "    .dataframe thead th {\n",
       "        text-align: right;\n",
       "    }\n",
       "</style>\n",
       "<table border=\"1\" class=\"dataframe\">\n",
       "  <thead>\n",
       "    <tr style=\"text-align: right;\">\n",
       "      <th></th>\n",
       "      <th>ID</th>\n",
       "      <th>Age</th>\n",
       "      <th>Work_Experience</th>\n",
       "      <th>Family_Size</th>\n",
       "      <th>Segmentation</th>\n",
       "    </tr>\n",
       "  </thead>\n",
       "  <tbody>\n",
       "    <tr>\n",
       "      <th>count</th>\n",
       "      <td>6665.00000</td>\n",
       "      <td>6665.000000</td>\n",
       "      <td>6665.000000</td>\n",
       "      <td>6665.000000</td>\n",
       "      <td>6665.000000</td>\n",
       "    </tr>\n",
       "    <tr>\n",
       "      <th>mean</th>\n",
       "      <td>463519.84096</td>\n",
       "      <td>43.536084</td>\n",
       "      <td>2.629107</td>\n",
       "      <td>2.841110</td>\n",
       "      <td>2.542836</td>\n",
       "    </tr>\n",
       "    <tr>\n",
       "      <th>std</th>\n",
       "      <td>2566.43174</td>\n",
       "      <td>16.524054</td>\n",
       "      <td>3.405365</td>\n",
       "      <td>1.524743</td>\n",
       "      <td>1.122723</td>\n",
       "    </tr>\n",
       "    <tr>\n",
       "      <th>min</th>\n",
       "      <td>458982.00000</td>\n",
       "      <td>18.000000</td>\n",
       "      <td>0.000000</td>\n",
       "      <td>1.000000</td>\n",
       "      <td>1.000000</td>\n",
       "    </tr>\n",
       "    <tr>\n",
       "      <th>25%</th>\n",
       "      <td>461349.00000</td>\n",
       "      <td>31.000000</td>\n",
       "      <td>0.000000</td>\n",
       "      <td>2.000000</td>\n",
       "      <td>2.000000</td>\n",
       "    </tr>\n",
       "    <tr>\n",
       "      <th>50%</th>\n",
       "      <td>463575.00000</td>\n",
       "      <td>41.000000</td>\n",
       "      <td>1.000000</td>\n",
       "      <td>2.000000</td>\n",
       "      <td>3.000000</td>\n",
       "    </tr>\n",
       "    <tr>\n",
       "      <th>75%</th>\n",
       "      <td>465741.00000</td>\n",
       "      <td>53.000000</td>\n",
       "      <td>4.000000</td>\n",
       "      <td>4.000000</td>\n",
       "      <td>4.000000</td>\n",
       "    </tr>\n",
       "    <tr>\n",
       "      <th>max</th>\n",
       "      <td>467974.00000</td>\n",
       "      <td>89.000000</td>\n",
       "      <td>14.000000</td>\n",
       "      <td>9.000000</td>\n",
       "      <td>4.000000</td>\n",
       "    </tr>\n",
       "  </tbody>\n",
       "</table>\n",
       "</div>"
      ],
      "text/plain": [
       "                 ID          Age  Work_Experience  Family_Size  Segmentation\n",
       "count    6665.00000  6665.000000      6665.000000  6665.000000   6665.000000\n",
       "mean   463519.84096    43.536084         2.629107     2.841110      2.542836\n",
       "std      2566.43174    16.524054         3.405365     1.524743      1.122723\n",
       "min    458982.00000    18.000000         0.000000     1.000000      1.000000\n",
       "25%    461349.00000    31.000000         0.000000     2.000000      2.000000\n",
       "50%    463575.00000    41.000000         1.000000     2.000000      3.000000\n",
       "75%    465741.00000    53.000000         4.000000     4.000000      4.000000\n",
       "max    467974.00000    89.000000        14.000000     9.000000      4.000000"
      ]
     },
     "execution_count": 14,
     "metadata": {},
     "output_type": "execute_result"
    }
   ],
   "source": [
    "train.describe()"
   ]
  },
  {
   "cell_type": "code",
   "execution_count": 5,
   "id": "9128b2f5",
   "metadata": {},
   "outputs": [
    {
     "data": {
      "text/plain": [
       "ID                 2154\n",
       "Gender                2\n",
       "Ever_Married          2\n",
       "Age                  67\n",
       "Graduated             2\n",
       "Profession            9\n",
       "Work_Experience      15\n",
       "Spending_Score        3\n",
       "Family_Size           9\n",
       "Var_1                 7\n",
       "dtype: int64"
      ]
     },
     "execution_count": 5,
     "metadata": {},
     "output_type": "execute_result"
    }
   ],
   "source": [
    "test.nunique()"
   ]
  },
  {
   "cell_type": "code",
   "execution_count": 6,
   "id": "0d2c7ab6",
   "metadata": {},
   "outputs": [],
   "source": [
    "drop_col = ['ID']\n",
    "x_train_drop = train.drop(columns = ['ID','Segmentation'])\n",
    "x_test_drop = test.drop(columns = ['ID'])\n",
    "y = train['Segmentation']"
   ]
  },
  {
   "cell_type": "code",
   "execution_count": 7,
   "id": "6d811b84",
   "metadata": {},
   "outputs": [],
   "source": [
    "x_train_dum = pd.get_dummies(x_train_drop)\n",
    "x_test_dum = pd.get_dummies(x_test_drop)\n",
    "x_test_dum = x_test_dum[x_train_dum.columns]"
   ]
  },
  {
   "cell_type": "code",
   "execution_count": 8,
   "id": "420dc4e8",
   "metadata": {},
   "outputs": [],
   "source": [
    "from sklearn.model_selection import train_test_split\n",
    "from sklearn.metrics import f1_score\n",
    "from sklearn.ensemble import RandomForestClassifier"
   ]
  },
  {
   "cell_type": "code",
   "execution_count": 11,
   "id": "27ea0d48",
   "metadata": {},
   "outputs": [
    {
     "data": {
      "text/plain": [
       "((4998, 28), (1667, 28), (4998,), (1667,))"
      ]
     },
     "execution_count": 11,
     "metadata": {},
     "output_type": "execute_result"
    }
   ],
   "source": [
    "x_train.shape, x_val.shape, y_train.shape, y_val.shape"
   ]
  },
  {
   "cell_type": "code",
   "execution_count": 13,
   "id": "ca8c7417",
   "metadata": {},
   "outputs": [
    {
     "data": {
      "text/plain": [
       "0.4862161542799577"
      ]
     },
     "execution_count": 13,
     "metadata": {},
     "output_type": "execute_result"
    }
   ],
   "source": [
    "x_train, x_val, y_train, y_val = train_test_split(x_train_dum, y, stratify=y, random_state=42)\n",
    "rf = RandomForestClassifier(random_state = 23)\n",
    "rf.fit(x_train, y_train)\n",
    "pred = rf.predict(x_val)\n",
    "f1_score(y_val, pred, average='macro')"
   ]
  },
  {
   "cell_type": "code",
   "execution_count": 15,
   "id": "ed15c4f4",
   "metadata": {},
   "outputs": [
    {
     "data": {
      "text/html": [
       "<div>\n",
       "<style scoped>\n",
       "    .dataframe tbody tr th:only-of-type {\n",
       "        vertical-align: middle;\n",
       "    }\n",
       "\n",
       "    .dataframe tbody tr th {\n",
       "        vertical-align: top;\n",
       "    }\n",
       "\n",
       "    .dataframe thead th {\n",
       "        text-align: right;\n",
       "    }\n",
       "</style>\n",
       "<table border=\"1\" class=\"dataframe\">\n",
       "  <thead>\n",
       "    <tr style=\"text-align: right;\">\n",
       "      <th></th>\n",
       "      <th>pred</th>\n",
       "    </tr>\n",
       "  </thead>\n",
       "  <tbody>\n",
       "    <tr>\n",
       "      <th>0</th>\n",
       "      <td>1</td>\n",
       "    </tr>\n",
       "    <tr>\n",
       "      <th>1</th>\n",
       "      <td>3</td>\n",
       "    </tr>\n",
       "    <tr>\n",
       "      <th>2</th>\n",
       "      <td>3</td>\n",
       "    </tr>\n",
       "    <tr>\n",
       "      <th>3</th>\n",
       "      <td>3</td>\n",
       "    </tr>\n",
       "    <tr>\n",
       "      <th>4</th>\n",
       "      <td>1</td>\n",
       "    </tr>\n",
       "    <tr>\n",
       "      <th>...</th>\n",
       "      <td>...</td>\n",
       "    </tr>\n",
       "    <tr>\n",
       "      <th>2149</th>\n",
       "      <td>1</td>\n",
       "    </tr>\n",
       "    <tr>\n",
       "      <th>2150</th>\n",
       "      <td>4</td>\n",
       "    </tr>\n",
       "    <tr>\n",
       "      <th>2151</th>\n",
       "      <td>2</td>\n",
       "    </tr>\n",
       "    <tr>\n",
       "      <th>2152</th>\n",
       "      <td>3</td>\n",
       "    </tr>\n",
       "    <tr>\n",
       "      <th>2153</th>\n",
       "      <td>4</td>\n",
       "    </tr>\n",
       "  </tbody>\n",
       "</table>\n",
       "<p>2154 rows × 1 columns</p>\n",
       "</div>"
      ],
      "text/plain": [
       "      pred\n",
       "0        1\n",
       "1        3\n",
       "2        3\n",
       "3        3\n",
       "4        1\n",
       "...    ...\n",
       "2149     1\n",
       "2150     4\n",
       "2151     2\n",
       "2152     3\n",
       "2153     4\n",
       "\n",
       "[2154 rows x 1 columns]"
      ]
     },
     "execution_count": 15,
     "metadata": {},
     "output_type": "execute_result"
    }
   ],
   "source": [
    "test_pred = rf.predict(x_test_dum)\n",
    "pd.DataFrame({'pred' : test_pred}).to_csv('result16.csv', index = False)\n",
    "test_df = pd.read_csv('result16.csv')\n",
    "test_df"
   ]
  },
  {
   "cell_type": "code",
   "execution_count": null,
   "id": "a43f0b90",
   "metadata": {},
   "outputs": [],
   "source": []
  }
 ],
 "metadata": {
  "kernelspec": {
   "display_name": "Python 3 (ipykernel)",
   "language": "python",
   "name": "python3"
  },
  "language_info": {
   "codemirror_mode": {
    "name": "ipython",
    "version": 3
   },
   "file_extension": ".py",
   "mimetype": "text/x-python",
   "name": "python",
   "nbconvert_exporter": "python",
   "pygments_lexer": "ipython3",
   "version": "3.7.15"
  }
 },
 "nbformat": 4,
 "nbformat_minor": 5
}
