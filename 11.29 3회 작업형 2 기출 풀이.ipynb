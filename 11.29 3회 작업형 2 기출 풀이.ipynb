{
 "cells": [
  {
   "cell_type": "markdown",
   "id": "f4d87853",
   "metadata": {},
   "source": [
    "작업형2 기출 유형(심화)\n",
    "\n",
    "본 문제는 변형한 심화 문제 입니다.\n",
    "\n",
    "여행 보험 패키지 상품을 구매할 확률 값을 구하시오\n",
    "\n",
    "예측할 값(y): TravelInsurance (여행보험 패지지를 구매 했는지 여부 0:구매안함, 1:구매)\n",
    "\n",
    "평가: roc-auc 평가지표\n",
    "\n",
    "data: t2-1-train.csv, t2-1-test.csv\n",
    "\n",
    "제출 형식"
   ]
  },
  {
   "cell_type": "markdown",
   "id": "bce29862",
   "metadata": {},
   "source": [
    "3회 기출문제에서 데이터 셋을 편집해 조금 더 어렵게 만들었어요\n",
    "\n",
    "결측치 추가\n",
    "\n",
    "Employment Type 컬럼에 카테고리 추가\n",
    "\n",
    "sample_submission 파일은 제공된 적 없음(3회 때 제출 형식에 대한 이슈가 있어 제공하거나 제출 형식을 명확하게 설명할 가능성 있어 보임)"
   ]
  },
  {
   "cell_type": "code",
   "execution_count": 1,
   "id": "4e7b5e06",
   "metadata": {},
   "outputs": [],
   "source": [
    "import pandas as pd\n",
    "# 데이터 불러오기\n",
    "train = pd.read_csv(\"t2-1-train.csv\")\n",
    "test = pd.read_csv(\"t2-1-test.csv\")"
   ]
  },
  {
   "cell_type": "code",
   "execution_count": 2,
   "id": "3c7de1aa",
   "metadata": {},
   "outputs": [
    {
     "name": "stdout",
     "output_type": "stream",
     "text": [
      "<class 'pandas.core.frame.DataFrame'>\n",
      "RangeIndex: 1490 entries, 0 to 1489\n",
      "Data columns (total 10 columns):\n",
      " #   Column               Non-Null Count  Dtype  \n",
      "---  ------               --------------  -----  \n",
      " 0   id                   1490 non-null   int64  \n",
      " 1   Age                  1490 non-null   int64  \n",
      " 2   Employment Type      1490 non-null   object \n",
      " 3   GraduateOrNot        1490 non-null   object \n",
      " 4   AnnualIncome         1486 non-null   float64\n",
      " 5   FamilyMembers        1490 non-null   int64  \n",
      " 6   ChronicDiseases      1490 non-null   int64  \n",
      " 7   FrequentFlyer        1490 non-null   object \n",
      " 8   EverTravelledAbroad  1490 non-null   object \n",
      " 9   TravelInsurance      1490 non-null   int64  \n",
      "dtypes: float64(1), int64(5), object(4)\n",
      "memory usage: 116.5+ KB\n"
     ]
    }
   ],
   "source": [
    "train.info()"
   ]
  },
  {
   "cell_type": "code",
   "execution_count": 3,
   "id": "e8a367c5",
   "metadata": {},
   "outputs": [
    {
     "name": "stdout",
     "output_type": "stream",
     "text": [
      "<class 'pandas.core.frame.DataFrame'>\n",
      "RangeIndex: 1490 entries, 0 to 1489\n",
      "Data columns (total 10 columns):\n",
      " #   Column               Non-Null Count  Dtype  \n",
      "---  ------               --------------  -----  \n",
      " 0   id                   1490 non-null   int64  \n",
      " 1   Age                  1490 non-null   int64  \n",
      " 2   Employment Type      1490 non-null   object \n",
      " 3   GraduateOrNot        1490 non-null   object \n",
      " 4   AnnualIncome         1490 non-null   float64\n",
      " 5   FamilyMembers        1490 non-null   int64  \n",
      " 6   ChronicDiseases      1490 non-null   int64  \n",
      " 7   FrequentFlyer        1490 non-null   object \n",
      " 8   EverTravelledAbroad  1490 non-null   object \n",
      " 9   TravelInsurance      1490 non-null   int64  \n",
      "dtypes: float64(1), int64(5), object(4)\n",
      "memory usage: 116.5+ KB\n"
     ]
    }
   ],
   "source": [
    "train.AnnualIncome.fillna(train['AnnualIncome'].mean(), inplace = True)\n",
    "train.info()"
   ]
  },
  {
   "cell_type": "code",
   "execution_count": 13,
   "id": "e0766ec4",
   "metadata": {},
   "outputs": [
    {
     "data": {
      "text/html": [
       "<div>\n",
       "<style scoped>\n",
       "    .dataframe tbody tr th:only-of-type {\n",
       "        vertical-align: middle;\n",
       "    }\n",
       "\n",
       "    .dataframe tbody tr th {\n",
       "        vertical-align: top;\n",
       "    }\n",
       "\n",
       "    .dataframe thead th {\n",
       "        text-align: right;\n",
       "    }\n",
       "</style>\n",
       "<table border=\"1\" class=\"dataframe\">\n",
       "  <thead>\n",
       "    <tr style=\"text-align: right;\">\n",
       "      <th></th>\n",
       "      <th>id</th>\n",
       "      <th>Age</th>\n",
       "      <th>AnnualIncome</th>\n",
       "      <th>FamilyMembers</th>\n",
       "      <th>ChronicDiseases</th>\n",
       "      <th>TravelInsurance</th>\n",
       "    </tr>\n",
       "  </thead>\n",
       "  <tbody>\n",
       "    <tr>\n",
       "      <th>count</th>\n",
       "      <td>1490.000000</td>\n",
       "      <td>1490.000000</td>\n",
       "      <td>1.490000e+03</td>\n",
       "      <td>1490.000000</td>\n",
       "      <td>1490.000000</td>\n",
       "      <td>1490.000000</td>\n",
       "    </tr>\n",
       "    <tr>\n",
       "      <th>mean</th>\n",
       "      <td>10744.500000</td>\n",
       "      <td>29.600000</td>\n",
       "      <td>9.311238e+05</td>\n",
       "      <td>4.755705</td>\n",
       "      <td>0.280537</td>\n",
       "      <td>0.352349</td>\n",
       "    </tr>\n",
       "    <tr>\n",
       "      <th>std</th>\n",
       "      <td>430.270264</td>\n",
       "      <td>2.887829</td>\n",
       "      <td>3.759814e+05</td>\n",
       "      <td>1.603613</td>\n",
       "      <td>0.449412</td>\n",
       "      <td>0.477862</td>\n",
       "    </tr>\n",
       "    <tr>\n",
       "      <th>min</th>\n",
       "      <td>10000.000000</td>\n",
       "      <td>25.000000</td>\n",
       "      <td>3.000000e+05</td>\n",
       "      <td>2.000000</td>\n",
       "      <td>0.000000</td>\n",
       "      <td>0.000000</td>\n",
       "    </tr>\n",
       "    <tr>\n",
       "      <th>25%</th>\n",
       "      <td>10372.250000</td>\n",
       "      <td>28.000000</td>\n",
       "      <td>6.000000e+05</td>\n",
       "      <td>4.000000</td>\n",
       "      <td>0.000000</td>\n",
       "      <td>0.000000</td>\n",
       "    </tr>\n",
       "    <tr>\n",
       "      <th>50%</th>\n",
       "      <td>10744.500000</td>\n",
       "      <td>29.000000</td>\n",
       "      <td>9.000000e+05</td>\n",
       "      <td>5.000000</td>\n",
       "      <td>0.000000</td>\n",
       "      <td>0.000000</td>\n",
       "    </tr>\n",
       "    <tr>\n",
       "      <th>75%</th>\n",
       "      <td>11116.750000</td>\n",
       "      <td>32.000000</td>\n",
       "      <td>1.250000e+06</td>\n",
       "      <td>6.000000</td>\n",
       "      <td>1.000000</td>\n",
       "      <td>1.000000</td>\n",
       "    </tr>\n",
       "    <tr>\n",
       "      <th>max</th>\n",
       "      <td>11489.000000</td>\n",
       "      <td>35.000000</td>\n",
       "      <td>1.800000e+06</td>\n",
       "      <td>9.000000</td>\n",
       "      <td>1.000000</td>\n",
       "      <td>1.000000</td>\n",
       "    </tr>\n",
       "  </tbody>\n",
       "</table>\n",
       "</div>"
      ],
      "text/plain": [
       "                 id          Age  AnnualIncome  FamilyMembers  \\\n",
       "count   1490.000000  1490.000000  1.490000e+03    1490.000000   \n",
       "mean   10744.500000    29.600000  9.311238e+05       4.755705   \n",
       "std      430.270264     2.887829  3.759814e+05       1.603613   \n",
       "min    10000.000000    25.000000  3.000000e+05       2.000000   \n",
       "25%    10372.250000    28.000000  6.000000e+05       4.000000   \n",
       "50%    10744.500000    29.000000  9.000000e+05       5.000000   \n",
       "75%    11116.750000    32.000000  1.250000e+06       6.000000   \n",
       "max    11489.000000    35.000000  1.800000e+06       9.000000   \n",
       "\n",
       "       ChronicDiseases  TravelInsurance  \n",
       "count      1490.000000      1490.000000  \n",
       "mean          0.280537         0.352349  \n",
       "std           0.449412         0.477862  \n",
       "min           0.000000         0.000000  \n",
       "25%           0.000000         0.000000  \n",
       "50%           0.000000         0.000000  \n",
       "75%           1.000000         1.000000  \n",
       "max           1.000000         1.000000  "
      ]
     },
     "execution_count": 13,
     "metadata": {},
     "output_type": "execute_result"
    }
   ],
   "source": [
    "train.describe()"
   ]
  },
  {
   "cell_type": "code",
   "execution_count": 4,
   "id": "e14f44ff",
   "metadata": {},
   "outputs": [
    {
     "name": "stdout",
     "output_type": "stream",
     "text": [
      "<class 'pandas.core.frame.DataFrame'>\n",
      "RangeIndex: 497 entries, 0 to 496\n",
      "Data columns (total 9 columns):\n",
      " #   Column               Non-Null Count  Dtype  \n",
      "---  ------               --------------  -----  \n",
      " 0   id                   497 non-null    int64  \n",
      " 1   Age                  497 non-null    int64  \n",
      " 2   Employment Type      497 non-null    object \n",
      " 3   GraduateOrNot        497 non-null    object \n",
      " 4   AnnualIncome         497 non-null    float64\n",
      " 5   FamilyMembers        497 non-null    int64  \n",
      " 6   ChronicDiseases      497 non-null    int64  \n",
      " 7   FrequentFlyer        497 non-null    object \n",
      " 8   EverTravelledAbroad  497 non-null    object \n",
      "dtypes: float64(1), int64(4), object(4)\n",
      "memory usage: 35.1+ KB\n"
     ]
    }
   ],
   "source": [
    "test.AnnualIncome.fillna(test['AnnualIncome'].mean(), inplace = True)\n",
    "test.info()"
   ]
  },
  {
   "cell_type": "code",
   "execution_count": 5,
   "id": "bac75dd9",
   "metadata": {},
   "outputs": [
    {
     "data": {
      "text/plain": [
       "Private Sector/Self Employed    363\n",
       "Government Sector               134\n",
       "Name: Employment Type, dtype: int64"
      ]
     },
     "execution_count": 5,
     "metadata": {},
     "output_type": "execute_result"
    }
   ],
   "source": [
    "test.replace({'Employment Type' : {'Casual employment': 'Private Sector/Self Employed'}}, inplace = True)\n",
    "test['Employment Type'].value_counts()"
   ]
  },
  {
   "cell_type": "code",
   "execution_count": 6,
   "id": "aeee86bb",
   "metadata": {},
   "outputs": [],
   "source": [
    "drop_col = ['TravelInsurance', 'id']\n",
    "x_train = train.drop(columns = drop_col)\n",
    "x_test = test.drop(columns = ['id'])\n",
    "y = train['TravelInsurance']"
   ]
  },
  {
   "cell_type": "code",
   "execution_count": 7,
   "id": "fd3949a9",
   "metadata": {},
   "outputs": [
    {
     "data": {
      "text/plain": [
       "((1490, 8), (497, 8))"
      ]
     },
     "execution_count": 7,
     "metadata": {},
     "output_type": "execute_result"
    }
   ],
   "source": [
    "x_train.shape, x_test.shape"
   ]
  },
  {
   "cell_type": "code",
   "execution_count": 8,
   "id": "6262f3e2",
   "metadata": {},
   "outputs": [],
   "source": [
    "x_test = test\n",
    "x_train_dum = pd.get_dummies(x_train)\n",
    "x_test_dum = pd.get_dummies(x_test)\n",
    "x_test_dum = x_test_dum[x_train_dum.columns]"
   ]
  },
  {
   "cell_type": "code",
   "execution_count": 9,
   "id": "940ac62d",
   "metadata": {},
   "outputs": [],
   "source": [
    "from sklearn.model_selection import train_test_split\n",
    "from sklearn.metrics import roc_auc_score\n",
    "from sklearn.ensemble import RandomForestClassifier"
   ]
  },
  {
   "cell_type": "code",
   "execution_count": 10,
   "id": "a9c70981",
   "metadata": {},
   "outputs": [
    {
     "data": {
      "text/plain": [
       "0.8744716421676865"
      ]
     },
     "execution_count": 10,
     "metadata": {},
     "output_type": "execute_result"
    }
   ],
   "source": [
    "x_train, x_val, y_train, y_val = train_test_split(x_train_dum, y, stratify=y, random_state = 42)\n",
    "rf = RandomForestClassifier(random_state = 42)\n",
    "rf.fit(x_train, y_train)\n",
    "pred = rf.predict_proba(x_val)[:,1]\n",
    "roc_auc_score(y_val, pred)"
   ]
  },
  {
   "cell_type": "code",
   "execution_count": 11,
   "id": "4b1a3775",
   "metadata": {},
   "outputs": [
    {
     "data": {
      "text/plain": [
       "((1117, 12), (373, 12), (1117,), (373,))"
      ]
     },
     "execution_count": 11,
     "metadata": {},
     "output_type": "execute_result"
    }
   ],
   "source": [
    "x_train.shape, x_val.shape, y_train.shape, y_val.shape"
   ]
  },
  {
   "cell_type": "code",
   "execution_count": 15,
   "id": "6ba75906",
   "metadata": {},
   "outputs": [],
   "source": [
    "test_pred = rf.predict_proba(x_test_dum)[:,1]\n",
    "pd.DataFrame({'pred' : test_pred}).to_csv('result15.csv', index = False, encoding = 'cp949')\n",
    "read_test = pd.read_csv('result15.csv')"
   ]
  },
  {
   "cell_type": "code",
   "execution_count": 16,
   "id": "14ba1aed",
   "metadata": {},
   "outputs": [
    {
     "data": {
      "text/html": [
       "<div>\n",
       "<style scoped>\n",
       "    .dataframe tbody tr th:only-of-type {\n",
       "        vertical-align: middle;\n",
       "    }\n",
       "\n",
       "    .dataframe tbody tr th {\n",
       "        vertical-align: top;\n",
       "    }\n",
       "\n",
       "    .dataframe thead th {\n",
       "        text-align: right;\n",
       "    }\n",
       "</style>\n",
       "<table border=\"1\" class=\"dataframe\">\n",
       "  <thead>\n",
       "    <tr style=\"text-align: right;\">\n",
       "      <th></th>\n",
       "      <th>pred</th>\n",
       "    </tr>\n",
       "  </thead>\n",
       "  <tbody>\n",
       "    <tr>\n",
       "      <th>0</th>\n",
       "      <td>0.080000</td>\n",
       "    </tr>\n",
       "    <tr>\n",
       "      <th>1</th>\n",
       "      <td>0.016667</td>\n",
       "    </tr>\n",
       "    <tr>\n",
       "      <th>2</th>\n",
       "      <td>0.064714</td>\n",
       "    </tr>\n",
       "    <tr>\n",
       "      <th>3</th>\n",
       "      <td>0.990000</td>\n",
       "    </tr>\n",
       "    <tr>\n",
       "      <th>4</th>\n",
       "      <td>0.185202</td>\n",
       "    </tr>\n",
       "    <tr>\n",
       "      <th>...</th>\n",
       "      <td>...</td>\n",
       "    </tr>\n",
       "    <tr>\n",
       "      <th>492</th>\n",
       "      <td>0.111250</td>\n",
       "    </tr>\n",
       "    <tr>\n",
       "      <th>493</th>\n",
       "      <td>0.936667</td>\n",
       "    </tr>\n",
       "    <tr>\n",
       "      <th>494</th>\n",
       "      <td>0.010000</td>\n",
       "    </tr>\n",
       "    <tr>\n",
       "      <th>495</th>\n",
       "      <td>1.000000</td>\n",
       "    </tr>\n",
       "    <tr>\n",
       "      <th>496</th>\n",
       "      <td>1.000000</td>\n",
       "    </tr>\n",
       "  </tbody>\n",
       "</table>\n",
       "<p>497 rows × 1 columns</p>\n",
       "</div>"
      ],
      "text/plain": [
       "         pred\n",
       "0    0.080000\n",
       "1    0.016667\n",
       "2    0.064714\n",
       "3    0.990000\n",
       "4    0.185202\n",
       "..        ...\n",
       "492  0.111250\n",
       "493  0.936667\n",
       "494  0.010000\n",
       "495  1.000000\n",
       "496  1.000000\n",
       "\n",
       "[497 rows x 1 columns]"
      ]
     },
     "execution_count": 16,
     "metadata": {},
     "output_type": "execute_result"
    }
   ],
   "source": [
    "read_test"
   ]
  },
  {
   "cell_type": "code",
   "execution_count": 18,
   "id": "3cdb8b8e",
   "metadata": {},
   "outputs": [
    {
     "data": {
      "text/plain": [
       "0.8624219292158223"
      ]
     },
     "execution_count": 18,
     "metadata": {},
     "output_type": "execute_result"
    }
   ],
   "source": [
    "import xgboost as xgb\n",
    "model = xgb.XGBRFClassifier(random_state=2022)\n",
    "model.fit(x_train, y_train)\n",
    "pred = model.predict_proba(x_val)\n",
    "roc_auc_score(y_val, pred[:,1])"
   ]
  },
  {
   "cell_type": "code",
   "execution_count": null,
   "id": "9d4d74cf",
   "metadata": {},
   "outputs": [],
   "source": []
  }
 ],
 "metadata": {
  "kernelspec": {
   "display_name": "Python 3 (ipykernel)",
   "language": "python",
   "name": "python3"
  },
  "language_info": {
   "codemirror_mode": {
    "name": "ipython",
    "version": 3
   },
   "file_extension": ".py",
   "mimetype": "text/x-python",
   "name": "python",
   "nbconvert_exporter": "python",
   "pygments_lexer": "ipython3",
   "version": "3.7.15"
  }
 },
 "nbformat": 4,
 "nbformat_minor": 5
}
