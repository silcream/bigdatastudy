{
 "cells": [
  {
   "cell_type": "code",
   "execution_count": 2,
   "id": "b898b0c6",
   "metadata": {},
   "outputs": [
    {
     "name": "stdout",
     "output_type": "stream",
     "text": [
      "9\n"
     ]
    }
   ],
   "source": [
    "# 출력을 원할 경우 print() 함수 활용\n",
    "# 예시) print(df.head())\n",
    "\n",
    "# getcwd(), chdir() 등 작업 폴더 설정 불필요\n",
    "# 파일 경로 상 내부 드라이브 경로(C: 등) 접근 불가\n",
    "\n",
    "import pandas as pd\n",
    "# C:\\Users\\이세은\\Documents\\대학생활\\빅분기\n",
    "df = pd.read_csv(\"C:/Users/이세은/Documents/대학생활/빅분기/mtcars.csv\")\n",
    "min_value = df.qsec.min()\n",
    "max_value = df.qsec.max()\n",
    "\n",
    "df['scaled_value'] = (df.qsec - min_value)/(max_value - min_value)\n",
    "\n",
    "answer = df[df.scaled_value > 0.5].scaled_value\n",
    "print(len(answer))\n",
    "# 사용자 코딩\n",
    "\n",
    "# 해당 화면에서는 제출하지 않으며, 문제 풀이 후 답안제출에서 결괏값 제출"
   ]
  },
  {
   "cell_type": "code",
   "execution_count": 6,
   "id": "e7ef07a6",
   "metadata": {},
   "outputs": [
    {
     "name": "stdout",
     "output_type": "stream",
     "text": [
      "[[ 2.6422 -0.3539 -0.2007  0.0147]]\n",
      "-0.2007\n",
      "0.7019\n",
      "Optimization terminated successfully.\n",
      "         Current function value: 0.482065\n",
      "         Iterations 6\n",
      "                           Logit Regression Results                           \n",
      "==============================================================================\n",
      "Dep. Variable:               survived   No. Observations:                  891\n",
      "Model:                          Logit   Df Residuals:                      886\n",
      "Method:                           MLE   Df Model:                            4\n",
      "Date:                Wed, 29 Nov 2023   Pseudo R-squ.:                  0.2761\n",
      "Time:                        11:37:08   Log-Likelihood:                -429.52\n",
      "converged:                       True   LL-Null:                       -593.33\n",
      "Covariance Type:            nonrobust   LLR p-value:                 1.192e-69\n",
      "==============================================================================\n",
      "                 coef    std err          z      P>|z|      [0.025      0.975]\n",
      "------------------------------------------------------------------------------\n",
      "const         -1.6956      0.129    -13.098      0.000      -1.949      -1.442\n",
      "sex            2.6422      0.186     14.197      0.000       2.277       3.007\n",
      "sibsp         -0.3539      0.098     -3.604      0.000      -0.546      -0.161\n",
      "parch         -0.2007      0.112     -1.792      0.073      -0.420       0.019\n",
      "fare           0.0147      0.003      5.553      0.000       0.010       0.020\n",
      "==============================================================================\n"
     ]
    }
   ],
   "source": [
    "# 출력을 원할 경우 print() 함수 활용\n",
    "# 예시) print(df.head())\n",
    "\n",
    "# getcwd(), chdir() 등 작업 폴더 설정 불필요\n",
    "# 파일 경로 상 내부 드라이브 경로(C: 등) 접근 불가\n",
    "\n",
    "import pandas as pd\n",
    "import numpy as np\n",
    "# import scipy.stats\n",
    "# print(dir(scipy.stats))\n",
    "\n",
    "from scipy.stats import chi2_contingency\n",
    "import seaborn as sns\n",
    "df = sns.load_dataset('titanic')\n",
    "# df = pd.read_csv(\"data/Titanic.csv\")\n",
    "# ddf = pd.crosstab(df['Gender'], df['Survived'])\n",
    "# s, p, _, _ = chi2_contingency(ddf)\n",
    "# print(round(s, 3))\n",
    "\n",
    "df = df[['sex', 'sibsp', 'parch', 'fare', 'survived']]\n",
    "df.sex = df.sex.map({'female' : 1, 'male' : 0})\n",
    "\n",
    "x = df.drop(columns = ['survived'])\n",
    "y = df['survived']\n",
    "\n",
    "from sklearn.linear_model import LogisticRegression\n",
    "model1= LogisticRegression(penalty = 'none')\n",
    "model1.fit(x, y)\n",
    "\n",
    "print(np.round(model1.coef_, 4))\n",
    "print(np.round(model1.coef_[0,2], 4))\n",
    "print(np.round(np.exp(model1.coef_[0,1]), 4))\n",
    "\n",
    "import statsmodels.api as sm\n",
    "x = sm.add_constant(x)\n",
    "model2 = sm.Logit(y, x).fit()\n",
    "summary = model2.summary()\n",
    "print(summary)\n",
    "# 사용자 코딩\n",
    "\n",
    "# 해당 화면에서는 제출하지 않으며, 문제 풀이 후 답안제출에서 결괏값 제출"
   ]
  },
  {
   "cell_type": "code",
   "execution_count": null,
   "id": "82cbd012",
   "metadata": {},
   "outputs": [],
   "source": []
  }
 ],
 "metadata": {
  "kernelspec": {
   "display_name": "Python 3 (ipykernel)",
   "language": "python",
   "name": "python3"
  },
  "language_info": {
   "codemirror_mode": {
    "name": "ipython",
    "version": 3
   },
   "file_extension": ".py",
   "mimetype": "text/x-python",
   "name": "python",
   "nbconvert_exporter": "python",
   "pygments_lexer": "ipython3",
   "version": "3.7.15"
  }
 },
 "nbformat": 4,
 "nbformat_minor": 5
}
